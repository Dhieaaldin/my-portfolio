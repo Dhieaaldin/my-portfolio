{
  "cells": [
    {
      "cell_type": "markdown",
      "source": [
        "## Grid navigation problem"
      ],
      "metadata": {
        "id": "gjiCk2FsS_Dq"
      },
      "id": "gjiCk2FsS_Dq"
    },
    {
      "cell_type": "markdown",
      "source": [
        "#### simulating a product picking operation in a warehouse and finding the shortest route between all products"
      ],
      "metadata": {
        "id": "l2gxFf8BTErc"
      },
      "id": "l2gxFf8BTErc"
    },
    {
      "cell_type": "code",
      "source": [
        "from google.colab import drive\n",
        "drive.mount('/content/drive')"
      ],
      "metadata": {
        "colab": {
          "base_uri": "https://localhost:8080/"
        },
        "id": "DZh11lPE8Hwp",
        "outputId": "8fcd7871-b301-4b62-e3db-a28f4e40dce7"
      },
      "id": "DZh11lPE8Hwp",
      "execution_count": null,
      "outputs": [
        {
          "output_type": "stream",
          "name": "stdout",
          "text": [
            "Drive already mounted at /content/drive; to attempt to forcibly remount, call drive.mount(\"/content/drive\", force_remount=True).\n"
          ]
        }
      ]
    },
    {
      "cell_type": "code",
      "execution_count": null,
      "id": "662903da-fe24-4cb7-be43-15b90b028a20",
      "metadata": {
        "id": "662903da-fe24-4cb7-be43-15b90b028a20"
      },
      "outputs": [],
      "source": [
        "import pandas as pd\n",
        "import plotly.express as px\n",
        "import numpy as np"
      ]
    },
    {
      "cell_type": "code",
      "execution_count": null,
      "id": "997a7806-8686-41e4-993f-fb7e4acf0b34",
      "metadata": {
        "id": "997a7806-8686-41e4-993f-fb7e4acf0b34",
        "colab": {
          "base_uri": "https://localhost:8080/",
          "height": 206
        },
        "outputId": "abb8400c-5c42-45c0-c76d-9356fe385426"
      },
      "outputs": [
        {
          "output_type": "execute_result",
          "data": {
            "text/plain": [
              "       SKU      Product Name     Category  Quantity Aisle  Shelf  Bin  \\\n",
              "0  SKU1000  Portable Charger  Electronics        77    A2      7    7   \n",
              "1  SKU1001         Mouse Pad  Accessories       187    A2      7    3   \n",
              "2  SKU1002         USB Cable  Electronics        49    A3      3    6   \n",
              "3  SKU1003           Pen Set   Stationery         6    A3      8    8   \n",
              "4  SKU1004      Office Chair    Furniture       132    A2      1   10   \n",
              "\n",
              "   Reorder Level  \n",
              "0             19  \n",
              "1             14  \n",
              "2             14  \n",
              "3              5  \n",
              "4              8  "
            ],
            "text/html": [
              "\n",
              "  <div id=\"df-e323f4ef-dfa8-4775-9b43-4fa90d2399a8\" class=\"colab-df-container\">\n",
              "    <div>\n",
              "<style scoped>\n",
              "    .dataframe tbody tr th:only-of-type {\n",
              "        vertical-align: middle;\n",
              "    }\n",
              "\n",
              "    .dataframe tbody tr th {\n",
              "        vertical-align: top;\n",
              "    }\n",
              "\n",
              "    .dataframe thead th {\n",
              "        text-align: right;\n",
              "    }\n",
              "</style>\n",
              "<table border=\"1\" class=\"dataframe\">\n",
              "  <thead>\n",
              "    <tr style=\"text-align: right;\">\n",
              "      <th></th>\n",
              "      <th>SKU</th>\n",
              "      <th>Product Name</th>\n",
              "      <th>Category</th>\n",
              "      <th>Quantity</th>\n",
              "      <th>Aisle</th>\n",
              "      <th>Shelf</th>\n",
              "      <th>Bin</th>\n",
              "      <th>Reorder Level</th>\n",
              "    </tr>\n",
              "  </thead>\n",
              "  <tbody>\n",
              "    <tr>\n",
              "      <th>0</th>\n",
              "      <td>SKU1000</td>\n",
              "      <td>Portable Charger</td>\n",
              "      <td>Electronics</td>\n",
              "      <td>77</td>\n",
              "      <td>A2</td>\n",
              "      <td>7</td>\n",
              "      <td>7</td>\n",
              "      <td>19</td>\n",
              "    </tr>\n",
              "    <tr>\n",
              "      <th>1</th>\n",
              "      <td>SKU1001</td>\n",
              "      <td>Mouse Pad</td>\n",
              "      <td>Accessories</td>\n",
              "      <td>187</td>\n",
              "      <td>A2</td>\n",
              "      <td>7</td>\n",
              "      <td>3</td>\n",
              "      <td>14</td>\n",
              "    </tr>\n",
              "    <tr>\n",
              "      <th>2</th>\n",
              "      <td>SKU1002</td>\n",
              "      <td>USB Cable</td>\n",
              "      <td>Electronics</td>\n",
              "      <td>49</td>\n",
              "      <td>A3</td>\n",
              "      <td>3</td>\n",
              "      <td>6</td>\n",
              "      <td>14</td>\n",
              "    </tr>\n",
              "    <tr>\n",
              "      <th>3</th>\n",
              "      <td>SKU1003</td>\n",
              "      <td>Pen Set</td>\n",
              "      <td>Stationery</td>\n",
              "      <td>6</td>\n",
              "      <td>A3</td>\n",
              "      <td>8</td>\n",
              "      <td>8</td>\n",
              "      <td>5</td>\n",
              "    </tr>\n",
              "    <tr>\n",
              "      <th>4</th>\n",
              "      <td>SKU1004</td>\n",
              "      <td>Office Chair</td>\n",
              "      <td>Furniture</td>\n",
              "      <td>132</td>\n",
              "      <td>A2</td>\n",
              "      <td>1</td>\n",
              "      <td>10</td>\n",
              "      <td>8</td>\n",
              "    </tr>\n",
              "  </tbody>\n",
              "</table>\n",
              "</div>\n",
              "    <div class=\"colab-df-buttons\">\n",
              "\n",
              "  <div class=\"colab-df-container\">\n",
              "    <button class=\"colab-df-convert\" onclick=\"convertToInteractive('df-e323f4ef-dfa8-4775-9b43-4fa90d2399a8')\"\n",
              "            title=\"Convert this dataframe to an interactive table.\"\n",
              "            style=\"display:none;\">\n",
              "\n",
              "  <svg xmlns=\"http://www.w3.org/2000/svg\" height=\"24px\" viewBox=\"0 -960 960 960\">\n",
              "    <path d=\"M120-120v-720h720v720H120Zm60-500h600v-160H180v160Zm220 220h160v-160H400v160Zm0 220h160v-160H400v160ZM180-400h160v-160H180v160Zm440 0h160v-160H620v160ZM180-180h160v-160H180v160Zm440 0h160v-160H620v160Z\"/>\n",
              "  </svg>\n",
              "    </button>\n",
              "\n",
              "  <style>\n",
              "    .colab-df-container {\n",
              "      display:flex;\n",
              "      gap: 12px;\n",
              "    }\n",
              "\n",
              "    .colab-df-convert {\n",
              "      background-color: #E8F0FE;\n",
              "      border: none;\n",
              "      border-radius: 50%;\n",
              "      cursor: pointer;\n",
              "      display: none;\n",
              "      fill: #1967D2;\n",
              "      height: 32px;\n",
              "      padding: 0 0 0 0;\n",
              "      width: 32px;\n",
              "    }\n",
              "\n",
              "    .colab-df-convert:hover {\n",
              "      background-color: #E2EBFA;\n",
              "      box-shadow: 0px 1px 2px rgba(60, 64, 67, 0.3), 0px 1px 3px 1px rgba(60, 64, 67, 0.15);\n",
              "      fill: #174EA6;\n",
              "    }\n",
              "\n",
              "    .colab-df-buttons div {\n",
              "      margin-bottom: 4px;\n",
              "    }\n",
              "\n",
              "    [theme=dark] .colab-df-convert {\n",
              "      background-color: #3B4455;\n",
              "      fill: #D2E3FC;\n",
              "    }\n",
              "\n",
              "    [theme=dark] .colab-df-convert:hover {\n",
              "      background-color: #434B5C;\n",
              "      box-shadow: 0px 1px 3px 1px rgba(0, 0, 0, 0.15);\n",
              "      filter: drop-shadow(0px 1px 2px rgba(0, 0, 0, 0.3));\n",
              "      fill: #FFFFFF;\n",
              "    }\n",
              "  </style>\n",
              "\n",
              "    <script>\n",
              "      const buttonEl =\n",
              "        document.querySelector('#df-e323f4ef-dfa8-4775-9b43-4fa90d2399a8 button.colab-df-convert');\n",
              "      buttonEl.style.display =\n",
              "        google.colab.kernel.accessAllowed ? 'block' : 'none';\n",
              "\n",
              "      async function convertToInteractive(key) {\n",
              "        const element = document.querySelector('#df-e323f4ef-dfa8-4775-9b43-4fa90d2399a8');\n",
              "        const dataTable =\n",
              "          await google.colab.kernel.invokeFunction('convertToInteractive',\n",
              "                                                    [key], {});\n",
              "        if (!dataTable) return;\n",
              "\n",
              "        const docLinkHtml = 'Like what you see? Visit the ' +\n",
              "          '<a target=\"_blank\" href=https://colab.research.google.com/notebooks/data_table.ipynb>data table notebook</a>'\n",
              "          + ' to learn more about interactive tables.';\n",
              "        element.innerHTML = '';\n",
              "        dataTable['output_type'] = 'display_data';\n",
              "        await google.colab.output.renderOutput(dataTable, element);\n",
              "        const docLink = document.createElement('div');\n",
              "        docLink.innerHTML = docLinkHtml;\n",
              "        element.appendChild(docLink);\n",
              "      }\n",
              "    </script>\n",
              "  </div>\n",
              "\n",
              "\n",
              "<div id=\"df-b965fb74-dd2c-49e5-9457-e854e83ed30a\">\n",
              "  <button class=\"colab-df-quickchart\" onclick=\"quickchart('df-b965fb74-dd2c-49e5-9457-e854e83ed30a')\"\n",
              "            title=\"Suggest charts\"\n",
              "            style=\"display:none;\">\n",
              "\n",
              "<svg xmlns=\"http://www.w3.org/2000/svg\" height=\"24px\"viewBox=\"0 0 24 24\"\n",
              "     width=\"24px\">\n",
              "    <g>\n",
              "        <path d=\"M19 3H5c-1.1 0-2 .9-2 2v14c0 1.1.9 2 2 2h14c1.1 0 2-.9 2-2V5c0-1.1-.9-2-2-2zM9 17H7v-7h2v7zm4 0h-2V7h2v10zm4 0h-2v-4h2v4z\"/>\n",
              "    </g>\n",
              "</svg>\n",
              "  </button>\n",
              "\n",
              "<style>\n",
              "  .colab-df-quickchart {\n",
              "      --bg-color: #E8F0FE;\n",
              "      --fill-color: #1967D2;\n",
              "      --hover-bg-color: #E2EBFA;\n",
              "      --hover-fill-color: #174EA6;\n",
              "      --disabled-fill-color: #AAA;\n",
              "      --disabled-bg-color: #DDD;\n",
              "  }\n",
              "\n",
              "  [theme=dark] .colab-df-quickchart {\n",
              "      --bg-color: #3B4455;\n",
              "      --fill-color: #D2E3FC;\n",
              "      --hover-bg-color: #434B5C;\n",
              "      --hover-fill-color: #FFFFFF;\n",
              "      --disabled-bg-color: #3B4455;\n",
              "      --disabled-fill-color: #666;\n",
              "  }\n",
              "\n",
              "  .colab-df-quickchart {\n",
              "    background-color: var(--bg-color);\n",
              "    border: none;\n",
              "    border-radius: 50%;\n",
              "    cursor: pointer;\n",
              "    display: none;\n",
              "    fill: var(--fill-color);\n",
              "    height: 32px;\n",
              "    padding: 0;\n",
              "    width: 32px;\n",
              "  }\n",
              "\n",
              "  .colab-df-quickchart:hover {\n",
              "    background-color: var(--hover-bg-color);\n",
              "    box-shadow: 0 1px 2px rgba(60, 64, 67, 0.3), 0 1px 3px 1px rgba(60, 64, 67, 0.15);\n",
              "    fill: var(--button-hover-fill-color);\n",
              "  }\n",
              "\n",
              "  .colab-df-quickchart-complete:disabled,\n",
              "  .colab-df-quickchart-complete:disabled:hover {\n",
              "    background-color: var(--disabled-bg-color);\n",
              "    fill: var(--disabled-fill-color);\n",
              "    box-shadow: none;\n",
              "  }\n",
              "\n",
              "  .colab-df-spinner {\n",
              "    border: 2px solid var(--fill-color);\n",
              "    border-color: transparent;\n",
              "    border-bottom-color: var(--fill-color);\n",
              "    animation:\n",
              "      spin 1s steps(1) infinite;\n",
              "  }\n",
              "\n",
              "  @keyframes spin {\n",
              "    0% {\n",
              "      border-color: transparent;\n",
              "      border-bottom-color: var(--fill-color);\n",
              "      border-left-color: var(--fill-color);\n",
              "    }\n",
              "    20% {\n",
              "      border-color: transparent;\n",
              "      border-left-color: var(--fill-color);\n",
              "      border-top-color: var(--fill-color);\n",
              "    }\n",
              "    30% {\n",
              "      border-color: transparent;\n",
              "      border-left-color: var(--fill-color);\n",
              "      border-top-color: var(--fill-color);\n",
              "      border-right-color: var(--fill-color);\n",
              "    }\n",
              "    40% {\n",
              "      border-color: transparent;\n",
              "      border-right-color: var(--fill-color);\n",
              "      border-top-color: var(--fill-color);\n",
              "    }\n",
              "    60% {\n",
              "      border-color: transparent;\n",
              "      border-right-color: var(--fill-color);\n",
              "    }\n",
              "    80% {\n",
              "      border-color: transparent;\n",
              "      border-right-color: var(--fill-color);\n",
              "      border-bottom-color: var(--fill-color);\n",
              "    }\n",
              "    90% {\n",
              "      border-color: transparent;\n",
              "      border-bottom-color: var(--fill-color);\n",
              "    }\n",
              "  }\n",
              "</style>\n",
              "\n",
              "  <script>\n",
              "    async function quickchart(key) {\n",
              "      const quickchartButtonEl =\n",
              "        document.querySelector('#' + key + ' button');\n",
              "      quickchartButtonEl.disabled = true;  // To prevent multiple clicks.\n",
              "      quickchartButtonEl.classList.add('colab-df-spinner');\n",
              "      try {\n",
              "        const charts = await google.colab.kernel.invokeFunction(\n",
              "            'suggestCharts', [key], {});\n",
              "      } catch (error) {\n",
              "        console.error('Error during call to suggestCharts:', error);\n",
              "      }\n",
              "      quickchartButtonEl.classList.remove('colab-df-spinner');\n",
              "      quickchartButtonEl.classList.add('colab-df-quickchart-complete');\n",
              "    }\n",
              "    (() => {\n",
              "      let quickchartButtonEl =\n",
              "        document.querySelector('#df-b965fb74-dd2c-49e5-9457-e854e83ed30a button');\n",
              "      quickchartButtonEl.style.display =\n",
              "        google.colab.kernel.accessAllowed ? 'block' : 'none';\n",
              "    })();\n",
              "  </script>\n",
              "</div>\n",
              "\n",
              "    </div>\n",
              "  </div>\n"
            ],
            "application/vnd.google.colaboratory.intrinsic+json": {
              "type": "dataframe",
              "variable_name": "df",
              "summary": "{\n  \"name\": \"df\",\n  \"rows\": 500,\n  \"fields\": [\n    {\n      \"column\": \"SKU\",\n      \"properties\": {\n        \"dtype\": \"string\",\n        \"num_unique_values\": 500,\n        \"samples\": [\n          \"SKU1361\",\n          \"SKU1073\",\n          \"SKU1374\"\n        ],\n        \"semantic_type\": \"\",\n        \"description\": \"\"\n      }\n    },\n    {\n      \"column\": \"Product Name\",\n      \"properties\": {\n        \"dtype\": \"category\",\n        \"num_unique_values\": 25,\n        \"samples\": [\n          \"Stapler\",\n          \"Coffee Maker\",\n          \"Portable Charger\"\n        ],\n        \"semantic_type\": \"\",\n        \"description\": \"\"\n      }\n    },\n    {\n      \"column\": \"Category\",\n      \"properties\": {\n        \"dtype\": \"category\",\n        \"num_unique_values\": 5,\n        \"samples\": [\n          \"Accessories\",\n          \"Appliances\",\n          \"Stationery\"\n        ],\n        \"semantic_type\": \"\",\n        \"description\": \"\"\n      }\n    },\n    {\n      \"column\": \"Quantity\",\n      \"properties\": {\n        \"dtype\": \"number\",\n        \"std\": 58,\n        \"min\": 2,\n        \"max\": 200,\n        \"num_unique_values\": 183,\n        \"samples\": [\n          87,\n          146,\n          110\n        ],\n        \"semantic_type\": \"\",\n        \"description\": \"\"\n      }\n    },\n    {\n      \"column\": \"Aisle\",\n      \"properties\": {\n        \"dtype\": \"category\",\n        \"num_unique_values\": 5,\n        \"samples\": [\n          \"A3\",\n          \"A5\",\n          \"A1\"\n        ],\n        \"semantic_type\": \"\",\n        \"description\": \"\"\n      }\n    },\n    {\n      \"column\": \"Shelf\",\n      \"properties\": {\n        \"dtype\": \"number\",\n        \"std\": 2,\n        \"min\": 1,\n        \"max\": 10,\n        \"num_unique_values\": 10,\n        \"samples\": [\n          4,\n          3,\n          9\n        ],\n        \"semantic_type\": \"\",\n        \"description\": \"\"\n      }\n    },\n    {\n      \"column\": \"Bin\",\n      \"properties\": {\n        \"dtype\": \"number\",\n        \"std\": 2,\n        \"min\": 1,\n        \"max\": 10,\n        \"num_unique_values\": 10,\n        \"samples\": [\n          4,\n          3,\n          9\n        ],\n        \"semantic_type\": \"\",\n        \"description\": \"\"\n      }\n    },\n    {\n      \"column\": \"Reorder Level\",\n      \"properties\": {\n        \"dtype\": \"number\",\n        \"std\": 4,\n        \"min\": 5,\n        \"max\": 20,\n        \"num_unique_values\": 16,\n        \"samples\": [\n          19,\n          14,\n          18\n        ],\n        \"semantic_type\": \"\",\n        \"description\": \"\"\n      }\n    }\n  ]\n}"
            }
          },
          "metadata": {},
          "execution_count": 108
        }
      ],
      "source": [
        "import pandas as pd\n",
        "df=pd.read_csv(\"/content/drive/MyDrive/Inventory Managment project/AZ.csv\")\n",
        "df.head()"
      ]
    },
    {
      "cell_type": "code",
      "execution_count": null,
      "id": "3d1bcf42-e90a-49f4-8188-d70b6b576b97",
      "metadata": {
        "id": "3d1bcf42-e90a-49f4-8188-d70b6b576b97",
        "colab": {
          "base_uri": "https://localhost:8080/"
        },
        "outputId": "524be85f-87ec-44d3-af3b-80772ac25358"
      },
      "outputs": [
        {
          "output_type": "stream",
          "name": "stdout",
          "text": [
            "<class 'pandas.core.frame.DataFrame'>\n",
            "RangeIndex: 500 entries, 0 to 499\n",
            "Data columns (total 8 columns):\n",
            " #   Column         Non-Null Count  Dtype \n",
            "---  ------         --------------  ----- \n",
            " 0   SKU            500 non-null    object\n",
            " 1   Product Name   500 non-null    object\n",
            " 2   Category       500 non-null    object\n",
            " 3   Quantity       500 non-null    int64 \n",
            " 4   Aisle          500 non-null    object\n",
            " 5   Shelf          500 non-null    int64 \n",
            " 6   Bin            500 non-null    int64 \n",
            " 7   Reorder Level  500 non-null    int64 \n",
            "dtypes: int64(4), object(4)\n",
            "memory usage: 31.4+ KB\n"
          ]
        }
      ],
      "source": [
        "df.info()"
      ]
    },
    {
      "cell_type": "code",
      "execution_count": null,
      "id": "daedb152-8831-4312-a9c1-2888dcb5ad0d",
      "metadata": {
        "id": "daedb152-8831-4312-a9c1-2888dcb5ad0d",
        "colab": {
          "base_uri": "https://localhost:8080/"
        },
        "outputId": "8ef64f33-83c4-49b4-9d0e-23e75c30d3ca"
      },
      "outputs": [
        {
          "output_type": "stream",
          "name": "stdout",
          "text": [
            "{'Product Name': ['Portable Charger', 'Mouse Pad', 'USB Cable', 'Pen Set', 'Office Chair', 'Drawer Set', 'Highlighter Pack', 'Microwave Oven', 'Stapler', 'Toaster', 'Backpack', 'Bookshelf', 'Water Bottle', 'Wireless Mouse', 'Sticky Notes', 'Electric Kettle', 'Coffee Maker', 'Standing Desk', 'Filing Cabinet', 'Blender', 'Travel Mug', 'Notebook', 'Noise-Canceling Headset', 'Laptop Sleeve', 'Laptop Stand'], 'Category': ['Electronics', 'Accessories', 'Stationery', 'Furniture', 'Appliances'], 'Aisle': ['A2', 'A3', 'A1', 'A4', 'A5'], 'Shelf': [7, 3, 8, 1, 2, 9, 5, 10, 4, 6], 'Bin': [7, 3, 6, 8, 10, 9, 1, 5, 4, 2], 'Reorder Level': [19, 14, 5, 8, 16, 18, 9, 20, 13, 17, 10, 7, 11, 12, 6, 15]}\n"
          ]
        }
      ],
      "source": [
        "l=dict()\n",
        "for i in df.columns[1:]:\n",
        "    if i!=\"Quantity\":\n",
        "        l[i]=list(df[i].unique())\n",
        "print(l)"
      ]
    },
    {
      "cell_type": "code",
      "execution_count": null,
      "id": "9e782cfd-2d94-49dc-aba8-1d3083c587ec",
      "metadata": {
        "id": "9e782cfd-2d94-49dc-aba8-1d3083c587ec",
        "colab": {
          "base_uri": "https://localhost:8080/"
        },
        "outputId": "6cd4ed70-4ca5-4805-fccf-2b7d44662384"
      },
      "outputs": [
        {
          "output_type": "stream",
          "name": "stdout",
          "text": [
            "['Electronics' 'Accessories' 'Furniture' 'Appliances' 'Stationery']\n",
            "['Electronics' 'Stationery' 'Accessories' 'Furniture' 'Appliances']\n",
            "['Furniture' 'Stationery' 'Appliances' 'Electronics' 'Accessories']\n",
            "['Stationery' 'Furniture' 'Electronics' 'Appliances' 'Accessories']\n",
            "['Furniture' 'Appliances' 'Stationery' 'Accessories' 'Electronics']\n"
          ]
        }
      ],
      "source": [
        "for i in df[\"Aisle\"].unique():\n",
        "    print(df[df[\"Aisle\"]==i][\"Category\"].unique())"
      ]
    },
    {
      "cell_type": "markdown",
      "id": "70d21ee1-35ad-4c1f-bb7b-405a85c19064",
      "metadata": {
        "id": "70d21ee1-35ad-4c1f-bb7b-405a85c19064"
      },
      "source": [
        "#### Distribution of products in each Aisle by category"
      ]
    },
    {
      "cell_type": "code",
      "execution_count": null,
      "id": "68265ac9-d489-49c9-86a7-dd09e4a3880a",
      "metadata": {
        "id": "68265ac9-d489-49c9-86a7-dd09e4a3880a",
        "colab": {
          "base_uri": "https://localhost:8080/",
          "height": 542
        },
        "outputId": "050d82be-5e22-4b10-d479-ee0f93bbd560"
      },
      "outputs": [
        {
          "output_type": "display_data",
          "data": {
            "text/html": [
              "<html>\n",
              "<head><meta charset=\"utf-8\" /></head>\n",
              "<body>\n",
              "    <div>            <script src=\"https://cdnjs.cloudflare.com/ajax/libs/mathjax/2.7.5/MathJax.js?config=TeX-AMS-MML_SVG\"></script><script type=\"text/javascript\">if (window.MathJax && window.MathJax.Hub && window.MathJax.Hub.Config) {window.MathJax.Hub.Config({SVG: {font: \"STIX-Web\"}});}</script>                <script type=\"text/javascript\">window.PlotlyConfig = {MathJaxConfig: 'local'};</script>\n",
              "        <script charset=\"utf-8\" src=\"https://cdn.plot.ly/plotly-2.35.2.min.js\"></script>                <div id=\"b32c8e37-b9d9-4649-9bd2-455909c96213\" class=\"plotly-graph-div\" style=\"height:525px; width:100%;\"></div>            <script type=\"text/javascript\">                                    window.PLOTLYENV=window.PLOTLYENV || {};                                    if (document.getElementById(\"b32c8e37-b9d9-4649-9bd2-455909c96213\")) {                    Plotly.newPlot(                        \"b32c8e37-b9d9-4649-9bd2-455909c96213\",                        [{\"alignmentgroup\":\"True\",\"hovertemplate\":\"Category=%{y}\\u003cbr\\u003eAisle=%{x}\\u003cextra\\u003e\\u003c\\u002fextra\\u003e\",\"legendgroup\":\"Electronics\",\"marker\":{\"color\":\"#636efa\",\"pattern\":{\"shape\":\"\"}},\"name\":\"Electronics\",\"offsetgroup\":\"Electronics\",\"orientation\":\"v\",\"showlegend\":true,\"textposition\":\"auto\",\"x\":[\"A2\",\"A3\",\"A2\",\"A4\",\"A1\",\"A3\",\"A4\",\"A2\",\"A3\",\"A2\",\"A3\",\"A1\",\"A2\",\"A2\",\"A4\",\"A5\",\"A1\",\"A1\",\"A3\",\"A5\",\"A5\",\"A1\",\"A4\",\"A5\",\"A4\",\"A4\",\"A3\",\"A1\",\"A5\",\"A3\",\"A4\",\"A3\",\"A1\",\"A2\",\"A4\",\"A4\",\"A1\",\"A2\",\"A3\",\"A2\",\"A3\",\"A5\",\"A3\",\"A3\",\"A5\",\"A3\",\"A1\",\"A4\",\"A1\",\"A5\",\"A4\",\"A5\",\"A4\",\"A2\",\"A5\",\"A1\",\"A5\",\"A3\",\"A4\",\"A3\",\"A1\",\"A1\",\"A5\",\"A2\",\"A1\",\"A2\",\"A4\",\"A2\",\"A2\",\"A5\",\"A3\",\"A1\",\"A4\",\"A3\",\"A5\",\"A1\",\"A3\",\"A3\",\"A3\",\"A3\",\"A1\",\"A5\",\"A3\",\"A2\",\"A3\",\"A1\",\"A3\",\"A2\",\"A5\",\"A1\",\"A1\",\"A3\",\"A5\",\"A2\"],\"xaxis\":\"x\",\"y\":[\"Electronics\",\"Electronics\",\"Electronics\",\"Electronics\",\"Electronics\",\"Electronics\",\"Electronics\",\"Electronics\",\"Electronics\",\"Electronics\",\"Electronics\",\"Electronics\",\"Electronics\",\"Electronics\",\"Electronics\",\"Electronics\",\"Electronics\",\"Electronics\",\"Electronics\",\"Electronics\",\"Electronics\",\"Electronics\",\"Electronics\",\"Electronics\",\"Electronics\",\"Electronics\",\"Electronics\",\"Electronics\",\"Electronics\",\"Electronics\",\"Electronics\",\"Electronics\",\"Electronics\",\"Electronics\",\"Electronics\",\"Electronics\",\"Electronics\",\"Electronics\",\"Electronics\",\"Electronics\",\"Electronics\",\"Electronics\",\"Electronics\",\"Electronics\",\"Electronics\",\"Electronics\",\"Electronics\",\"Electronics\",\"Electronics\",\"Electronics\",\"Electronics\",\"Electronics\",\"Electronics\",\"Electronics\",\"Electronics\",\"Electronics\",\"Electronics\",\"Electronics\",\"Electronics\",\"Electronics\",\"Electronics\",\"Electronics\",\"Electronics\",\"Electronics\",\"Electronics\",\"Electronics\",\"Electronics\",\"Electronics\",\"Electronics\",\"Electronics\",\"Electronics\",\"Electronics\",\"Electronics\",\"Electronics\",\"Electronics\",\"Electronics\",\"Electronics\",\"Electronics\",\"Electronics\",\"Electronics\",\"Electronics\",\"Electronics\",\"Electronics\",\"Electronics\",\"Electronics\",\"Electronics\",\"Electronics\",\"Electronics\",\"Electronics\",\"Electronics\",\"Electronics\",\"Electronics\",\"Electronics\",\"Electronics\"],\"yaxis\":\"y\",\"type\":\"bar\"},{\"alignmentgroup\":\"True\",\"hovertemplate\":\"Category=%{y}\\u003cbr\\u003eAisle=%{x}\\u003cextra\\u003e\\u003c\\u002fextra\\u003e\",\"legendgroup\":\"Accessories\",\"marker\":{\"color\":\"#EF553B\",\"pattern\":{\"shape\":\"\"}},\"name\":\"Accessories\",\"offsetgroup\":\"Accessories\",\"orientation\":\"v\",\"showlegend\":true,\"textposition\":\"auto\",\"x\":[\"A2\",\"A3\",\"A2\",\"A2\",\"A3\",\"A5\",\"A1\",\"A1\",\"A4\",\"A4\",\"A3\",\"A1\",\"A2\",\"A2\",\"A2\",\"A2\",\"A3\",\"A2\",\"A4\",\"A2\",\"A1\",\"A4\",\"A1\",\"A3\",\"A1\",\"A4\",\"A4\",\"A5\",\"A4\",\"A3\",\"A5\",\"A1\",\"A4\",\"A4\",\"A3\",\"A1\",\"A2\",\"A5\",\"A3\",\"A3\",\"A4\",\"A1\",\"A5\",\"A5\",\"A3\",\"A4\",\"A1\",\"A3\",\"A3\",\"A1\",\"A3\",\"A5\",\"A5\",\"A3\",\"A4\",\"A5\",\"A5\",\"A4\",\"A3\",\"A5\",\"A2\",\"A2\",\"A3\",\"A1\",\"A3\",\"A1\",\"A3\",\"A1\",\"A3\",\"A5\",\"A1\",\"A2\",\"A5\",\"A5\",\"A4\",\"A4\",\"A4\",\"A4\",\"A3\",\"A1\",\"A3\",\"A3\",\"A5\",\"A2\",\"A2\",\"A4\",\"A5\",\"A1\",\"A3\",\"A3\",\"A1\",\"A1\",\"A2\",\"A3\",\"A2\",\"A4\"],\"xaxis\":\"x\",\"y\":[\"Accessories\",\"Accessories\",\"Accessories\",\"Accessories\",\"Accessories\",\"Accessories\",\"Accessories\",\"Accessories\",\"Accessories\",\"Accessories\",\"Accessories\",\"Accessories\",\"Accessories\",\"Accessories\",\"Accessories\",\"Accessories\",\"Accessories\",\"Accessories\",\"Accessories\",\"Accessories\",\"Accessories\",\"Accessories\",\"Accessories\",\"Accessories\",\"Accessories\",\"Accessories\",\"Accessories\",\"Accessories\",\"Accessories\",\"Accessories\",\"Accessories\",\"Accessories\",\"Accessories\",\"Accessories\",\"Accessories\",\"Accessories\",\"Accessories\",\"Accessories\",\"Accessories\",\"Accessories\",\"Accessories\",\"Accessories\",\"Accessories\",\"Accessories\",\"Accessories\",\"Accessories\",\"Accessories\",\"Accessories\",\"Accessories\",\"Accessories\",\"Accessories\",\"Accessories\",\"Accessories\",\"Accessories\",\"Accessories\",\"Accessories\",\"Accessories\",\"Accessories\",\"Accessories\",\"Accessories\",\"Accessories\",\"Accessories\",\"Accessories\",\"Accessories\",\"Accessories\",\"Accessories\",\"Accessories\",\"Accessories\",\"Accessories\",\"Accessories\",\"Accessories\",\"Accessories\",\"Accessories\",\"Accessories\",\"Accessories\",\"Accessories\",\"Accessories\",\"Accessories\",\"Accessories\",\"Accessories\",\"Accessories\",\"Accessories\",\"Accessories\",\"Accessories\",\"Accessories\",\"Accessories\",\"Accessories\",\"Accessories\",\"Accessories\",\"Accessories\",\"Accessories\",\"Accessories\",\"Accessories\",\"Accessories\",\"Accessories\",\"Accessories\"],\"yaxis\":\"y\",\"type\":\"bar\"},{\"alignmentgroup\":\"True\",\"hovertemplate\":\"Category=%{y}\\u003cbr\\u003eAisle=%{x}\\u003cextra\\u003e\\u003c\\u002fextra\\u003e\",\"legendgroup\":\"Stationery\",\"marker\":{\"color\":\"#00cc96\",\"pattern\":{\"shape\":\"\"}},\"name\":\"Stationery\",\"offsetgroup\":\"Stationery\",\"orientation\":\"v\",\"showlegend\":true,\"textposition\":\"auto\",\"x\":[\"A3\",\"A3\",\"A4\",\"A1\",\"A1\",\"A5\",\"A4\",\"A4\",\"A3\",\"A3\",\"A5\",\"A5\",\"A4\",\"A3\",\"A1\",\"A2\",\"A1\",\"A5\",\"A4\",\"A5\",\"A3\",\"A4\",\"A5\",\"A4\",\"A3\",\"A3\",\"A1\",\"A4\",\"A1\",\"A2\",\"A3\",\"A4\",\"A5\",\"A1\",\"A3\",\"A2\",\"A5\",\"A5\",\"A1\",\"A5\",\"A4\",\"A5\",\"A4\",\"A3\",\"A5\",\"A3\",\"A3\",\"A5\",\"A4\",\"A2\",\"A5\",\"A1\",\"A1\",\"A4\",\"A5\",\"A5\",\"A2\",\"A2\",\"A5\",\"A2\",\"A1\",\"A4\",\"A5\",\"A2\",\"A5\",\"A4\",\"A4\",\"A3\",\"A3\",\"A3\",\"A3\",\"A3\",\"A1\",\"A3\",\"A4\",\"A1\",\"A4\",\"A1\",\"A5\",\"A2\",\"A2\",\"A5\",\"A5\",\"A1\",\"A1\",\"A2\",\"A4\",\"A3\",\"A4\",\"A2\",\"A4\",\"A2\",\"A1\",\"A2\",\"A2\",\"A4\",\"A1\",\"A3\",\"A5\",\"A5\",\"A3\",\"A5\",\"A4\",\"A4\",\"A5\",\"A4\",\"A4\",\"A4\",\"A3\",\"A4\",\"A5\",\"A1\",\"A1\",\"A4\",\"A2\",\"A4\",\"A3\"],\"xaxis\":\"x\",\"y\":[\"Stationery\",\"Stationery\",\"Stationery\",\"Stationery\",\"Stationery\",\"Stationery\",\"Stationery\",\"Stationery\",\"Stationery\",\"Stationery\",\"Stationery\",\"Stationery\",\"Stationery\",\"Stationery\",\"Stationery\",\"Stationery\",\"Stationery\",\"Stationery\",\"Stationery\",\"Stationery\",\"Stationery\",\"Stationery\",\"Stationery\",\"Stationery\",\"Stationery\",\"Stationery\",\"Stationery\",\"Stationery\",\"Stationery\",\"Stationery\",\"Stationery\",\"Stationery\",\"Stationery\",\"Stationery\",\"Stationery\",\"Stationery\",\"Stationery\",\"Stationery\",\"Stationery\",\"Stationery\",\"Stationery\",\"Stationery\",\"Stationery\",\"Stationery\",\"Stationery\",\"Stationery\",\"Stationery\",\"Stationery\",\"Stationery\",\"Stationery\",\"Stationery\",\"Stationery\",\"Stationery\",\"Stationery\",\"Stationery\",\"Stationery\",\"Stationery\",\"Stationery\",\"Stationery\",\"Stationery\",\"Stationery\",\"Stationery\",\"Stationery\",\"Stationery\",\"Stationery\",\"Stationery\",\"Stationery\",\"Stationery\",\"Stationery\",\"Stationery\",\"Stationery\",\"Stationery\",\"Stationery\",\"Stationery\",\"Stationery\",\"Stationery\",\"Stationery\",\"Stationery\",\"Stationery\",\"Stationery\",\"Stationery\",\"Stationery\",\"Stationery\",\"Stationery\",\"Stationery\",\"Stationery\",\"Stationery\",\"Stationery\",\"Stationery\",\"Stationery\",\"Stationery\",\"Stationery\",\"Stationery\",\"Stationery\",\"Stationery\",\"Stationery\",\"Stationery\",\"Stationery\",\"Stationery\",\"Stationery\",\"Stationery\",\"Stationery\",\"Stationery\",\"Stationery\",\"Stationery\",\"Stationery\",\"Stationery\",\"Stationery\",\"Stationery\",\"Stationery\",\"Stationery\",\"Stationery\",\"Stationery\",\"Stationery\",\"Stationery\",\"Stationery\",\"Stationery\"],\"yaxis\":\"y\",\"type\":\"bar\"},{\"alignmentgroup\":\"True\",\"hovertemplate\":\"Category=%{y}\\u003cbr\\u003eAisle=%{x}\\u003cextra\\u003e\\u003c\\u002fextra\\u003e\",\"legendgroup\":\"Furniture\",\"marker\":{\"color\":\"#ab63fa\",\"pattern\":{\"shape\":\"\"}},\"name\":\"Furniture\",\"offsetgroup\":\"Furniture\",\"orientation\":\"v\",\"showlegend\":true,\"textposition\":\"auto\",\"x\":[\"A2\",\"A1\",\"A4\",\"A3\",\"A1\",\"A5\",\"A4\",\"A1\",\"A3\",\"A4\",\"A2\",\"A4\",\"A3\",\"A1\",\"A4\",\"A2\",\"A3\",\"A3\",\"A2\",\"A4\",\"A4\",\"A4\",\"A4\",\"A1\",\"A3\",\"A1\",\"A3\",\"A1\",\"A2\",\"A4\",\"A2\",\"A5\",\"A1\",\"A4\",\"A2\",\"A1\",\"A4\",\"A2\",\"A5\",\"A4\",\"A2\",\"A3\",\"A5\",\"A2\",\"A4\",\"A5\",\"A4\",\"A1\",\"A3\",\"A2\",\"A2\",\"A3\",\"A5\",\"A4\",\"A4\",\"A2\",\"A1\",\"A1\",\"A5\",\"A1\",\"A2\",\"A5\",\"A1\",\"A4\",\"A1\",\"A1\",\"A3\",\"A2\",\"A2\",\"A3\",\"A2\",\"A1\",\"A1\",\"A2\",\"A4\",\"A5\",\"A3\",\"A5\",\"A3\",\"A4\",\"A4\",\"A3\",\"A2\",\"A5\",\"A2\",\"A1\",\"A4\",\"A3\",\"A4\",\"A3\",\"A4\",\"A4\",\"A1\",\"A4\",\"A5\",\"A5\",\"A5\",\"A3\",\"A1\",\"A2\"],\"xaxis\":\"x\",\"y\":[\"Furniture\",\"Furniture\",\"Furniture\",\"Furniture\",\"Furniture\",\"Furniture\",\"Furniture\",\"Furniture\",\"Furniture\",\"Furniture\",\"Furniture\",\"Furniture\",\"Furniture\",\"Furniture\",\"Furniture\",\"Furniture\",\"Furniture\",\"Furniture\",\"Furniture\",\"Furniture\",\"Furniture\",\"Furniture\",\"Furniture\",\"Furniture\",\"Furniture\",\"Furniture\",\"Furniture\",\"Furniture\",\"Furniture\",\"Furniture\",\"Furniture\",\"Furniture\",\"Furniture\",\"Furniture\",\"Furniture\",\"Furniture\",\"Furniture\",\"Furniture\",\"Furniture\",\"Furniture\",\"Furniture\",\"Furniture\",\"Furniture\",\"Furniture\",\"Furniture\",\"Furniture\",\"Furniture\",\"Furniture\",\"Furniture\",\"Furniture\",\"Furniture\",\"Furniture\",\"Furniture\",\"Furniture\",\"Furniture\",\"Furniture\",\"Furniture\",\"Furniture\",\"Furniture\",\"Furniture\",\"Furniture\",\"Furniture\",\"Furniture\",\"Furniture\",\"Furniture\",\"Furniture\",\"Furniture\",\"Furniture\",\"Furniture\",\"Furniture\",\"Furniture\",\"Furniture\",\"Furniture\",\"Furniture\",\"Furniture\",\"Furniture\",\"Furniture\",\"Furniture\",\"Furniture\",\"Furniture\",\"Furniture\",\"Furniture\",\"Furniture\",\"Furniture\",\"Furniture\",\"Furniture\",\"Furniture\",\"Furniture\",\"Furniture\",\"Furniture\",\"Furniture\",\"Furniture\",\"Furniture\",\"Furniture\",\"Furniture\",\"Furniture\",\"Furniture\",\"Furniture\",\"Furniture\",\"Furniture\"],\"yaxis\":\"y\",\"type\":\"bar\"},{\"alignmentgroup\":\"True\",\"hovertemplate\":\"Category=%{y}\\u003cbr\\u003eAisle=%{x}\\u003cextra\\u003e\\u003c\\u002fextra\\u003e\",\"legendgroup\":\"Appliances\",\"marker\":{\"color\":\"#FFA15A\",\"pattern\":{\"shape\":\"\"}},\"name\":\"Appliances\",\"offsetgroup\":\"Appliances\",\"orientation\":\"v\",\"showlegend\":true,\"textposition\":\"auto\",\"x\":[\"A2\",\"A2\",\"A3\",\"A5\",\"A3\",\"A5\",\"A1\",\"A4\",\"A3\",\"A4\",\"A5\",\"A3\",\"A3\",\"A4\",\"A5\",\"A4\",\"A4\",\"A4\",\"A1\",\"A1\",\"A4\",\"A4\",\"A1\",\"A4\",\"A4\",\"A2\",\"A5\",\"A1\",\"A3\",\"A2\",\"A2\",\"A5\",\"A1\",\"A4\",\"A4\",\"A3\",\"A1\",\"A5\",\"A4\",\"A3\",\"A5\",\"A1\",\"A4\",\"A1\",\"A4\",\"A5\",\"A1\",\"A4\",\"A5\",\"A1\",\"A1\",\"A5\",\"A3\",\"A5\",\"A3\",\"A3\",\"A1\",\"A4\",\"A5\",\"A5\",\"A1\",\"A1\",\"A2\",\"A4\",\"A1\",\"A2\",\"A5\",\"A3\",\"A2\",\"A5\",\"A3\",\"A4\",\"A4\",\"A4\",\"A3\",\"A2\",\"A1\",\"A1\",\"A5\",\"A2\",\"A2\",\"A1\",\"A1\",\"A5\",\"A2\",\"A5\",\"A1\",\"A3\",\"A4\",\"A4\",\"A4\",\"A4\",\"A1\"],\"xaxis\":\"x\",\"y\":[\"Appliances\",\"Appliances\",\"Appliances\",\"Appliances\",\"Appliances\",\"Appliances\",\"Appliances\",\"Appliances\",\"Appliances\",\"Appliances\",\"Appliances\",\"Appliances\",\"Appliances\",\"Appliances\",\"Appliances\",\"Appliances\",\"Appliances\",\"Appliances\",\"Appliances\",\"Appliances\",\"Appliances\",\"Appliances\",\"Appliances\",\"Appliances\",\"Appliances\",\"Appliances\",\"Appliances\",\"Appliances\",\"Appliances\",\"Appliances\",\"Appliances\",\"Appliances\",\"Appliances\",\"Appliances\",\"Appliances\",\"Appliances\",\"Appliances\",\"Appliances\",\"Appliances\",\"Appliances\",\"Appliances\",\"Appliances\",\"Appliances\",\"Appliances\",\"Appliances\",\"Appliances\",\"Appliances\",\"Appliances\",\"Appliances\",\"Appliances\",\"Appliances\",\"Appliances\",\"Appliances\",\"Appliances\",\"Appliances\",\"Appliances\",\"Appliances\",\"Appliances\",\"Appliances\",\"Appliances\",\"Appliances\",\"Appliances\",\"Appliances\",\"Appliances\",\"Appliances\",\"Appliances\",\"Appliances\",\"Appliances\",\"Appliances\",\"Appliances\",\"Appliances\",\"Appliances\",\"Appliances\",\"Appliances\",\"Appliances\",\"Appliances\",\"Appliances\",\"Appliances\",\"Appliances\",\"Appliances\",\"Appliances\",\"Appliances\",\"Appliances\",\"Appliances\",\"Appliances\",\"Appliances\",\"Appliances\",\"Appliances\",\"Appliances\",\"Appliances\",\"Appliances\",\"Appliances\",\"Appliances\"],\"yaxis\":\"y\",\"type\":\"bar\"}],                        {\"template\":{\"data\":{\"histogram2dcontour\":[{\"type\":\"histogram2dcontour\",\"colorbar\":{\"outlinewidth\":0,\"ticks\":\"\"},\"colorscale\":[[0.0,\"#0d0887\"],[0.1111111111111111,\"#46039f\"],[0.2222222222222222,\"#7201a8\"],[0.3333333333333333,\"#9c179e\"],[0.4444444444444444,\"#bd3786\"],[0.5555555555555556,\"#d8576b\"],[0.6666666666666666,\"#ed7953\"],[0.7777777777777778,\"#fb9f3a\"],[0.8888888888888888,\"#fdca26\"],[1.0,\"#f0f921\"]]}],\"choropleth\":[{\"type\":\"choropleth\",\"colorbar\":{\"outlinewidth\":0,\"ticks\":\"\"}}],\"histogram2d\":[{\"type\":\"histogram2d\",\"colorbar\":{\"outlinewidth\":0,\"ticks\":\"\"},\"colorscale\":[[0.0,\"#0d0887\"],[0.1111111111111111,\"#46039f\"],[0.2222222222222222,\"#7201a8\"],[0.3333333333333333,\"#9c179e\"],[0.4444444444444444,\"#bd3786\"],[0.5555555555555556,\"#d8576b\"],[0.6666666666666666,\"#ed7953\"],[0.7777777777777778,\"#fb9f3a\"],[0.8888888888888888,\"#fdca26\"],[1.0,\"#f0f921\"]]}],\"heatmap\":[{\"type\":\"heatmap\",\"colorbar\":{\"outlinewidth\":0,\"ticks\":\"\"},\"colorscale\":[[0.0,\"#0d0887\"],[0.1111111111111111,\"#46039f\"],[0.2222222222222222,\"#7201a8\"],[0.3333333333333333,\"#9c179e\"],[0.4444444444444444,\"#bd3786\"],[0.5555555555555556,\"#d8576b\"],[0.6666666666666666,\"#ed7953\"],[0.7777777777777778,\"#fb9f3a\"],[0.8888888888888888,\"#fdca26\"],[1.0,\"#f0f921\"]]}],\"heatmapgl\":[{\"type\":\"heatmapgl\",\"colorbar\":{\"outlinewidth\":0,\"ticks\":\"\"},\"colorscale\":[[0.0,\"#0d0887\"],[0.1111111111111111,\"#46039f\"],[0.2222222222222222,\"#7201a8\"],[0.3333333333333333,\"#9c179e\"],[0.4444444444444444,\"#bd3786\"],[0.5555555555555556,\"#d8576b\"],[0.6666666666666666,\"#ed7953\"],[0.7777777777777778,\"#fb9f3a\"],[0.8888888888888888,\"#fdca26\"],[1.0,\"#f0f921\"]]}],\"contourcarpet\":[{\"type\":\"contourcarpet\",\"colorbar\":{\"outlinewidth\":0,\"ticks\":\"\"}}],\"contour\":[{\"type\":\"contour\",\"colorbar\":{\"outlinewidth\":0,\"ticks\":\"\"},\"colorscale\":[[0.0,\"#0d0887\"],[0.1111111111111111,\"#46039f\"],[0.2222222222222222,\"#7201a8\"],[0.3333333333333333,\"#9c179e\"],[0.4444444444444444,\"#bd3786\"],[0.5555555555555556,\"#d8576b\"],[0.6666666666666666,\"#ed7953\"],[0.7777777777777778,\"#fb9f3a\"],[0.8888888888888888,\"#fdca26\"],[1.0,\"#f0f921\"]]}],\"surface\":[{\"type\":\"surface\",\"colorbar\":{\"outlinewidth\":0,\"ticks\":\"\"},\"colorscale\":[[0.0,\"#0d0887\"],[0.1111111111111111,\"#46039f\"],[0.2222222222222222,\"#7201a8\"],[0.3333333333333333,\"#9c179e\"],[0.4444444444444444,\"#bd3786\"],[0.5555555555555556,\"#d8576b\"],[0.6666666666666666,\"#ed7953\"],[0.7777777777777778,\"#fb9f3a\"],[0.8888888888888888,\"#fdca26\"],[1.0,\"#f0f921\"]]}],\"mesh3d\":[{\"type\":\"mesh3d\",\"colorbar\":{\"outlinewidth\":0,\"ticks\":\"\"}}],\"scatter\":[{\"fillpattern\":{\"fillmode\":\"overlay\",\"size\":10,\"solidity\":0.2},\"type\":\"scatter\"}],\"parcoords\":[{\"type\":\"parcoords\",\"line\":{\"colorbar\":{\"outlinewidth\":0,\"ticks\":\"\"}}}],\"scatterpolargl\":[{\"type\":\"scatterpolargl\",\"marker\":{\"colorbar\":{\"outlinewidth\":0,\"ticks\":\"\"}}}],\"bar\":[{\"error_x\":{\"color\":\"#2a3f5f\"},\"error_y\":{\"color\":\"#2a3f5f\"},\"marker\":{\"line\":{\"color\":\"#E5ECF6\",\"width\":0.5},\"pattern\":{\"fillmode\":\"overlay\",\"size\":10,\"solidity\":0.2}},\"type\":\"bar\"}],\"scattergeo\":[{\"type\":\"scattergeo\",\"marker\":{\"colorbar\":{\"outlinewidth\":0,\"ticks\":\"\"}}}],\"scatterpolar\":[{\"type\":\"scatterpolar\",\"marker\":{\"colorbar\":{\"outlinewidth\":0,\"ticks\":\"\"}}}],\"histogram\":[{\"marker\":{\"pattern\":{\"fillmode\":\"overlay\",\"size\":10,\"solidity\":0.2}},\"type\":\"histogram\"}],\"scattergl\":[{\"type\":\"scattergl\",\"marker\":{\"colorbar\":{\"outlinewidth\":0,\"ticks\":\"\"}}}],\"scatter3d\":[{\"type\":\"scatter3d\",\"line\":{\"colorbar\":{\"outlinewidth\":0,\"ticks\":\"\"}},\"marker\":{\"colorbar\":{\"outlinewidth\":0,\"ticks\":\"\"}}}],\"scattermapbox\":[{\"type\":\"scattermapbox\",\"marker\":{\"colorbar\":{\"outlinewidth\":0,\"ticks\":\"\"}}}],\"scatterternary\":[{\"type\":\"scatterternary\",\"marker\":{\"colorbar\":{\"outlinewidth\":0,\"ticks\":\"\"}}}],\"scattercarpet\":[{\"type\":\"scattercarpet\",\"marker\":{\"colorbar\":{\"outlinewidth\":0,\"ticks\":\"\"}}}],\"carpet\":[{\"aaxis\":{\"endlinecolor\":\"#2a3f5f\",\"gridcolor\":\"white\",\"linecolor\":\"white\",\"minorgridcolor\":\"white\",\"startlinecolor\":\"#2a3f5f\"},\"baxis\":{\"endlinecolor\":\"#2a3f5f\",\"gridcolor\":\"white\",\"linecolor\":\"white\",\"minorgridcolor\":\"white\",\"startlinecolor\":\"#2a3f5f\"},\"type\":\"carpet\"}],\"table\":[{\"cells\":{\"fill\":{\"color\":\"#EBF0F8\"},\"line\":{\"color\":\"white\"}},\"header\":{\"fill\":{\"color\":\"#C8D4E3\"},\"line\":{\"color\":\"white\"}},\"type\":\"table\"}],\"barpolar\":[{\"marker\":{\"line\":{\"color\":\"#E5ECF6\",\"width\":0.5},\"pattern\":{\"fillmode\":\"overlay\",\"size\":10,\"solidity\":0.2}},\"type\":\"barpolar\"}],\"pie\":[{\"automargin\":true,\"type\":\"pie\"}]},\"layout\":{\"autotypenumbers\":\"strict\",\"colorway\":[\"#636efa\",\"#EF553B\",\"#00cc96\",\"#ab63fa\",\"#FFA15A\",\"#19d3f3\",\"#FF6692\",\"#B6E880\",\"#FF97FF\",\"#FECB52\"],\"font\":{\"color\":\"#2a3f5f\"},\"hovermode\":\"closest\",\"hoverlabel\":{\"align\":\"left\"},\"paper_bgcolor\":\"white\",\"plot_bgcolor\":\"#E5ECF6\",\"polar\":{\"bgcolor\":\"#E5ECF6\",\"angularaxis\":{\"gridcolor\":\"white\",\"linecolor\":\"white\",\"ticks\":\"\"},\"radialaxis\":{\"gridcolor\":\"white\",\"linecolor\":\"white\",\"ticks\":\"\"}},\"ternary\":{\"bgcolor\":\"#E5ECF6\",\"aaxis\":{\"gridcolor\":\"white\",\"linecolor\":\"white\",\"ticks\":\"\"},\"baxis\":{\"gridcolor\":\"white\",\"linecolor\":\"white\",\"ticks\":\"\"},\"caxis\":{\"gridcolor\":\"white\",\"linecolor\":\"white\",\"ticks\":\"\"}},\"coloraxis\":{\"colorbar\":{\"outlinewidth\":0,\"ticks\":\"\"}},\"colorscale\":{\"sequential\":[[0.0,\"#0d0887\"],[0.1111111111111111,\"#46039f\"],[0.2222222222222222,\"#7201a8\"],[0.3333333333333333,\"#9c179e\"],[0.4444444444444444,\"#bd3786\"],[0.5555555555555556,\"#d8576b\"],[0.6666666666666666,\"#ed7953\"],[0.7777777777777778,\"#fb9f3a\"],[0.8888888888888888,\"#fdca26\"],[1.0,\"#f0f921\"]],\"sequentialminus\":[[0.0,\"#0d0887\"],[0.1111111111111111,\"#46039f\"],[0.2222222222222222,\"#7201a8\"],[0.3333333333333333,\"#9c179e\"],[0.4444444444444444,\"#bd3786\"],[0.5555555555555556,\"#d8576b\"],[0.6666666666666666,\"#ed7953\"],[0.7777777777777778,\"#fb9f3a\"],[0.8888888888888888,\"#fdca26\"],[1.0,\"#f0f921\"]],\"diverging\":[[0,\"#8e0152\"],[0.1,\"#c51b7d\"],[0.2,\"#de77ae\"],[0.3,\"#f1b6da\"],[0.4,\"#fde0ef\"],[0.5,\"#f7f7f7\"],[0.6,\"#e6f5d0\"],[0.7,\"#b8e186\"],[0.8,\"#7fbc41\"],[0.9,\"#4d9221\"],[1,\"#276419\"]]},\"xaxis\":{\"gridcolor\":\"white\",\"linecolor\":\"white\",\"ticks\":\"\",\"title\":{\"standoff\":15},\"zerolinecolor\":\"white\",\"automargin\":true,\"zerolinewidth\":2},\"yaxis\":{\"gridcolor\":\"white\",\"linecolor\":\"white\",\"ticks\":\"\",\"title\":{\"standoff\":15},\"zerolinecolor\":\"white\",\"automargin\":true,\"zerolinewidth\":2},\"scene\":{\"xaxis\":{\"backgroundcolor\":\"#E5ECF6\",\"gridcolor\":\"white\",\"linecolor\":\"white\",\"showbackground\":true,\"ticks\":\"\",\"zerolinecolor\":\"white\",\"gridwidth\":2},\"yaxis\":{\"backgroundcolor\":\"#E5ECF6\",\"gridcolor\":\"white\",\"linecolor\":\"white\",\"showbackground\":true,\"ticks\":\"\",\"zerolinecolor\":\"white\",\"gridwidth\":2},\"zaxis\":{\"backgroundcolor\":\"#E5ECF6\",\"gridcolor\":\"white\",\"linecolor\":\"white\",\"showbackground\":true,\"ticks\":\"\",\"zerolinecolor\":\"white\",\"gridwidth\":2}},\"shapedefaults\":{\"line\":{\"color\":\"#2a3f5f\"}},\"annotationdefaults\":{\"arrowcolor\":\"#2a3f5f\",\"arrowhead\":0,\"arrowwidth\":1},\"geo\":{\"bgcolor\":\"white\",\"landcolor\":\"#E5ECF6\",\"subunitcolor\":\"white\",\"showland\":true,\"showlakes\":true,\"lakecolor\":\"white\"},\"title\":{\"x\":0.05},\"mapbox\":{\"style\":\"light\"}}},\"xaxis\":{\"anchor\":\"y\",\"domain\":[0.0,1.0],\"title\":{\"text\":\"Aisle\"}},\"yaxis\":{\"anchor\":\"x\",\"domain\":[0.0,1.0],\"title\":{\"text\":\"Category\"},\"categoryorder\":\"array\",\"categoryarray\":[\"Appliances\",\"Furniture\",\"Stationery\",\"Accessories\",\"Electronics\"]},\"legend\":{\"title\":{\"text\":\"Category\"},\"tracegroupgap\":0},\"margin\":{\"t\":60},\"barmode\":\"relative\"},                        {\"responsive\": true}                    ).then(function(){\n",
              "                            \n",
              "var gd = document.getElementById('b32c8e37-b9d9-4649-9bd2-455909c96213');\n",
              "var x = new MutationObserver(function (mutations, observer) {{\n",
              "        var display = window.getComputedStyle(gd).display;\n",
              "        if (!display || display === 'none') {{\n",
              "            console.log([gd, 'removed!']);\n",
              "            Plotly.purge(gd);\n",
              "            observer.disconnect();\n",
              "        }}\n",
              "}});\n",
              "\n",
              "// Listen for the removal of the full notebook cells\n",
              "var notebookContainer = gd.closest('#notebook-container');\n",
              "if (notebookContainer) {{\n",
              "    x.observe(notebookContainer, {childList: true});\n",
              "}}\n",
              "\n",
              "// Listen for the clearing of the current output cell\n",
              "var outputEl = gd.closest('.output');\n",
              "if (outputEl) {{\n",
              "    x.observe(outputEl, {childList: true});\n",
              "}}\n",
              "\n",
              "                        })                };                            </script>        </div>\n",
              "</body>\n",
              "</html>"
            ]
          },
          "metadata": {}
        }
      ],
      "source": [
        "px.bar(df,x='Aisle',y='Category',color='Category')"
      ]
    },
    {
      "cell_type": "code",
      "execution_count": null,
      "id": "77b503e3-d15e-43c8-9c3d-829370cb76e5",
      "metadata": {
        "id": "77b503e3-d15e-43c8-9c3d-829370cb76e5"
      },
      "outputs": [],
      "source": [
        "def plot_cat_val(col:str,m:str=\"for each\",plot_type=\"bar\",sort=False):\n",
        "    filter=df[col].value_counts().sort_values(ascending=sort).reset_index(name=\"count\")\n",
        "    if plot_type==\"pie\":\n",
        "        return px.pie(filter,values='count',names=col,color=col,title=f'Number of products {m} {col}')\n",
        "    elif plot_type==\"bar\":\n",
        "        return px.bar(filter,x=col,y=\"count\",color=col,title=f'Number of products {m} {col}')"
      ]
    },
    {
      "cell_type": "code",
      "execution_count": null,
      "id": "04275092-bd62-436f-a67b-33350a7afc53",
      "metadata": {
        "id": "04275092-bd62-436f-a67b-33350a7afc53",
        "colab": {
          "base_uri": "https://localhost:8080/",
          "height": 542
        },
        "outputId": "8be33baf-190e-487c-a33d-b577f6498c15"
      },
      "outputs": [
        {
          "output_type": "display_data",
          "data": {
            "text/html": [
              "<html>\n",
              "<head><meta charset=\"utf-8\" /></head>\n",
              "<body>\n",
              "    <div>            <script src=\"https://cdnjs.cloudflare.com/ajax/libs/mathjax/2.7.5/MathJax.js?config=TeX-AMS-MML_SVG\"></script><script type=\"text/javascript\">if (window.MathJax && window.MathJax.Hub && window.MathJax.Hub.Config) {window.MathJax.Hub.Config({SVG: {font: \"STIX-Web\"}});}</script>                <script type=\"text/javascript\">window.PlotlyConfig = {MathJaxConfig: 'local'};</script>\n",
              "        <script charset=\"utf-8\" src=\"https://cdn.plot.ly/plotly-2.35.2.min.js\"></script>                <div id=\"9c80b4b2-fe28-47d0-b287-f50928439fcf\" class=\"plotly-graph-div\" style=\"height:525px; width:100%;\"></div>            <script type=\"text/javascript\">                                    window.PLOTLYENV=window.PLOTLYENV || {};                                    if (document.getElementById(\"9c80b4b2-fe28-47d0-b287-f50928439fcf\")) {                    Plotly.newPlot(                        \"9c80b4b2-fe28-47d0-b287-f50928439fcf\",                        [{\"alignmentgroup\":\"True\",\"hovertemplate\":\"Category=%{x}\\u003cbr\\u003ecount=%{y}\\u003cextra\\u003e\\u003c\\u002fextra\\u003e\",\"legendgroup\":\"Stationery\",\"marker\":{\"color\":\"#636efa\",\"pattern\":{\"shape\":\"\"}},\"name\":\"Stationery\",\"offsetgroup\":\"Stationery\",\"orientation\":\"v\",\"showlegend\":true,\"textposition\":\"auto\",\"x\":[\"Stationery\"],\"xaxis\":\"x\",\"y\":[117],\"yaxis\":\"y\",\"type\":\"bar\"},{\"alignmentgroup\":\"True\",\"hovertemplate\":\"Category=%{x}\\u003cbr\\u003ecount=%{y}\\u003cextra\\u003e\\u003c\\u002fextra\\u003e\",\"legendgroup\":\"Furniture\",\"marker\":{\"color\":\"#EF553B\",\"pattern\":{\"shape\":\"\"}},\"name\":\"Furniture\",\"offsetgroup\":\"Furniture\",\"orientation\":\"v\",\"showlegend\":true,\"textposition\":\"auto\",\"x\":[\"Furniture\"],\"xaxis\":\"x\",\"y\":[100],\"yaxis\":\"y\",\"type\":\"bar\"},{\"alignmentgroup\":\"True\",\"hovertemplate\":\"Category=%{x}\\u003cbr\\u003ecount=%{y}\\u003cextra\\u003e\\u003c\\u002fextra\\u003e\",\"legendgroup\":\"Accessories\",\"marker\":{\"color\":\"#00cc96\",\"pattern\":{\"shape\":\"\"}},\"name\":\"Accessories\",\"offsetgroup\":\"Accessories\",\"orientation\":\"v\",\"showlegend\":true,\"textposition\":\"auto\",\"x\":[\"Accessories\"],\"xaxis\":\"x\",\"y\":[96],\"yaxis\":\"y\",\"type\":\"bar\"},{\"alignmentgroup\":\"True\",\"hovertemplate\":\"Category=%{x}\\u003cbr\\u003ecount=%{y}\\u003cextra\\u003e\\u003c\\u002fextra\\u003e\",\"legendgroup\":\"Electronics\",\"marker\":{\"color\":\"#ab63fa\",\"pattern\":{\"shape\":\"\"}},\"name\":\"Electronics\",\"offsetgroup\":\"Electronics\",\"orientation\":\"v\",\"showlegend\":true,\"textposition\":\"auto\",\"x\":[\"Electronics\"],\"xaxis\":\"x\",\"y\":[94],\"yaxis\":\"y\",\"type\":\"bar\"},{\"alignmentgroup\":\"True\",\"hovertemplate\":\"Category=%{x}\\u003cbr\\u003ecount=%{y}\\u003cextra\\u003e\\u003c\\u002fextra\\u003e\",\"legendgroup\":\"Appliances\",\"marker\":{\"color\":\"#FFA15A\",\"pattern\":{\"shape\":\"\"}},\"name\":\"Appliances\",\"offsetgroup\":\"Appliances\",\"orientation\":\"v\",\"showlegend\":true,\"textposition\":\"auto\",\"x\":[\"Appliances\"],\"xaxis\":\"x\",\"y\":[93],\"yaxis\":\"y\",\"type\":\"bar\"}],                        {\"template\":{\"data\":{\"histogram2dcontour\":[{\"type\":\"histogram2dcontour\",\"colorbar\":{\"outlinewidth\":0,\"ticks\":\"\"},\"colorscale\":[[0.0,\"#0d0887\"],[0.1111111111111111,\"#46039f\"],[0.2222222222222222,\"#7201a8\"],[0.3333333333333333,\"#9c179e\"],[0.4444444444444444,\"#bd3786\"],[0.5555555555555556,\"#d8576b\"],[0.6666666666666666,\"#ed7953\"],[0.7777777777777778,\"#fb9f3a\"],[0.8888888888888888,\"#fdca26\"],[1.0,\"#f0f921\"]]}],\"choropleth\":[{\"type\":\"choropleth\",\"colorbar\":{\"outlinewidth\":0,\"ticks\":\"\"}}],\"histogram2d\":[{\"type\":\"histogram2d\",\"colorbar\":{\"outlinewidth\":0,\"ticks\":\"\"},\"colorscale\":[[0.0,\"#0d0887\"],[0.1111111111111111,\"#46039f\"],[0.2222222222222222,\"#7201a8\"],[0.3333333333333333,\"#9c179e\"],[0.4444444444444444,\"#bd3786\"],[0.5555555555555556,\"#d8576b\"],[0.6666666666666666,\"#ed7953\"],[0.7777777777777778,\"#fb9f3a\"],[0.8888888888888888,\"#fdca26\"],[1.0,\"#f0f921\"]]}],\"heatmap\":[{\"type\":\"heatmap\",\"colorbar\":{\"outlinewidth\":0,\"ticks\":\"\"},\"colorscale\":[[0.0,\"#0d0887\"],[0.1111111111111111,\"#46039f\"],[0.2222222222222222,\"#7201a8\"],[0.3333333333333333,\"#9c179e\"],[0.4444444444444444,\"#bd3786\"],[0.5555555555555556,\"#d8576b\"],[0.6666666666666666,\"#ed7953\"],[0.7777777777777778,\"#fb9f3a\"],[0.8888888888888888,\"#fdca26\"],[1.0,\"#f0f921\"]]}],\"heatmapgl\":[{\"type\":\"heatmapgl\",\"colorbar\":{\"outlinewidth\":0,\"ticks\":\"\"},\"colorscale\":[[0.0,\"#0d0887\"],[0.1111111111111111,\"#46039f\"],[0.2222222222222222,\"#7201a8\"],[0.3333333333333333,\"#9c179e\"],[0.4444444444444444,\"#bd3786\"],[0.5555555555555556,\"#d8576b\"],[0.6666666666666666,\"#ed7953\"],[0.7777777777777778,\"#fb9f3a\"],[0.8888888888888888,\"#fdca26\"],[1.0,\"#f0f921\"]]}],\"contourcarpet\":[{\"type\":\"contourcarpet\",\"colorbar\":{\"outlinewidth\":0,\"ticks\":\"\"}}],\"contour\":[{\"type\":\"contour\",\"colorbar\":{\"outlinewidth\":0,\"ticks\":\"\"},\"colorscale\":[[0.0,\"#0d0887\"],[0.1111111111111111,\"#46039f\"],[0.2222222222222222,\"#7201a8\"],[0.3333333333333333,\"#9c179e\"],[0.4444444444444444,\"#bd3786\"],[0.5555555555555556,\"#d8576b\"],[0.6666666666666666,\"#ed7953\"],[0.7777777777777778,\"#fb9f3a\"],[0.8888888888888888,\"#fdca26\"],[1.0,\"#f0f921\"]]}],\"surface\":[{\"type\":\"surface\",\"colorbar\":{\"outlinewidth\":0,\"ticks\":\"\"},\"colorscale\":[[0.0,\"#0d0887\"],[0.1111111111111111,\"#46039f\"],[0.2222222222222222,\"#7201a8\"],[0.3333333333333333,\"#9c179e\"],[0.4444444444444444,\"#bd3786\"],[0.5555555555555556,\"#d8576b\"],[0.6666666666666666,\"#ed7953\"],[0.7777777777777778,\"#fb9f3a\"],[0.8888888888888888,\"#fdca26\"],[1.0,\"#f0f921\"]]}],\"mesh3d\":[{\"type\":\"mesh3d\",\"colorbar\":{\"outlinewidth\":0,\"ticks\":\"\"}}],\"scatter\":[{\"fillpattern\":{\"fillmode\":\"overlay\",\"size\":10,\"solidity\":0.2},\"type\":\"scatter\"}],\"parcoords\":[{\"type\":\"parcoords\",\"line\":{\"colorbar\":{\"outlinewidth\":0,\"ticks\":\"\"}}}],\"scatterpolargl\":[{\"type\":\"scatterpolargl\",\"marker\":{\"colorbar\":{\"outlinewidth\":0,\"ticks\":\"\"}}}],\"bar\":[{\"error_x\":{\"color\":\"#2a3f5f\"},\"error_y\":{\"color\":\"#2a3f5f\"},\"marker\":{\"line\":{\"color\":\"#E5ECF6\",\"width\":0.5},\"pattern\":{\"fillmode\":\"overlay\",\"size\":10,\"solidity\":0.2}},\"type\":\"bar\"}],\"scattergeo\":[{\"type\":\"scattergeo\",\"marker\":{\"colorbar\":{\"outlinewidth\":0,\"ticks\":\"\"}}}],\"scatterpolar\":[{\"type\":\"scatterpolar\",\"marker\":{\"colorbar\":{\"outlinewidth\":0,\"ticks\":\"\"}}}],\"histogram\":[{\"marker\":{\"pattern\":{\"fillmode\":\"overlay\",\"size\":10,\"solidity\":0.2}},\"type\":\"histogram\"}],\"scattergl\":[{\"type\":\"scattergl\",\"marker\":{\"colorbar\":{\"outlinewidth\":0,\"ticks\":\"\"}}}],\"scatter3d\":[{\"type\":\"scatter3d\",\"line\":{\"colorbar\":{\"outlinewidth\":0,\"ticks\":\"\"}},\"marker\":{\"colorbar\":{\"outlinewidth\":0,\"ticks\":\"\"}}}],\"scattermapbox\":[{\"type\":\"scattermapbox\",\"marker\":{\"colorbar\":{\"outlinewidth\":0,\"ticks\":\"\"}}}],\"scatterternary\":[{\"type\":\"scatterternary\",\"marker\":{\"colorbar\":{\"outlinewidth\":0,\"ticks\":\"\"}}}],\"scattercarpet\":[{\"type\":\"scattercarpet\",\"marker\":{\"colorbar\":{\"outlinewidth\":0,\"ticks\":\"\"}}}],\"carpet\":[{\"aaxis\":{\"endlinecolor\":\"#2a3f5f\",\"gridcolor\":\"white\",\"linecolor\":\"white\",\"minorgridcolor\":\"white\",\"startlinecolor\":\"#2a3f5f\"},\"baxis\":{\"endlinecolor\":\"#2a3f5f\",\"gridcolor\":\"white\",\"linecolor\":\"white\",\"minorgridcolor\":\"white\",\"startlinecolor\":\"#2a3f5f\"},\"type\":\"carpet\"}],\"table\":[{\"cells\":{\"fill\":{\"color\":\"#EBF0F8\"},\"line\":{\"color\":\"white\"}},\"header\":{\"fill\":{\"color\":\"#C8D4E3\"},\"line\":{\"color\":\"white\"}},\"type\":\"table\"}],\"barpolar\":[{\"marker\":{\"line\":{\"color\":\"#E5ECF6\",\"width\":0.5},\"pattern\":{\"fillmode\":\"overlay\",\"size\":10,\"solidity\":0.2}},\"type\":\"barpolar\"}],\"pie\":[{\"automargin\":true,\"type\":\"pie\"}]},\"layout\":{\"autotypenumbers\":\"strict\",\"colorway\":[\"#636efa\",\"#EF553B\",\"#00cc96\",\"#ab63fa\",\"#FFA15A\",\"#19d3f3\",\"#FF6692\",\"#B6E880\",\"#FF97FF\",\"#FECB52\"],\"font\":{\"color\":\"#2a3f5f\"},\"hovermode\":\"closest\",\"hoverlabel\":{\"align\":\"left\"},\"paper_bgcolor\":\"white\",\"plot_bgcolor\":\"#E5ECF6\",\"polar\":{\"bgcolor\":\"#E5ECF6\",\"angularaxis\":{\"gridcolor\":\"white\",\"linecolor\":\"white\",\"ticks\":\"\"},\"radialaxis\":{\"gridcolor\":\"white\",\"linecolor\":\"white\",\"ticks\":\"\"}},\"ternary\":{\"bgcolor\":\"#E5ECF6\",\"aaxis\":{\"gridcolor\":\"white\",\"linecolor\":\"white\",\"ticks\":\"\"},\"baxis\":{\"gridcolor\":\"white\",\"linecolor\":\"white\",\"ticks\":\"\"},\"caxis\":{\"gridcolor\":\"white\",\"linecolor\":\"white\",\"ticks\":\"\"}},\"coloraxis\":{\"colorbar\":{\"outlinewidth\":0,\"ticks\":\"\"}},\"colorscale\":{\"sequential\":[[0.0,\"#0d0887\"],[0.1111111111111111,\"#46039f\"],[0.2222222222222222,\"#7201a8\"],[0.3333333333333333,\"#9c179e\"],[0.4444444444444444,\"#bd3786\"],[0.5555555555555556,\"#d8576b\"],[0.6666666666666666,\"#ed7953\"],[0.7777777777777778,\"#fb9f3a\"],[0.8888888888888888,\"#fdca26\"],[1.0,\"#f0f921\"]],\"sequentialminus\":[[0.0,\"#0d0887\"],[0.1111111111111111,\"#46039f\"],[0.2222222222222222,\"#7201a8\"],[0.3333333333333333,\"#9c179e\"],[0.4444444444444444,\"#bd3786\"],[0.5555555555555556,\"#d8576b\"],[0.6666666666666666,\"#ed7953\"],[0.7777777777777778,\"#fb9f3a\"],[0.8888888888888888,\"#fdca26\"],[1.0,\"#f0f921\"]],\"diverging\":[[0,\"#8e0152\"],[0.1,\"#c51b7d\"],[0.2,\"#de77ae\"],[0.3,\"#f1b6da\"],[0.4,\"#fde0ef\"],[0.5,\"#f7f7f7\"],[0.6,\"#e6f5d0\"],[0.7,\"#b8e186\"],[0.8,\"#7fbc41\"],[0.9,\"#4d9221\"],[1,\"#276419\"]]},\"xaxis\":{\"gridcolor\":\"white\",\"linecolor\":\"white\",\"ticks\":\"\",\"title\":{\"standoff\":15},\"zerolinecolor\":\"white\",\"automargin\":true,\"zerolinewidth\":2},\"yaxis\":{\"gridcolor\":\"white\",\"linecolor\":\"white\",\"ticks\":\"\",\"title\":{\"standoff\":15},\"zerolinecolor\":\"white\",\"automargin\":true,\"zerolinewidth\":2},\"scene\":{\"xaxis\":{\"backgroundcolor\":\"#E5ECF6\",\"gridcolor\":\"white\",\"linecolor\":\"white\",\"showbackground\":true,\"ticks\":\"\",\"zerolinecolor\":\"white\",\"gridwidth\":2},\"yaxis\":{\"backgroundcolor\":\"#E5ECF6\",\"gridcolor\":\"white\",\"linecolor\":\"white\",\"showbackground\":true,\"ticks\":\"\",\"zerolinecolor\":\"white\",\"gridwidth\":2},\"zaxis\":{\"backgroundcolor\":\"#E5ECF6\",\"gridcolor\":\"white\",\"linecolor\":\"white\",\"showbackground\":true,\"ticks\":\"\",\"zerolinecolor\":\"white\",\"gridwidth\":2}},\"shapedefaults\":{\"line\":{\"color\":\"#2a3f5f\"}},\"annotationdefaults\":{\"arrowcolor\":\"#2a3f5f\",\"arrowhead\":0,\"arrowwidth\":1},\"geo\":{\"bgcolor\":\"white\",\"landcolor\":\"#E5ECF6\",\"subunitcolor\":\"white\",\"showland\":true,\"showlakes\":true,\"lakecolor\":\"white\"},\"title\":{\"x\":0.05},\"mapbox\":{\"style\":\"light\"}}},\"xaxis\":{\"anchor\":\"y\",\"domain\":[0.0,1.0],\"title\":{\"text\":\"Category\"},\"categoryorder\":\"array\",\"categoryarray\":[\"Stationery\",\"Furniture\",\"Accessories\",\"Electronics\",\"Appliances\"]},\"yaxis\":{\"anchor\":\"x\",\"domain\":[0.0,1.0],\"title\":{\"text\":\"count\"}},\"legend\":{\"title\":{\"text\":\"Category\"},\"tracegroupgap\":0},\"title\":{\"text\":\"Number of products for each Category\"},\"barmode\":\"relative\"},                        {\"responsive\": true}                    ).then(function(){\n",
              "                            \n",
              "var gd = document.getElementById('9c80b4b2-fe28-47d0-b287-f50928439fcf');\n",
              "var x = new MutationObserver(function (mutations, observer) {{\n",
              "        var display = window.getComputedStyle(gd).display;\n",
              "        if (!display || display === 'none') {{\n",
              "            console.log([gd, 'removed!']);\n",
              "            Plotly.purge(gd);\n",
              "            observer.disconnect();\n",
              "        }}\n",
              "}});\n",
              "\n",
              "// Listen for the removal of the full notebook cells\n",
              "var notebookContainer = gd.closest('#notebook-container');\n",
              "if (notebookContainer) {{\n",
              "    x.observe(notebookContainer, {childList: true});\n",
              "}}\n",
              "\n",
              "// Listen for the clearing of the current output cell\n",
              "var outputEl = gd.closest('.output');\n",
              "if (outputEl) {{\n",
              "    x.observe(outputEl, {childList: true});\n",
              "}}\n",
              "\n",
              "                        })                };                            </script>        </div>\n",
              "</body>\n",
              "</html>"
            ]
          },
          "metadata": {}
        }
      ],
      "source": [
        "plot_cat_val(\"Category\",\"for each\",\"bar\")"
      ]
    },
    {
      "cell_type": "code",
      "execution_count": null,
      "id": "78e2282c-1130-441d-8a34-4d3dcf26c559",
      "metadata": {
        "id": "78e2282c-1130-441d-8a34-4d3dcf26c559",
        "colab": {
          "base_uri": "https://localhost:8080/",
          "height": 542
        },
        "outputId": "660ab767-124e-45c1-e961-d368751d409d"
      },
      "outputs": [
        {
          "output_type": "display_data",
          "data": {
            "text/html": [
              "<html>\n",
              "<head><meta charset=\"utf-8\" /></head>\n",
              "<body>\n",
              "    <div>            <script src=\"https://cdnjs.cloudflare.com/ajax/libs/mathjax/2.7.5/MathJax.js?config=TeX-AMS-MML_SVG\"></script><script type=\"text/javascript\">if (window.MathJax && window.MathJax.Hub && window.MathJax.Hub.Config) {window.MathJax.Hub.Config({SVG: {font: \"STIX-Web\"}});}</script>                <script type=\"text/javascript\">window.PlotlyConfig = {MathJaxConfig: 'local'};</script>\n",
              "        <script charset=\"utf-8\" src=\"https://cdn.plot.ly/plotly-2.35.2.min.js\"></script>                <div id=\"dd13ffea-949f-4958-a018-173ba36e08aa\" class=\"plotly-graph-div\" style=\"height:525px; width:100%;\"></div>            <script type=\"text/javascript\">                                    window.PLOTLYENV=window.PLOTLYENV || {};                                    if (document.getElementById(\"dd13ffea-949f-4958-a018-173ba36e08aa\")) {                    Plotly.newPlot(                        \"dd13ffea-949f-4958-a018-173ba36e08aa\",                        [{\"customdata\":[[\"Stationery\"],[\"Furniture\"],[\"Accessories\"],[\"Electronics\"],[\"Appliances\"]],\"domain\":{\"x\":[0.0,1.0],\"y\":[0.0,1.0]},\"hovertemplate\":\"Category=%{customdata[0]}\\u003cbr\\u003ecount=%{value}\\u003cextra\\u003e\\u003c\\u002fextra\\u003e\",\"labels\":[\"Stationery\",\"Furniture\",\"Accessories\",\"Electronics\",\"Appliances\"],\"legendgroup\":\"\",\"marker\":{\"colors\":[\"#636efa\",\"#EF553B\",\"#00cc96\",\"#ab63fa\",\"#FFA15A\"]},\"name\":\"\",\"showlegend\":true,\"values\":[117,100,96,94,93],\"type\":\"pie\"}],                        {\"template\":{\"data\":{\"histogram2dcontour\":[{\"type\":\"histogram2dcontour\",\"colorbar\":{\"outlinewidth\":0,\"ticks\":\"\"},\"colorscale\":[[0.0,\"#0d0887\"],[0.1111111111111111,\"#46039f\"],[0.2222222222222222,\"#7201a8\"],[0.3333333333333333,\"#9c179e\"],[0.4444444444444444,\"#bd3786\"],[0.5555555555555556,\"#d8576b\"],[0.6666666666666666,\"#ed7953\"],[0.7777777777777778,\"#fb9f3a\"],[0.8888888888888888,\"#fdca26\"],[1.0,\"#f0f921\"]]}],\"choropleth\":[{\"type\":\"choropleth\",\"colorbar\":{\"outlinewidth\":0,\"ticks\":\"\"}}],\"histogram2d\":[{\"type\":\"histogram2d\",\"colorbar\":{\"outlinewidth\":0,\"ticks\":\"\"},\"colorscale\":[[0.0,\"#0d0887\"],[0.1111111111111111,\"#46039f\"],[0.2222222222222222,\"#7201a8\"],[0.3333333333333333,\"#9c179e\"],[0.4444444444444444,\"#bd3786\"],[0.5555555555555556,\"#d8576b\"],[0.6666666666666666,\"#ed7953\"],[0.7777777777777778,\"#fb9f3a\"],[0.8888888888888888,\"#fdca26\"],[1.0,\"#f0f921\"]]}],\"heatmap\":[{\"type\":\"heatmap\",\"colorbar\":{\"outlinewidth\":0,\"ticks\":\"\"},\"colorscale\":[[0.0,\"#0d0887\"],[0.1111111111111111,\"#46039f\"],[0.2222222222222222,\"#7201a8\"],[0.3333333333333333,\"#9c179e\"],[0.4444444444444444,\"#bd3786\"],[0.5555555555555556,\"#d8576b\"],[0.6666666666666666,\"#ed7953\"],[0.7777777777777778,\"#fb9f3a\"],[0.8888888888888888,\"#fdca26\"],[1.0,\"#f0f921\"]]}],\"heatmapgl\":[{\"type\":\"heatmapgl\",\"colorbar\":{\"outlinewidth\":0,\"ticks\":\"\"},\"colorscale\":[[0.0,\"#0d0887\"],[0.1111111111111111,\"#46039f\"],[0.2222222222222222,\"#7201a8\"],[0.3333333333333333,\"#9c179e\"],[0.4444444444444444,\"#bd3786\"],[0.5555555555555556,\"#d8576b\"],[0.6666666666666666,\"#ed7953\"],[0.7777777777777778,\"#fb9f3a\"],[0.8888888888888888,\"#fdca26\"],[1.0,\"#f0f921\"]]}],\"contourcarpet\":[{\"type\":\"contourcarpet\",\"colorbar\":{\"outlinewidth\":0,\"ticks\":\"\"}}],\"contour\":[{\"type\":\"contour\",\"colorbar\":{\"outlinewidth\":0,\"ticks\":\"\"},\"colorscale\":[[0.0,\"#0d0887\"],[0.1111111111111111,\"#46039f\"],[0.2222222222222222,\"#7201a8\"],[0.3333333333333333,\"#9c179e\"],[0.4444444444444444,\"#bd3786\"],[0.5555555555555556,\"#d8576b\"],[0.6666666666666666,\"#ed7953\"],[0.7777777777777778,\"#fb9f3a\"],[0.8888888888888888,\"#fdca26\"],[1.0,\"#f0f921\"]]}],\"surface\":[{\"type\":\"surface\",\"colorbar\":{\"outlinewidth\":0,\"ticks\":\"\"},\"colorscale\":[[0.0,\"#0d0887\"],[0.1111111111111111,\"#46039f\"],[0.2222222222222222,\"#7201a8\"],[0.3333333333333333,\"#9c179e\"],[0.4444444444444444,\"#bd3786\"],[0.5555555555555556,\"#d8576b\"],[0.6666666666666666,\"#ed7953\"],[0.7777777777777778,\"#fb9f3a\"],[0.8888888888888888,\"#fdca26\"],[1.0,\"#f0f921\"]]}],\"mesh3d\":[{\"type\":\"mesh3d\",\"colorbar\":{\"outlinewidth\":0,\"ticks\":\"\"}}],\"scatter\":[{\"fillpattern\":{\"fillmode\":\"overlay\",\"size\":10,\"solidity\":0.2},\"type\":\"scatter\"}],\"parcoords\":[{\"type\":\"parcoords\",\"line\":{\"colorbar\":{\"outlinewidth\":0,\"ticks\":\"\"}}}],\"scatterpolargl\":[{\"type\":\"scatterpolargl\",\"marker\":{\"colorbar\":{\"outlinewidth\":0,\"ticks\":\"\"}}}],\"bar\":[{\"error_x\":{\"color\":\"#2a3f5f\"},\"error_y\":{\"color\":\"#2a3f5f\"},\"marker\":{\"line\":{\"color\":\"#E5ECF6\",\"width\":0.5},\"pattern\":{\"fillmode\":\"overlay\",\"size\":10,\"solidity\":0.2}},\"type\":\"bar\"}],\"scattergeo\":[{\"type\":\"scattergeo\",\"marker\":{\"colorbar\":{\"outlinewidth\":0,\"ticks\":\"\"}}}],\"scatterpolar\":[{\"type\":\"scatterpolar\",\"marker\":{\"colorbar\":{\"outlinewidth\":0,\"ticks\":\"\"}}}],\"histogram\":[{\"marker\":{\"pattern\":{\"fillmode\":\"overlay\",\"size\":10,\"solidity\":0.2}},\"type\":\"histogram\"}],\"scattergl\":[{\"type\":\"scattergl\",\"marker\":{\"colorbar\":{\"outlinewidth\":0,\"ticks\":\"\"}}}],\"scatter3d\":[{\"type\":\"scatter3d\",\"line\":{\"colorbar\":{\"outlinewidth\":0,\"ticks\":\"\"}},\"marker\":{\"colorbar\":{\"outlinewidth\":0,\"ticks\":\"\"}}}],\"scattermapbox\":[{\"type\":\"scattermapbox\",\"marker\":{\"colorbar\":{\"outlinewidth\":0,\"ticks\":\"\"}}}],\"scatterternary\":[{\"type\":\"scatterternary\",\"marker\":{\"colorbar\":{\"outlinewidth\":0,\"ticks\":\"\"}}}],\"scattercarpet\":[{\"type\":\"scattercarpet\",\"marker\":{\"colorbar\":{\"outlinewidth\":0,\"ticks\":\"\"}}}],\"carpet\":[{\"aaxis\":{\"endlinecolor\":\"#2a3f5f\",\"gridcolor\":\"white\",\"linecolor\":\"white\",\"minorgridcolor\":\"white\",\"startlinecolor\":\"#2a3f5f\"},\"baxis\":{\"endlinecolor\":\"#2a3f5f\",\"gridcolor\":\"white\",\"linecolor\":\"white\",\"minorgridcolor\":\"white\",\"startlinecolor\":\"#2a3f5f\"},\"type\":\"carpet\"}],\"table\":[{\"cells\":{\"fill\":{\"color\":\"#EBF0F8\"},\"line\":{\"color\":\"white\"}},\"header\":{\"fill\":{\"color\":\"#C8D4E3\"},\"line\":{\"color\":\"white\"}},\"type\":\"table\"}],\"barpolar\":[{\"marker\":{\"line\":{\"color\":\"#E5ECF6\",\"width\":0.5},\"pattern\":{\"fillmode\":\"overlay\",\"size\":10,\"solidity\":0.2}},\"type\":\"barpolar\"}],\"pie\":[{\"automargin\":true,\"type\":\"pie\"}]},\"layout\":{\"autotypenumbers\":\"strict\",\"colorway\":[\"#636efa\",\"#EF553B\",\"#00cc96\",\"#ab63fa\",\"#FFA15A\",\"#19d3f3\",\"#FF6692\",\"#B6E880\",\"#FF97FF\",\"#FECB52\"],\"font\":{\"color\":\"#2a3f5f\"},\"hovermode\":\"closest\",\"hoverlabel\":{\"align\":\"left\"},\"paper_bgcolor\":\"white\",\"plot_bgcolor\":\"#E5ECF6\",\"polar\":{\"bgcolor\":\"#E5ECF6\",\"angularaxis\":{\"gridcolor\":\"white\",\"linecolor\":\"white\",\"ticks\":\"\"},\"radialaxis\":{\"gridcolor\":\"white\",\"linecolor\":\"white\",\"ticks\":\"\"}},\"ternary\":{\"bgcolor\":\"#E5ECF6\",\"aaxis\":{\"gridcolor\":\"white\",\"linecolor\":\"white\",\"ticks\":\"\"},\"baxis\":{\"gridcolor\":\"white\",\"linecolor\":\"white\",\"ticks\":\"\"},\"caxis\":{\"gridcolor\":\"white\",\"linecolor\":\"white\",\"ticks\":\"\"}},\"coloraxis\":{\"colorbar\":{\"outlinewidth\":0,\"ticks\":\"\"}},\"colorscale\":{\"sequential\":[[0.0,\"#0d0887\"],[0.1111111111111111,\"#46039f\"],[0.2222222222222222,\"#7201a8\"],[0.3333333333333333,\"#9c179e\"],[0.4444444444444444,\"#bd3786\"],[0.5555555555555556,\"#d8576b\"],[0.6666666666666666,\"#ed7953\"],[0.7777777777777778,\"#fb9f3a\"],[0.8888888888888888,\"#fdca26\"],[1.0,\"#f0f921\"]],\"sequentialminus\":[[0.0,\"#0d0887\"],[0.1111111111111111,\"#46039f\"],[0.2222222222222222,\"#7201a8\"],[0.3333333333333333,\"#9c179e\"],[0.4444444444444444,\"#bd3786\"],[0.5555555555555556,\"#d8576b\"],[0.6666666666666666,\"#ed7953\"],[0.7777777777777778,\"#fb9f3a\"],[0.8888888888888888,\"#fdca26\"],[1.0,\"#f0f921\"]],\"diverging\":[[0,\"#8e0152\"],[0.1,\"#c51b7d\"],[0.2,\"#de77ae\"],[0.3,\"#f1b6da\"],[0.4,\"#fde0ef\"],[0.5,\"#f7f7f7\"],[0.6,\"#e6f5d0\"],[0.7,\"#b8e186\"],[0.8,\"#7fbc41\"],[0.9,\"#4d9221\"],[1,\"#276419\"]]},\"xaxis\":{\"gridcolor\":\"white\",\"linecolor\":\"white\",\"ticks\":\"\",\"title\":{\"standoff\":15},\"zerolinecolor\":\"white\",\"automargin\":true,\"zerolinewidth\":2},\"yaxis\":{\"gridcolor\":\"white\",\"linecolor\":\"white\",\"ticks\":\"\",\"title\":{\"standoff\":15},\"zerolinecolor\":\"white\",\"automargin\":true,\"zerolinewidth\":2},\"scene\":{\"xaxis\":{\"backgroundcolor\":\"#E5ECF6\",\"gridcolor\":\"white\",\"linecolor\":\"white\",\"showbackground\":true,\"ticks\":\"\",\"zerolinecolor\":\"white\",\"gridwidth\":2},\"yaxis\":{\"backgroundcolor\":\"#E5ECF6\",\"gridcolor\":\"white\",\"linecolor\":\"white\",\"showbackground\":true,\"ticks\":\"\",\"zerolinecolor\":\"white\",\"gridwidth\":2},\"zaxis\":{\"backgroundcolor\":\"#E5ECF6\",\"gridcolor\":\"white\",\"linecolor\":\"white\",\"showbackground\":true,\"ticks\":\"\",\"zerolinecolor\":\"white\",\"gridwidth\":2}},\"shapedefaults\":{\"line\":{\"color\":\"#2a3f5f\"}},\"annotationdefaults\":{\"arrowcolor\":\"#2a3f5f\",\"arrowhead\":0,\"arrowwidth\":1},\"geo\":{\"bgcolor\":\"white\",\"landcolor\":\"#E5ECF6\",\"subunitcolor\":\"white\",\"showland\":true,\"showlakes\":true,\"lakecolor\":\"white\"},\"title\":{\"x\":0.05},\"mapbox\":{\"style\":\"light\"}}},\"legend\":{\"tracegroupgap\":0},\"title\":{\"text\":\"Number of products for each Category\"}},                        {\"responsive\": true}                    ).then(function(){\n",
              "                            \n",
              "var gd = document.getElementById('dd13ffea-949f-4958-a018-173ba36e08aa');\n",
              "var x = new MutationObserver(function (mutations, observer) {{\n",
              "        var display = window.getComputedStyle(gd).display;\n",
              "        if (!display || display === 'none') {{\n",
              "            console.log([gd, 'removed!']);\n",
              "            Plotly.purge(gd);\n",
              "            observer.disconnect();\n",
              "        }}\n",
              "}});\n",
              "\n",
              "// Listen for the removal of the full notebook cells\n",
              "var notebookContainer = gd.closest('#notebook-container');\n",
              "if (notebookContainer) {{\n",
              "    x.observe(notebookContainer, {childList: true});\n",
              "}}\n",
              "\n",
              "// Listen for the clearing of the current output cell\n",
              "var outputEl = gd.closest('.output');\n",
              "if (outputEl) {{\n",
              "    x.observe(outputEl, {childList: true});\n",
              "}}\n",
              "\n",
              "                        })                };                            </script>        </div>\n",
              "</body>\n",
              "</html>"
            ]
          },
          "metadata": {}
        }
      ],
      "source": [
        "plot_cat_val('Category',\"for each\",\"pie\")"
      ]
    },
    {
      "cell_type": "code",
      "execution_count": null,
      "id": "e57ee841-2581-4401-9dce-6ca3ba5a7fd2",
      "metadata": {
        "id": "e57ee841-2581-4401-9dce-6ca3ba5a7fd2",
        "colab": {
          "base_uri": "https://localhost:8080/",
          "height": 542
        },
        "outputId": "48fa0127-f7a9-4886-dc3d-ff38b918e6d3"
      },
      "outputs": [
        {
          "output_type": "display_data",
          "data": {
            "text/html": [
              "<html>\n",
              "<head><meta charset=\"utf-8\" /></head>\n",
              "<body>\n",
              "    <div>            <script src=\"https://cdnjs.cloudflare.com/ajax/libs/mathjax/2.7.5/MathJax.js?config=TeX-AMS-MML_SVG\"></script><script type=\"text/javascript\">if (window.MathJax && window.MathJax.Hub && window.MathJax.Hub.Config) {window.MathJax.Hub.Config({SVG: {font: \"STIX-Web\"}});}</script>                <script type=\"text/javascript\">window.PlotlyConfig = {MathJaxConfig: 'local'};</script>\n",
              "        <script charset=\"utf-8\" src=\"https://cdn.plot.ly/plotly-2.35.2.min.js\"></script>                <div id=\"7cc5978d-5b73-41e7-8394-1aba2f4a1683\" class=\"plotly-graph-div\" style=\"height:525px; width:100%;\"></div>            <script type=\"text/javascript\">                                    window.PLOTLYENV=window.PLOTLYENV || {};                                    if (document.getElementById(\"7cc5978d-5b73-41e7-8394-1aba2f4a1683\")) {                    Plotly.newPlot(                        \"7cc5978d-5b73-41e7-8394-1aba2f4a1683\",                        [{\"alignmentgroup\":\"True\",\"hovertemplate\":\"Aisle=%{x}\\u003cbr\\u003ecount=%{y}\\u003cextra\\u003e\\u003c\\u002fextra\\u003e\",\"legendgroup\":\"A4\",\"marker\":{\"color\":\"#636efa\",\"pattern\":{\"shape\":\"\"}},\"name\":\"A4\",\"offsetgroup\":\"A4\",\"orientation\":\"v\",\"showlegend\":true,\"textposition\":\"auto\",\"x\":[\"A4\"],\"xaxis\":\"x\",\"y\":[115],\"yaxis\":\"y\",\"type\":\"bar\"},{\"alignmentgroup\":\"True\",\"hovertemplate\":\"Aisle=%{x}\\u003cbr\\u003ecount=%{y}\\u003cextra\\u003e\\u003c\\u002fextra\\u003e\",\"legendgroup\":\"A3\",\"marker\":{\"color\":\"#EF553B\",\"pattern\":{\"shape\":\"\"}},\"name\":\"A3\",\"offsetgroup\":\"A3\",\"orientation\":\"v\",\"showlegend\":true,\"textposition\":\"auto\",\"x\":[\"A3\"],\"xaxis\":\"x\",\"y\":[107],\"yaxis\":\"y\",\"type\":\"bar\"},{\"alignmentgroup\":\"True\",\"hovertemplate\":\"Aisle=%{x}\\u003cbr\\u003ecount=%{y}\\u003cextra\\u003e\\u003c\\u002fextra\\u003e\",\"legendgroup\":\"A1\",\"marker\":{\"color\":\"#00cc96\",\"pattern\":{\"shape\":\"\"}},\"name\":\"A1\",\"offsetgroup\":\"A1\",\"orientation\":\"v\",\"showlegend\":true,\"textposition\":\"auto\",\"x\":[\"A1\"],\"xaxis\":\"x\",\"y\":[102],\"yaxis\":\"y\",\"type\":\"bar\"},{\"alignmentgroup\":\"True\",\"hovertemplate\":\"Aisle=%{x}\\u003cbr\\u003ecount=%{y}\\u003cextra\\u003e\\u003c\\u002fextra\\u003e\",\"legendgroup\":\"A5\",\"marker\":{\"color\":\"#ab63fa\",\"pattern\":{\"shape\":\"\"}},\"name\":\"A5\",\"offsetgroup\":\"A5\",\"orientation\":\"v\",\"showlegend\":true,\"textposition\":\"auto\",\"x\":[\"A5\"],\"xaxis\":\"x\",\"y\":[93],\"yaxis\":\"y\",\"type\":\"bar\"},{\"alignmentgroup\":\"True\",\"hovertemplate\":\"Aisle=%{x}\\u003cbr\\u003ecount=%{y}\\u003cextra\\u003e\\u003c\\u002fextra\\u003e\",\"legendgroup\":\"A2\",\"marker\":{\"color\":\"#FFA15A\",\"pattern\":{\"shape\":\"\"}},\"name\":\"A2\",\"offsetgroup\":\"A2\",\"orientation\":\"v\",\"showlegend\":true,\"textposition\":\"auto\",\"x\":[\"A2\"],\"xaxis\":\"x\",\"y\":[83],\"yaxis\":\"y\",\"type\":\"bar\"}],                        {\"template\":{\"data\":{\"histogram2dcontour\":[{\"type\":\"histogram2dcontour\",\"colorbar\":{\"outlinewidth\":0,\"ticks\":\"\"},\"colorscale\":[[0.0,\"#0d0887\"],[0.1111111111111111,\"#46039f\"],[0.2222222222222222,\"#7201a8\"],[0.3333333333333333,\"#9c179e\"],[0.4444444444444444,\"#bd3786\"],[0.5555555555555556,\"#d8576b\"],[0.6666666666666666,\"#ed7953\"],[0.7777777777777778,\"#fb9f3a\"],[0.8888888888888888,\"#fdca26\"],[1.0,\"#f0f921\"]]}],\"choropleth\":[{\"type\":\"choropleth\",\"colorbar\":{\"outlinewidth\":0,\"ticks\":\"\"}}],\"histogram2d\":[{\"type\":\"histogram2d\",\"colorbar\":{\"outlinewidth\":0,\"ticks\":\"\"},\"colorscale\":[[0.0,\"#0d0887\"],[0.1111111111111111,\"#46039f\"],[0.2222222222222222,\"#7201a8\"],[0.3333333333333333,\"#9c179e\"],[0.4444444444444444,\"#bd3786\"],[0.5555555555555556,\"#d8576b\"],[0.6666666666666666,\"#ed7953\"],[0.7777777777777778,\"#fb9f3a\"],[0.8888888888888888,\"#fdca26\"],[1.0,\"#f0f921\"]]}],\"heatmap\":[{\"type\":\"heatmap\",\"colorbar\":{\"outlinewidth\":0,\"ticks\":\"\"},\"colorscale\":[[0.0,\"#0d0887\"],[0.1111111111111111,\"#46039f\"],[0.2222222222222222,\"#7201a8\"],[0.3333333333333333,\"#9c179e\"],[0.4444444444444444,\"#bd3786\"],[0.5555555555555556,\"#d8576b\"],[0.6666666666666666,\"#ed7953\"],[0.7777777777777778,\"#fb9f3a\"],[0.8888888888888888,\"#fdca26\"],[1.0,\"#f0f921\"]]}],\"heatmapgl\":[{\"type\":\"heatmapgl\",\"colorbar\":{\"outlinewidth\":0,\"ticks\":\"\"},\"colorscale\":[[0.0,\"#0d0887\"],[0.1111111111111111,\"#46039f\"],[0.2222222222222222,\"#7201a8\"],[0.3333333333333333,\"#9c179e\"],[0.4444444444444444,\"#bd3786\"],[0.5555555555555556,\"#d8576b\"],[0.6666666666666666,\"#ed7953\"],[0.7777777777777778,\"#fb9f3a\"],[0.8888888888888888,\"#fdca26\"],[1.0,\"#f0f921\"]]}],\"contourcarpet\":[{\"type\":\"contourcarpet\",\"colorbar\":{\"outlinewidth\":0,\"ticks\":\"\"}}],\"contour\":[{\"type\":\"contour\",\"colorbar\":{\"outlinewidth\":0,\"ticks\":\"\"},\"colorscale\":[[0.0,\"#0d0887\"],[0.1111111111111111,\"#46039f\"],[0.2222222222222222,\"#7201a8\"],[0.3333333333333333,\"#9c179e\"],[0.4444444444444444,\"#bd3786\"],[0.5555555555555556,\"#d8576b\"],[0.6666666666666666,\"#ed7953\"],[0.7777777777777778,\"#fb9f3a\"],[0.8888888888888888,\"#fdca26\"],[1.0,\"#f0f921\"]]}],\"surface\":[{\"type\":\"surface\",\"colorbar\":{\"outlinewidth\":0,\"ticks\":\"\"},\"colorscale\":[[0.0,\"#0d0887\"],[0.1111111111111111,\"#46039f\"],[0.2222222222222222,\"#7201a8\"],[0.3333333333333333,\"#9c179e\"],[0.4444444444444444,\"#bd3786\"],[0.5555555555555556,\"#d8576b\"],[0.6666666666666666,\"#ed7953\"],[0.7777777777777778,\"#fb9f3a\"],[0.8888888888888888,\"#fdca26\"],[1.0,\"#f0f921\"]]}],\"mesh3d\":[{\"type\":\"mesh3d\",\"colorbar\":{\"outlinewidth\":0,\"ticks\":\"\"}}],\"scatter\":[{\"fillpattern\":{\"fillmode\":\"overlay\",\"size\":10,\"solidity\":0.2},\"type\":\"scatter\"}],\"parcoords\":[{\"type\":\"parcoords\",\"line\":{\"colorbar\":{\"outlinewidth\":0,\"ticks\":\"\"}}}],\"scatterpolargl\":[{\"type\":\"scatterpolargl\",\"marker\":{\"colorbar\":{\"outlinewidth\":0,\"ticks\":\"\"}}}],\"bar\":[{\"error_x\":{\"color\":\"#2a3f5f\"},\"error_y\":{\"color\":\"#2a3f5f\"},\"marker\":{\"line\":{\"color\":\"#E5ECF6\",\"width\":0.5},\"pattern\":{\"fillmode\":\"overlay\",\"size\":10,\"solidity\":0.2}},\"type\":\"bar\"}],\"scattergeo\":[{\"type\":\"scattergeo\",\"marker\":{\"colorbar\":{\"outlinewidth\":0,\"ticks\":\"\"}}}],\"scatterpolar\":[{\"type\":\"scatterpolar\",\"marker\":{\"colorbar\":{\"outlinewidth\":0,\"ticks\":\"\"}}}],\"histogram\":[{\"marker\":{\"pattern\":{\"fillmode\":\"overlay\",\"size\":10,\"solidity\":0.2}},\"type\":\"histogram\"}],\"scattergl\":[{\"type\":\"scattergl\",\"marker\":{\"colorbar\":{\"outlinewidth\":0,\"ticks\":\"\"}}}],\"scatter3d\":[{\"type\":\"scatter3d\",\"line\":{\"colorbar\":{\"outlinewidth\":0,\"ticks\":\"\"}},\"marker\":{\"colorbar\":{\"outlinewidth\":0,\"ticks\":\"\"}}}],\"scattermapbox\":[{\"type\":\"scattermapbox\",\"marker\":{\"colorbar\":{\"outlinewidth\":0,\"ticks\":\"\"}}}],\"scatterternary\":[{\"type\":\"scatterternary\",\"marker\":{\"colorbar\":{\"outlinewidth\":0,\"ticks\":\"\"}}}],\"scattercarpet\":[{\"type\":\"scattercarpet\",\"marker\":{\"colorbar\":{\"outlinewidth\":0,\"ticks\":\"\"}}}],\"carpet\":[{\"aaxis\":{\"endlinecolor\":\"#2a3f5f\",\"gridcolor\":\"white\",\"linecolor\":\"white\",\"minorgridcolor\":\"white\",\"startlinecolor\":\"#2a3f5f\"},\"baxis\":{\"endlinecolor\":\"#2a3f5f\",\"gridcolor\":\"white\",\"linecolor\":\"white\",\"minorgridcolor\":\"white\",\"startlinecolor\":\"#2a3f5f\"},\"type\":\"carpet\"}],\"table\":[{\"cells\":{\"fill\":{\"color\":\"#EBF0F8\"},\"line\":{\"color\":\"white\"}},\"header\":{\"fill\":{\"color\":\"#C8D4E3\"},\"line\":{\"color\":\"white\"}},\"type\":\"table\"}],\"barpolar\":[{\"marker\":{\"line\":{\"color\":\"#E5ECF6\",\"width\":0.5},\"pattern\":{\"fillmode\":\"overlay\",\"size\":10,\"solidity\":0.2}},\"type\":\"barpolar\"}],\"pie\":[{\"automargin\":true,\"type\":\"pie\"}]},\"layout\":{\"autotypenumbers\":\"strict\",\"colorway\":[\"#636efa\",\"#EF553B\",\"#00cc96\",\"#ab63fa\",\"#FFA15A\",\"#19d3f3\",\"#FF6692\",\"#B6E880\",\"#FF97FF\",\"#FECB52\"],\"font\":{\"color\":\"#2a3f5f\"},\"hovermode\":\"closest\",\"hoverlabel\":{\"align\":\"left\"},\"paper_bgcolor\":\"white\",\"plot_bgcolor\":\"#E5ECF6\",\"polar\":{\"bgcolor\":\"#E5ECF6\",\"angularaxis\":{\"gridcolor\":\"white\",\"linecolor\":\"white\",\"ticks\":\"\"},\"radialaxis\":{\"gridcolor\":\"white\",\"linecolor\":\"white\",\"ticks\":\"\"}},\"ternary\":{\"bgcolor\":\"#E5ECF6\",\"aaxis\":{\"gridcolor\":\"white\",\"linecolor\":\"white\",\"ticks\":\"\"},\"baxis\":{\"gridcolor\":\"white\",\"linecolor\":\"white\",\"ticks\":\"\"},\"caxis\":{\"gridcolor\":\"white\",\"linecolor\":\"white\",\"ticks\":\"\"}},\"coloraxis\":{\"colorbar\":{\"outlinewidth\":0,\"ticks\":\"\"}},\"colorscale\":{\"sequential\":[[0.0,\"#0d0887\"],[0.1111111111111111,\"#46039f\"],[0.2222222222222222,\"#7201a8\"],[0.3333333333333333,\"#9c179e\"],[0.4444444444444444,\"#bd3786\"],[0.5555555555555556,\"#d8576b\"],[0.6666666666666666,\"#ed7953\"],[0.7777777777777778,\"#fb9f3a\"],[0.8888888888888888,\"#fdca26\"],[1.0,\"#f0f921\"]],\"sequentialminus\":[[0.0,\"#0d0887\"],[0.1111111111111111,\"#46039f\"],[0.2222222222222222,\"#7201a8\"],[0.3333333333333333,\"#9c179e\"],[0.4444444444444444,\"#bd3786\"],[0.5555555555555556,\"#d8576b\"],[0.6666666666666666,\"#ed7953\"],[0.7777777777777778,\"#fb9f3a\"],[0.8888888888888888,\"#fdca26\"],[1.0,\"#f0f921\"]],\"diverging\":[[0,\"#8e0152\"],[0.1,\"#c51b7d\"],[0.2,\"#de77ae\"],[0.3,\"#f1b6da\"],[0.4,\"#fde0ef\"],[0.5,\"#f7f7f7\"],[0.6,\"#e6f5d0\"],[0.7,\"#b8e186\"],[0.8,\"#7fbc41\"],[0.9,\"#4d9221\"],[1,\"#276419\"]]},\"xaxis\":{\"gridcolor\":\"white\",\"linecolor\":\"white\",\"ticks\":\"\",\"title\":{\"standoff\":15},\"zerolinecolor\":\"white\",\"automargin\":true,\"zerolinewidth\":2},\"yaxis\":{\"gridcolor\":\"white\",\"linecolor\":\"white\",\"ticks\":\"\",\"title\":{\"standoff\":15},\"zerolinecolor\":\"white\",\"automargin\":true,\"zerolinewidth\":2},\"scene\":{\"xaxis\":{\"backgroundcolor\":\"#E5ECF6\",\"gridcolor\":\"white\",\"linecolor\":\"white\",\"showbackground\":true,\"ticks\":\"\",\"zerolinecolor\":\"white\",\"gridwidth\":2},\"yaxis\":{\"backgroundcolor\":\"#E5ECF6\",\"gridcolor\":\"white\",\"linecolor\":\"white\",\"showbackground\":true,\"ticks\":\"\",\"zerolinecolor\":\"white\",\"gridwidth\":2},\"zaxis\":{\"backgroundcolor\":\"#E5ECF6\",\"gridcolor\":\"white\",\"linecolor\":\"white\",\"showbackground\":true,\"ticks\":\"\",\"zerolinecolor\":\"white\",\"gridwidth\":2}},\"shapedefaults\":{\"line\":{\"color\":\"#2a3f5f\"}},\"annotationdefaults\":{\"arrowcolor\":\"#2a3f5f\",\"arrowhead\":0,\"arrowwidth\":1},\"geo\":{\"bgcolor\":\"white\",\"landcolor\":\"#E5ECF6\",\"subunitcolor\":\"white\",\"showland\":true,\"showlakes\":true,\"lakecolor\":\"white\"},\"title\":{\"x\":0.05},\"mapbox\":{\"style\":\"light\"}}},\"xaxis\":{\"anchor\":\"y\",\"domain\":[0.0,1.0],\"title\":{\"text\":\"Aisle\"},\"categoryorder\":\"array\",\"categoryarray\":[\"A4\",\"A3\",\"A1\",\"A5\",\"A2\"]},\"yaxis\":{\"anchor\":\"x\",\"domain\":[0.0,1.0],\"title\":{\"text\":\"count\"}},\"legend\":{\"title\":{\"text\":\"Aisle\"},\"tracegroupgap\":0},\"title\":{\"text\":\"Number of products for each Aisle\"},\"barmode\":\"relative\"},                        {\"responsive\": true}                    ).then(function(){\n",
              "                            \n",
              "var gd = document.getElementById('7cc5978d-5b73-41e7-8394-1aba2f4a1683');\n",
              "var x = new MutationObserver(function (mutations, observer) {{\n",
              "        var display = window.getComputedStyle(gd).display;\n",
              "        if (!display || display === 'none') {{\n",
              "            console.log([gd, 'removed!']);\n",
              "            Plotly.purge(gd);\n",
              "            observer.disconnect();\n",
              "        }}\n",
              "}});\n",
              "\n",
              "// Listen for the removal of the full notebook cells\n",
              "var notebookContainer = gd.closest('#notebook-container');\n",
              "if (notebookContainer) {{\n",
              "    x.observe(notebookContainer, {childList: true});\n",
              "}}\n",
              "\n",
              "// Listen for the clearing of the current output cell\n",
              "var outputEl = gd.closest('.output');\n",
              "if (outputEl) {{\n",
              "    x.observe(outputEl, {childList: true});\n",
              "}}\n",
              "\n",
              "                        })                };                            </script>        </div>\n",
              "</body>\n",
              "</html>"
            ]
          },
          "metadata": {}
        }
      ],
      "source": [
        "plot_cat_val(\"Aisle\",\"for each\",\"bar\")"
      ]
    },
    {
      "cell_type": "code",
      "execution_count": null,
      "id": "261b72af-71c0-423e-a62b-b808cf84f1c1",
      "metadata": {
        "id": "261b72af-71c0-423e-a62b-b808cf84f1c1",
        "colab": {
          "base_uri": "https://localhost:8080/",
          "height": 542
        },
        "outputId": "b1872c34-8908-4159-f975-247d123e98e1"
      },
      "outputs": [
        {
          "output_type": "display_data",
          "data": {
            "text/html": [
              "<html>\n",
              "<head><meta charset=\"utf-8\" /></head>\n",
              "<body>\n",
              "    <div>            <script src=\"https://cdnjs.cloudflare.com/ajax/libs/mathjax/2.7.5/MathJax.js?config=TeX-AMS-MML_SVG\"></script><script type=\"text/javascript\">if (window.MathJax && window.MathJax.Hub && window.MathJax.Hub.Config) {window.MathJax.Hub.Config({SVG: {font: \"STIX-Web\"}});}</script>                <script type=\"text/javascript\">window.PlotlyConfig = {MathJaxConfig: 'local'};</script>\n",
              "        <script charset=\"utf-8\" src=\"https://cdn.plot.ly/plotly-2.35.2.min.js\"></script>                <div id=\"9d3d291a-64ab-49b8-b0d1-8bb22862e015\" class=\"plotly-graph-div\" style=\"height:525px; width:100%;\"></div>            <script type=\"text/javascript\">                                    window.PLOTLYENV=window.PLOTLYENV || {};                                    if (document.getElementById(\"9d3d291a-64ab-49b8-b0d1-8bb22862e015\")) {                    Plotly.newPlot(                        \"9d3d291a-64ab-49b8-b0d1-8bb22862e015\",                        [{\"customdata\":[[\"A4\"],[\"A3\"],[\"A1\"],[\"A5\"],[\"A2\"]],\"domain\":{\"x\":[0.0,1.0],\"y\":[0.0,1.0]},\"hovertemplate\":\"Aisle=%{customdata[0]}\\u003cbr\\u003ecount=%{value}\\u003cextra\\u003e\\u003c\\u002fextra\\u003e\",\"labels\":[\"A4\",\"A3\",\"A1\",\"A5\",\"A2\"],\"legendgroup\":\"\",\"marker\":{\"colors\":[\"#636efa\",\"#EF553B\",\"#00cc96\",\"#ab63fa\",\"#FFA15A\"]},\"name\":\"\",\"showlegend\":true,\"values\":[115,107,102,93,83],\"type\":\"pie\"}],                        {\"template\":{\"data\":{\"histogram2dcontour\":[{\"type\":\"histogram2dcontour\",\"colorbar\":{\"outlinewidth\":0,\"ticks\":\"\"},\"colorscale\":[[0.0,\"#0d0887\"],[0.1111111111111111,\"#46039f\"],[0.2222222222222222,\"#7201a8\"],[0.3333333333333333,\"#9c179e\"],[0.4444444444444444,\"#bd3786\"],[0.5555555555555556,\"#d8576b\"],[0.6666666666666666,\"#ed7953\"],[0.7777777777777778,\"#fb9f3a\"],[0.8888888888888888,\"#fdca26\"],[1.0,\"#f0f921\"]]}],\"choropleth\":[{\"type\":\"choropleth\",\"colorbar\":{\"outlinewidth\":0,\"ticks\":\"\"}}],\"histogram2d\":[{\"type\":\"histogram2d\",\"colorbar\":{\"outlinewidth\":0,\"ticks\":\"\"},\"colorscale\":[[0.0,\"#0d0887\"],[0.1111111111111111,\"#46039f\"],[0.2222222222222222,\"#7201a8\"],[0.3333333333333333,\"#9c179e\"],[0.4444444444444444,\"#bd3786\"],[0.5555555555555556,\"#d8576b\"],[0.6666666666666666,\"#ed7953\"],[0.7777777777777778,\"#fb9f3a\"],[0.8888888888888888,\"#fdca26\"],[1.0,\"#f0f921\"]]}],\"heatmap\":[{\"type\":\"heatmap\",\"colorbar\":{\"outlinewidth\":0,\"ticks\":\"\"},\"colorscale\":[[0.0,\"#0d0887\"],[0.1111111111111111,\"#46039f\"],[0.2222222222222222,\"#7201a8\"],[0.3333333333333333,\"#9c179e\"],[0.4444444444444444,\"#bd3786\"],[0.5555555555555556,\"#d8576b\"],[0.6666666666666666,\"#ed7953\"],[0.7777777777777778,\"#fb9f3a\"],[0.8888888888888888,\"#fdca26\"],[1.0,\"#f0f921\"]]}],\"heatmapgl\":[{\"type\":\"heatmapgl\",\"colorbar\":{\"outlinewidth\":0,\"ticks\":\"\"},\"colorscale\":[[0.0,\"#0d0887\"],[0.1111111111111111,\"#46039f\"],[0.2222222222222222,\"#7201a8\"],[0.3333333333333333,\"#9c179e\"],[0.4444444444444444,\"#bd3786\"],[0.5555555555555556,\"#d8576b\"],[0.6666666666666666,\"#ed7953\"],[0.7777777777777778,\"#fb9f3a\"],[0.8888888888888888,\"#fdca26\"],[1.0,\"#f0f921\"]]}],\"contourcarpet\":[{\"type\":\"contourcarpet\",\"colorbar\":{\"outlinewidth\":0,\"ticks\":\"\"}}],\"contour\":[{\"type\":\"contour\",\"colorbar\":{\"outlinewidth\":0,\"ticks\":\"\"},\"colorscale\":[[0.0,\"#0d0887\"],[0.1111111111111111,\"#46039f\"],[0.2222222222222222,\"#7201a8\"],[0.3333333333333333,\"#9c179e\"],[0.4444444444444444,\"#bd3786\"],[0.5555555555555556,\"#d8576b\"],[0.6666666666666666,\"#ed7953\"],[0.7777777777777778,\"#fb9f3a\"],[0.8888888888888888,\"#fdca26\"],[1.0,\"#f0f921\"]]}],\"surface\":[{\"type\":\"surface\",\"colorbar\":{\"outlinewidth\":0,\"ticks\":\"\"},\"colorscale\":[[0.0,\"#0d0887\"],[0.1111111111111111,\"#46039f\"],[0.2222222222222222,\"#7201a8\"],[0.3333333333333333,\"#9c179e\"],[0.4444444444444444,\"#bd3786\"],[0.5555555555555556,\"#d8576b\"],[0.6666666666666666,\"#ed7953\"],[0.7777777777777778,\"#fb9f3a\"],[0.8888888888888888,\"#fdca26\"],[1.0,\"#f0f921\"]]}],\"mesh3d\":[{\"type\":\"mesh3d\",\"colorbar\":{\"outlinewidth\":0,\"ticks\":\"\"}}],\"scatter\":[{\"fillpattern\":{\"fillmode\":\"overlay\",\"size\":10,\"solidity\":0.2},\"type\":\"scatter\"}],\"parcoords\":[{\"type\":\"parcoords\",\"line\":{\"colorbar\":{\"outlinewidth\":0,\"ticks\":\"\"}}}],\"scatterpolargl\":[{\"type\":\"scatterpolargl\",\"marker\":{\"colorbar\":{\"outlinewidth\":0,\"ticks\":\"\"}}}],\"bar\":[{\"error_x\":{\"color\":\"#2a3f5f\"},\"error_y\":{\"color\":\"#2a3f5f\"},\"marker\":{\"line\":{\"color\":\"#E5ECF6\",\"width\":0.5},\"pattern\":{\"fillmode\":\"overlay\",\"size\":10,\"solidity\":0.2}},\"type\":\"bar\"}],\"scattergeo\":[{\"type\":\"scattergeo\",\"marker\":{\"colorbar\":{\"outlinewidth\":0,\"ticks\":\"\"}}}],\"scatterpolar\":[{\"type\":\"scatterpolar\",\"marker\":{\"colorbar\":{\"outlinewidth\":0,\"ticks\":\"\"}}}],\"histogram\":[{\"marker\":{\"pattern\":{\"fillmode\":\"overlay\",\"size\":10,\"solidity\":0.2}},\"type\":\"histogram\"}],\"scattergl\":[{\"type\":\"scattergl\",\"marker\":{\"colorbar\":{\"outlinewidth\":0,\"ticks\":\"\"}}}],\"scatter3d\":[{\"type\":\"scatter3d\",\"line\":{\"colorbar\":{\"outlinewidth\":0,\"ticks\":\"\"}},\"marker\":{\"colorbar\":{\"outlinewidth\":0,\"ticks\":\"\"}}}],\"scattermapbox\":[{\"type\":\"scattermapbox\",\"marker\":{\"colorbar\":{\"outlinewidth\":0,\"ticks\":\"\"}}}],\"scatterternary\":[{\"type\":\"scatterternary\",\"marker\":{\"colorbar\":{\"outlinewidth\":0,\"ticks\":\"\"}}}],\"scattercarpet\":[{\"type\":\"scattercarpet\",\"marker\":{\"colorbar\":{\"outlinewidth\":0,\"ticks\":\"\"}}}],\"carpet\":[{\"aaxis\":{\"endlinecolor\":\"#2a3f5f\",\"gridcolor\":\"white\",\"linecolor\":\"white\",\"minorgridcolor\":\"white\",\"startlinecolor\":\"#2a3f5f\"},\"baxis\":{\"endlinecolor\":\"#2a3f5f\",\"gridcolor\":\"white\",\"linecolor\":\"white\",\"minorgridcolor\":\"white\",\"startlinecolor\":\"#2a3f5f\"},\"type\":\"carpet\"}],\"table\":[{\"cells\":{\"fill\":{\"color\":\"#EBF0F8\"},\"line\":{\"color\":\"white\"}},\"header\":{\"fill\":{\"color\":\"#C8D4E3\"},\"line\":{\"color\":\"white\"}},\"type\":\"table\"}],\"barpolar\":[{\"marker\":{\"line\":{\"color\":\"#E5ECF6\",\"width\":0.5},\"pattern\":{\"fillmode\":\"overlay\",\"size\":10,\"solidity\":0.2}},\"type\":\"barpolar\"}],\"pie\":[{\"automargin\":true,\"type\":\"pie\"}]},\"layout\":{\"autotypenumbers\":\"strict\",\"colorway\":[\"#636efa\",\"#EF553B\",\"#00cc96\",\"#ab63fa\",\"#FFA15A\",\"#19d3f3\",\"#FF6692\",\"#B6E880\",\"#FF97FF\",\"#FECB52\"],\"font\":{\"color\":\"#2a3f5f\"},\"hovermode\":\"closest\",\"hoverlabel\":{\"align\":\"left\"},\"paper_bgcolor\":\"white\",\"plot_bgcolor\":\"#E5ECF6\",\"polar\":{\"bgcolor\":\"#E5ECF6\",\"angularaxis\":{\"gridcolor\":\"white\",\"linecolor\":\"white\",\"ticks\":\"\"},\"radialaxis\":{\"gridcolor\":\"white\",\"linecolor\":\"white\",\"ticks\":\"\"}},\"ternary\":{\"bgcolor\":\"#E5ECF6\",\"aaxis\":{\"gridcolor\":\"white\",\"linecolor\":\"white\",\"ticks\":\"\"},\"baxis\":{\"gridcolor\":\"white\",\"linecolor\":\"white\",\"ticks\":\"\"},\"caxis\":{\"gridcolor\":\"white\",\"linecolor\":\"white\",\"ticks\":\"\"}},\"coloraxis\":{\"colorbar\":{\"outlinewidth\":0,\"ticks\":\"\"}},\"colorscale\":{\"sequential\":[[0.0,\"#0d0887\"],[0.1111111111111111,\"#46039f\"],[0.2222222222222222,\"#7201a8\"],[0.3333333333333333,\"#9c179e\"],[0.4444444444444444,\"#bd3786\"],[0.5555555555555556,\"#d8576b\"],[0.6666666666666666,\"#ed7953\"],[0.7777777777777778,\"#fb9f3a\"],[0.8888888888888888,\"#fdca26\"],[1.0,\"#f0f921\"]],\"sequentialminus\":[[0.0,\"#0d0887\"],[0.1111111111111111,\"#46039f\"],[0.2222222222222222,\"#7201a8\"],[0.3333333333333333,\"#9c179e\"],[0.4444444444444444,\"#bd3786\"],[0.5555555555555556,\"#d8576b\"],[0.6666666666666666,\"#ed7953\"],[0.7777777777777778,\"#fb9f3a\"],[0.8888888888888888,\"#fdca26\"],[1.0,\"#f0f921\"]],\"diverging\":[[0,\"#8e0152\"],[0.1,\"#c51b7d\"],[0.2,\"#de77ae\"],[0.3,\"#f1b6da\"],[0.4,\"#fde0ef\"],[0.5,\"#f7f7f7\"],[0.6,\"#e6f5d0\"],[0.7,\"#b8e186\"],[0.8,\"#7fbc41\"],[0.9,\"#4d9221\"],[1,\"#276419\"]]},\"xaxis\":{\"gridcolor\":\"white\",\"linecolor\":\"white\",\"ticks\":\"\",\"title\":{\"standoff\":15},\"zerolinecolor\":\"white\",\"automargin\":true,\"zerolinewidth\":2},\"yaxis\":{\"gridcolor\":\"white\",\"linecolor\":\"white\",\"ticks\":\"\",\"title\":{\"standoff\":15},\"zerolinecolor\":\"white\",\"automargin\":true,\"zerolinewidth\":2},\"scene\":{\"xaxis\":{\"backgroundcolor\":\"#E5ECF6\",\"gridcolor\":\"white\",\"linecolor\":\"white\",\"showbackground\":true,\"ticks\":\"\",\"zerolinecolor\":\"white\",\"gridwidth\":2},\"yaxis\":{\"backgroundcolor\":\"#E5ECF6\",\"gridcolor\":\"white\",\"linecolor\":\"white\",\"showbackground\":true,\"ticks\":\"\",\"zerolinecolor\":\"white\",\"gridwidth\":2},\"zaxis\":{\"backgroundcolor\":\"#E5ECF6\",\"gridcolor\":\"white\",\"linecolor\":\"white\",\"showbackground\":true,\"ticks\":\"\",\"zerolinecolor\":\"white\",\"gridwidth\":2}},\"shapedefaults\":{\"line\":{\"color\":\"#2a3f5f\"}},\"annotationdefaults\":{\"arrowcolor\":\"#2a3f5f\",\"arrowhead\":0,\"arrowwidth\":1},\"geo\":{\"bgcolor\":\"white\",\"landcolor\":\"#E5ECF6\",\"subunitcolor\":\"white\",\"showland\":true,\"showlakes\":true,\"lakecolor\":\"white\"},\"title\":{\"x\":0.05},\"mapbox\":{\"style\":\"light\"}}},\"legend\":{\"tracegroupgap\":0},\"title\":{\"text\":\"Number of products for each Aisle\"}},                        {\"responsive\": true}                    ).then(function(){\n",
              "                            \n",
              "var gd = document.getElementById('9d3d291a-64ab-49b8-b0d1-8bb22862e015');\n",
              "var x = new MutationObserver(function (mutations, observer) {{\n",
              "        var display = window.getComputedStyle(gd).display;\n",
              "        if (!display || display === 'none') {{\n",
              "            console.log([gd, 'removed!']);\n",
              "            Plotly.purge(gd);\n",
              "            observer.disconnect();\n",
              "        }}\n",
              "}});\n",
              "\n",
              "// Listen for the removal of the full notebook cells\n",
              "var notebookContainer = gd.closest('#notebook-container');\n",
              "if (notebookContainer) {{\n",
              "    x.observe(notebookContainer, {childList: true});\n",
              "}}\n",
              "\n",
              "// Listen for the clearing of the current output cell\n",
              "var outputEl = gd.closest('.output');\n",
              "if (outputEl) {{\n",
              "    x.observe(outputEl, {childList: true});\n",
              "}}\n",
              "\n",
              "                        })                };                            </script>        </div>\n",
              "</body>\n",
              "</html>"
            ]
          },
          "metadata": {}
        }
      ],
      "source": [
        "plot_cat_val(\"Aisle\",\"for each\",\"pie\")"
      ]
    },
    {
      "cell_type": "markdown",
      "id": "3c73f8a3-e7fa-4d22-9a37-6ef1c19c8c86",
      "metadata": {
        "id": "3c73f8a3-e7fa-4d22-9a37-6ef1c19c8c86"
      },
      "source": [
        "#### Quantity of products in each Aisle and Category"
      ]
    },
    {
      "cell_type": "code",
      "execution_count": null,
      "id": "3b958d62-8865-4f64-8c68-32e1162c743c",
      "metadata": {
        "id": "3b958d62-8865-4f64-8c68-32e1162c743c",
        "colab": {
          "base_uri": "https://localhost:8080/",
          "height": 542
        },
        "outputId": "908fb296-40c6-4253-bfe3-7d29f2f94f33"
      },
      "outputs": [
        {
          "output_type": "display_data",
          "data": {
            "text/html": [
              "<html>\n",
              "<head><meta charset=\"utf-8\" /></head>\n",
              "<body>\n",
              "    <div>            <script src=\"https://cdnjs.cloudflare.com/ajax/libs/mathjax/2.7.5/MathJax.js?config=TeX-AMS-MML_SVG\"></script><script type=\"text/javascript\">if (window.MathJax && window.MathJax.Hub && window.MathJax.Hub.Config) {window.MathJax.Hub.Config({SVG: {font: \"STIX-Web\"}});}</script>                <script type=\"text/javascript\">window.PlotlyConfig = {MathJaxConfig: 'local'};</script>\n",
              "        <script charset=\"utf-8\" src=\"https://cdn.plot.ly/plotly-2.35.2.min.js\"></script>                <div id=\"82689987-65c5-4ea1-a5dd-79a03475af42\" class=\"plotly-graph-div\" style=\"height:525px; width:100%;\"></div>            <script type=\"text/javascript\">                                    window.PLOTLYENV=window.PLOTLYENV || {};                                    if (document.getElementById(\"82689987-65c5-4ea1-a5dd-79a03475af42\")) {                    Plotly.newPlot(                        \"82689987-65c5-4ea1-a5dd-79a03475af42\",                        [{\"branchvalues\":\"total\",\"customdata\":[[\"A5\"],[\"A5\"],[\"A1\"],[\"A5\"],[\"A1\"],[\"A4\"],[\"A3\"],[\"A3\"],[\"A1\"],[\"A1\"],[\"A5\"],[\"A2\"],[\"A3\"],[\"A5\"],[\"A2\"],[\"A3\"],[\"A1\"],[\"A2\"],[\"A4\"],[\"A4\"],[\"A3\"],[\"A4\"],[\"A2\"],[\"A1\"],[\"A2\"],[\"A2\"],[\"A4\"],[\"A4\"],[\"A3\"],[\"A5\"]],\"domain\":{\"x\":[0.0,1.0],\"y\":[0.0,1.0]},\"hovertemplate\":\"labels=%{label}\\u003cbr\\u003eQuantity=%{value}\\u003cbr\\u003eparent=%{parent}\\u003cbr\\u003eid=%{id}\\u003cbr\\u003eAisle=%{customdata[0]}\\u003cextra\\u003e\\u003c\\u002fextra\\u003e\",\"ids\":[\"A5\",\"A5\\u002fStationery\",\"A1\\u002fStationery\",\"A5\\u002fFurniture\",\"A1\\u002fAppliances\",\"A4\\u002fElectronics\",\"A3\",\"A3\\u002fFurniture\",\"A1\\u002fFurniture\",\"A1\\u002fAccessories\",\"A5\\u002fAccessories\",\"A2\\u002fAccessories\",\"A3\\u002fAppliances\",\"A5\\u002fAppliances\",\"A2\\u002fElectronics\",\"A3\\u002fElectronics\",\"A1\",\"A2\\u002fAppliances\",\"A4\\u002fFurniture\",\"A4\\u002fAccessories\",\"A3\\u002fAccessories\",\"A4\\u002fStationery\",\"A2\",\"A1\\u002fElectronics\",\"A2\\u002fStationery\",\"A2\\u002fFurniture\",\"A4\\u002fAppliances\",\"A4\",\"A3\\u002fStationery\",\"A5\\u002fElectronics\"],\"labels\":[\"A5\",\"Stationery\",\"Stationery\",\"Furniture\",\"Appliances\",\"Electronics\",\"A3\",\"Furniture\",\"Furniture\",\"Accessories\",\"Accessories\",\"Accessories\",\"Appliances\",\"Appliances\",\"Electronics\",\"Electronics\",\"A1\",\"Appliances\",\"Furniture\",\"Accessories\",\"Accessories\",\"Stationery\",\"A2\",\"Electronics\",\"Stationery\",\"Furniture\",\"Appliances\",\"A4\",\"Stationery\",\"Electronics\"],\"marker\":{\"colors\":[\"#636efa\",\"#636efa\",\"#EF553B\",\"#636efa\",\"#EF553B\",\"#00cc96\",\"#ab63fa\",\"#ab63fa\",\"#EF553B\",\"#EF553B\",\"#636efa\",\"#FFA15A\",\"#ab63fa\",\"#636efa\",\"#FFA15A\",\"#ab63fa\",\"#EF553B\",\"#FFA15A\",\"#00cc96\",\"#00cc96\",\"#ab63fa\",\"#00cc96\",\"#FFA15A\",\"#EF553B\",\"#FFA15A\",\"#FFA15A\",\"#00cc96\",\"#00cc96\",\"#ab63fa\",\"#636efa\"]},\"name\":\"\",\"parents\":[\"\",\"A5\",\"A1\",\"A5\",\"A1\",\"A4\",\"\",\"A3\",\"A1\",\"A1\",\"A5\",\"A2\",\"A3\",\"A5\",\"A2\",\"A3\",\"\",\"A2\",\"A4\",\"A4\",\"A3\",\"A4\",\"\",\"A1\",\"A2\",\"A2\",\"A4\",\"\",\"A3\",\"A5\"],\"values\":[9589,3136,1801,1287,2261,1643,10520,1832,1581,2359,1840,1957,1489,1799,1593,2379,10025,1008,2217,2074,2378,2893,8393,2023,1272,2563,2556,11383,2442,1527],\"type\":\"sunburst\"}],                        {\"template\":{\"data\":{\"histogram2dcontour\":[{\"type\":\"histogram2dcontour\",\"colorbar\":{\"outlinewidth\":0,\"ticks\":\"\"},\"colorscale\":[[0.0,\"#0d0887\"],[0.1111111111111111,\"#46039f\"],[0.2222222222222222,\"#7201a8\"],[0.3333333333333333,\"#9c179e\"],[0.4444444444444444,\"#bd3786\"],[0.5555555555555556,\"#d8576b\"],[0.6666666666666666,\"#ed7953\"],[0.7777777777777778,\"#fb9f3a\"],[0.8888888888888888,\"#fdca26\"],[1.0,\"#f0f921\"]]}],\"choropleth\":[{\"type\":\"choropleth\",\"colorbar\":{\"outlinewidth\":0,\"ticks\":\"\"}}],\"histogram2d\":[{\"type\":\"histogram2d\",\"colorbar\":{\"outlinewidth\":0,\"ticks\":\"\"},\"colorscale\":[[0.0,\"#0d0887\"],[0.1111111111111111,\"#46039f\"],[0.2222222222222222,\"#7201a8\"],[0.3333333333333333,\"#9c179e\"],[0.4444444444444444,\"#bd3786\"],[0.5555555555555556,\"#d8576b\"],[0.6666666666666666,\"#ed7953\"],[0.7777777777777778,\"#fb9f3a\"],[0.8888888888888888,\"#fdca26\"],[1.0,\"#f0f921\"]]}],\"heatmap\":[{\"type\":\"heatmap\",\"colorbar\":{\"outlinewidth\":0,\"ticks\":\"\"},\"colorscale\":[[0.0,\"#0d0887\"],[0.1111111111111111,\"#46039f\"],[0.2222222222222222,\"#7201a8\"],[0.3333333333333333,\"#9c179e\"],[0.4444444444444444,\"#bd3786\"],[0.5555555555555556,\"#d8576b\"],[0.6666666666666666,\"#ed7953\"],[0.7777777777777778,\"#fb9f3a\"],[0.8888888888888888,\"#fdca26\"],[1.0,\"#f0f921\"]]}],\"heatmapgl\":[{\"type\":\"heatmapgl\",\"colorbar\":{\"outlinewidth\":0,\"ticks\":\"\"},\"colorscale\":[[0.0,\"#0d0887\"],[0.1111111111111111,\"#46039f\"],[0.2222222222222222,\"#7201a8\"],[0.3333333333333333,\"#9c179e\"],[0.4444444444444444,\"#bd3786\"],[0.5555555555555556,\"#d8576b\"],[0.6666666666666666,\"#ed7953\"],[0.7777777777777778,\"#fb9f3a\"],[0.8888888888888888,\"#fdca26\"],[1.0,\"#f0f921\"]]}],\"contourcarpet\":[{\"type\":\"contourcarpet\",\"colorbar\":{\"outlinewidth\":0,\"ticks\":\"\"}}],\"contour\":[{\"type\":\"contour\",\"colorbar\":{\"outlinewidth\":0,\"ticks\":\"\"},\"colorscale\":[[0.0,\"#0d0887\"],[0.1111111111111111,\"#46039f\"],[0.2222222222222222,\"#7201a8\"],[0.3333333333333333,\"#9c179e\"],[0.4444444444444444,\"#bd3786\"],[0.5555555555555556,\"#d8576b\"],[0.6666666666666666,\"#ed7953\"],[0.7777777777777778,\"#fb9f3a\"],[0.8888888888888888,\"#fdca26\"],[1.0,\"#f0f921\"]]}],\"surface\":[{\"type\":\"surface\",\"colorbar\":{\"outlinewidth\":0,\"ticks\":\"\"},\"colorscale\":[[0.0,\"#0d0887\"],[0.1111111111111111,\"#46039f\"],[0.2222222222222222,\"#7201a8\"],[0.3333333333333333,\"#9c179e\"],[0.4444444444444444,\"#bd3786\"],[0.5555555555555556,\"#d8576b\"],[0.6666666666666666,\"#ed7953\"],[0.7777777777777778,\"#fb9f3a\"],[0.8888888888888888,\"#fdca26\"],[1.0,\"#f0f921\"]]}],\"mesh3d\":[{\"type\":\"mesh3d\",\"colorbar\":{\"outlinewidth\":0,\"ticks\":\"\"}}],\"scatter\":[{\"fillpattern\":{\"fillmode\":\"overlay\",\"size\":10,\"solidity\":0.2},\"type\":\"scatter\"}],\"parcoords\":[{\"type\":\"parcoords\",\"line\":{\"colorbar\":{\"outlinewidth\":0,\"ticks\":\"\"}}}],\"scatterpolargl\":[{\"type\":\"scatterpolargl\",\"marker\":{\"colorbar\":{\"outlinewidth\":0,\"ticks\":\"\"}}}],\"bar\":[{\"error_x\":{\"color\":\"#2a3f5f\"},\"error_y\":{\"color\":\"#2a3f5f\"},\"marker\":{\"line\":{\"color\":\"#E5ECF6\",\"width\":0.5},\"pattern\":{\"fillmode\":\"overlay\",\"size\":10,\"solidity\":0.2}},\"type\":\"bar\"}],\"scattergeo\":[{\"type\":\"scattergeo\",\"marker\":{\"colorbar\":{\"outlinewidth\":0,\"ticks\":\"\"}}}],\"scatterpolar\":[{\"type\":\"scatterpolar\",\"marker\":{\"colorbar\":{\"outlinewidth\":0,\"ticks\":\"\"}}}],\"histogram\":[{\"marker\":{\"pattern\":{\"fillmode\":\"overlay\",\"size\":10,\"solidity\":0.2}},\"type\":\"histogram\"}],\"scattergl\":[{\"type\":\"scattergl\",\"marker\":{\"colorbar\":{\"outlinewidth\":0,\"ticks\":\"\"}}}],\"scatter3d\":[{\"type\":\"scatter3d\",\"line\":{\"colorbar\":{\"outlinewidth\":0,\"ticks\":\"\"}},\"marker\":{\"colorbar\":{\"outlinewidth\":0,\"ticks\":\"\"}}}],\"scattermapbox\":[{\"type\":\"scattermapbox\",\"marker\":{\"colorbar\":{\"outlinewidth\":0,\"ticks\":\"\"}}}],\"scatterternary\":[{\"type\":\"scatterternary\",\"marker\":{\"colorbar\":{\"outlinewidth\":0,\"ticks\":\"\"}}}],\"scattercarpet\":[{\"type\":\"scattercarpet\",\"marker\":{\"colorbar\":{\"outlinewidth\":0,\"ticks\":\"\"}}}],\"carpet\":[{\"aaxis\":{\"endlinecolor\":\"#2a3f5f\",\"gridcolor\":\"white\",\"linecolor\":\"white\",\"minorgridcolor\":\"white\",\"startlinecolor\":\"#2a3f5f\"},\"baxis\":{\"endlinecolor\":\"#2a3f5f\",\"gridcolor\":\"white\",\"linecolor\":\"white\",\"minorgridcolor\":\"white\",\"startlinecolor\":\"#2a3f5f\"},\"type\":\"carpet\"}],\"table\":[{\"cells\":{\"fill\":{\"color\":\"#EBF0F8\"},\"line\":{\"color\":\"white\"}},\"header\":{\"fill\":{\"color\":\"#C8D4E3\"},\"line\":{\"color\":\"white\"}},\"type\":\"table\"}],\"barpolar\":[{\"marker\":{\"line\":{\"color\":\"#E5ECF6\",\"width\":0.5},\"pattern\":{\"fillmode\":\"overlay\",\"size\":10,\"solidity\":0.2}},\"type\":\"barpolar\"}],\"pie\":[{\"automargin\":true,\"type\":\"pie\"}]},\"layout\":{\"autotypenumbers\":\"strict\",\"colorway\":[\"#636efa\",\"#EF553B\",\"#00cc96\",\"#ab63fa\",\"#FFA15A\",\"#19d3f3\",\"#FF6692\",\"#B6E880\",\"#FF97FF\",\"#FECB52\"],\"font\":{\"color\":\"#2a3f5f\"},\"hovermode\":\"closest\",\"hoverlabel\":{\"align\":\"left\"},\"paper_bgcolor\":\"white\",\"plot_bgcolor\":\"#E5ECF6\",\"polar\":{\"bgcolor\":\"#E5ECF6\",\"angularaxis\":{\"gridcolor\":\"white\",\"linecolor\":\"white\",\"ticks\":\"\"},\"radialaxis\":{\"gridcolor\":\"white\",\"linecolor\":\"white\",\"ticks\":\"\"}},\"ternary\":{\"bgcolor\":\"#E5ECF6\",\"aaxis\":{\"gridcolor\":\"white\",\"linecolor\":\"white\",\"ticks\":\"\"},\"baxis\":{\"gridcolor\":\"white\",\"linecolor\":\"white\",\"ticks\":\"\"},\"caxis\":{\"gridcolor\":\"white\",\"linecolor\":\"white\",\"ticks\":\"\"}},\"coloraxis\":{\"colorbar\":{\"outlinewidth\":0,\"ticks\":\"\"}},\"colorscale\":{\"sequential\":[[0.0,\"#0d0887\"],[0.1111111111111111,\"#46039f\"],[0.2222222222222222,\"#7201a8\"],[0.3333333333333333,\"#9c179e\"],[0.4444444444444444,\"#bd3786\"],[0.5555555555555556,\"#d8576b\"],[0.6666666666666666,\"#ed7953\"],[0.7777777777777778,\"#fb9f3a\"],[0.8888888888888888,\"#fdca26\"],[1.0,\"#f0f921\"]],\"sequentialminus\":[[0.0,\"#0d0887\"],[0.1111111111111111,\"#46039f\"],[0.2222222222222222,\"#7201a8\"],[0.3333333333333333,\"#9c179e\"],[0.4444444444444444,\"#bd3786\"],[0.5555555555555556,\"#d8576b\"],[0.6666666666666666,\"#ed7953\"],[0.7777777777777778,\"#fb9f3a\"],[0.8888888888888888,\"#fdca26\"],[1.0,\"#f0f921\"]],\"diverging\":[[0,\"#8e0152\"],[0.1,\"#c51b7d\"],[0.2,\"#de77ae\"],[0.3,\"#f1b6da\"],[0.4,\"#fde0ef\"],[0.5,\"#f7f7f7\"],[0.6,\"#e6f5d0\"],[0.7,\"#b8e186\"],[0.8,\"#7fbc41\"],[0.9,\"#4d9221\"],[1,\"#276419\"]]},\"xaxis\":{\"gridcolor\":\"white\",\"linecolor\":\"white\",\"ticks\":\"\",\"title\":{\"standoff\":15},\"zerolinecolor\":\"white\",\"automargin\":true,\"zerolinewidth\":2},\"yaxis\":{\"gridcolor\":\"white\",\"linecolor\":\"white\",\"ticks\":\"\",\"title\":{\"standoff\":15},\"zerolinecolor\":\"white\",\"automargin\":true,\"zerolinewidth\":2},\"scene\":{\"xaxis\":{\"backgroundcolor\":\"#E5ECF6\",\"gridcolor\":\"white\",\"linecolor\":\"white\",\"showbackground\":true,\"ticks\":\"\",\"zerolinecolor\":\"white\",\"gridwidth\":2},\"yaxis\":{\"backgroundcolor\":\"#E5ECF6\",\"gridcolor\":\"white\",\"linecolor\":\"white\",\"showbackground\":true,\"ticks\":\"\",\"zerolinecolor\":\"white\",\"gridwidth\":2},\"zaxis\":{\"backgroundcolor\":\"#E5ECF6\",\"gridcolor\":\"white\",\"linecolor\":\"white\",\"showbackground\":true,\"ticks\":\"\",\"zerolinecolor\":\"white\",\"gridwidth\":2}},\"shapedefaults\":{\"line\":{\"color\":\"#2a3f5f\"}},\"annotationdefaults\":{\"arrowcolor\":\"#2a3f5f\",\"arrowhead\":0,\"arrowwidth\":1},\"geo\":{\"bgcolor\":\"white\",\"landcolor\":\"#E5ECF6\",\"subunitcolor\":\"white\",\"showland\":true,\"showlakes\":true,\"lakecolor\":\"white\"},\"title\":{\"x\":0.05},\"mapbox\":{\"style\":\"light\"}}},\"legend\":{\"tracegroupgap\":0},\"margin\":{\"t\":60}},                        {\"responsive\": true}                    ).then(function(){\n",
              "                            \n",
              "var gd = document.getElementById('82689987-65c5-4ea1-a5dd-79a03475af42');\n",
              "var x = new MutationObserver(function (mutations, observer) {{\n",
              "        var display = window.getComputedStyle(gd).display;\n",
              "        if (!display || display === 'none') {{\n",
              "            console.log([gd, 'removed!']);\n",
              "            Plotly.purge(gd);\n",
              "            observer.disconnect();\n",
              "        }}\n",
              "}});\n",
              "\n",
              "// Listen for the removal of the full notebook cells\n",
              "var notebookContainer = gd.closest('#notebook-container');\n",
              "if (notebookContainer) {{\n",
              "    x.observe(notebookContainer, {childList: true});\n",
              "}}\n",
              "\n",
              "// Listen for the clearing of the current output cell\n",
              "var outputEl = gd.closest('.output');\n",
              "if (outputEl) {{\n",
              "    x.observe(outputEl, {childList: true});\n",
              "}}\n",
              "\n",
              "                        })                };                            </script>        </div>\n",
              "</body>\n",
              "</html>"
            ]
          },
          "metadata": {}
        }
      ],
      "source": [
        "px.sunburst(df, path=[ 'Aisle','Category'], values='Quantity',\n",
        "                  color='Aisle')"
      ]
    },
    {
      "cell_type": "markdown",
      "source": [
        "### Reorganizing products by category"
      ],
      "metadata": {
        "id": "1fFlFDDpFBxk"
      },
      "id": "1fFlFDDpFBxk"
    },
    {
      "cell_type": "code",
      "source": [
        "#creating a dictionary containing categories and aisles\n",
        "categories=list(df[\"Category\"].unique())\n",
        "aisles=list(df[\"Aisle\"].unique())\n",
        "cat_aisle=dict(list(zip(categories,aisles)))\n",
        "cat_aisle"
      ],
      "metadata": {
        "id": "2VEG3LbRFH5J",
        "colab": {
          "base_uri": "https://localhost:8080/"
        },
        "outputId": "24d0f7f4-b588-4a0b-feab-df04bfd3d002"
      },
      "id": "2VEG3LbRFH5J",
      "execution_count": null,
      "outputs": [
        {
          "output_type": "execute_result",
          "data": {
            "text/plain": [
              "{'Electronics': 'A2',\n",
              " 'Accessories': 'A3',\n",
              " 'Stationery': 'A1',\n",
              " 'Furniture': 'A4',\n",
              " 'Appliances': 'A5'}"
            ]
          },
          "metadata": {},
          "execution_count": 119
        }
      ]
    },
    {
      "cell_type": "code",
      "source": [
        "for i in cat_aisle.keys():\n",
        "    print(i,cat_aisle[i])\n",
        "    mask=df[\"Category\"]==i\n",
        "\n",
        "    df.loc[mask,\"Aisle\"]=cat_aisle[i]\n"
      ],
      "metadata": {
        "id": "qt-u4FZrFsbh",
        "colab": {
          "base_uri": "https://localhost:8080/"
        },
        "outputId": "08f84fd5-e24d-44d6-8d6d-8e99ebdd817d"
      },
      "id": "qt-u4FZrFsbh",
      "execution_count": null,
      "outputs": [
        {
          "output_type": "stream",
          "name": "stdout",
          "text": [
            "Electronics A2\n",
            "Accessories A3\n",
            "Stationery A1\n",
            "Furniture A4\n",
            "Appliances A5\n"
          ]
        }
      ]
    },
    {
      "cell_type": "code",
      "source": [
        "px.sunburst(df, path=[ 'Aisle','Category'], values='Quantity',\n",
        "                  color='Aisle')"
      ],
      "metadata": {
        "id": "KsPHK92DGoup",
        "colab": {
          "base_uri": "https://localhost:8080/",
          "height": 542
        },
        "outputId": "6e0a9c31-73d5-48b0-ffe2-69d43c703629"
      },
      "id": "KsPHK92DGoup",
      "execution_count": null,
      "outputs": [
        {
          "output_type": "display_data",
          "data": {
            "text/html": [
              "<html>\n",
              "<head><meta charset=\"utf-8\" /></head>\n",
              "<body>\n",
              "    <div>            <script src=\"https://cdnjs.cloudflare.com/ajax/libs/mathjax/2.7.5/MathJax.js?config=TeX-AMS-MML_SVG\"></script><script type=\"text/javascript\">if (window.MathJax && window.MathJax.Hub && window.MathJax.Hub.Config) {window.MathJax.Hub.Config({SVG: {font: \"STIX-Web\"}});}</script>                <script type=\"text/javascript\">window.PlotlyConfig = {MathJaxConfig: 'local'};</script>\n",
              "        <script charset=\"utf-8\" src=\"https://cdn.plot.ly/plotly-2.35.2.min.js\"></script>                <div id=\"b45c3828-cc69-4749-97e7-f10c55c501c4\" class=\"plotly-graph-div\" style=\"height:525px; width:100%;\"></div>            <script type=\"text/javascript\">                                    window.PLOTLYENV=window.PLOTLYENV || {};                                    if (document.getElementById(\"b45c3828-cc69-4749-97e7-f10c55c501c4\")) {                    Plotly.newPlot(                        \"b45c3828-cc69-4749-97e7-f10c55c501c4\",                        [{\"branchvalues\":\"total\",\"customdata\":[[\"A4\"],[\"A2\"],[\"A4\"],[\"A3\"],[\"A2\"],[\"A5\"],[\"A1\"],[\"A1\"],[\"A3\"],[\"A5\"]],\"domain\":{\"x\":[0.0,1.0],\"y\":[0.0,1.0]},\"hovertemplate\":\"labels=%{label}\\u003cbr\\u003eQuantity=%{value}\\u003cbr\\u003eparent=%{parent}\\u003cbr\\u003eid=%{id}\\u003cbr\\u003eAisle=%{customdata[0]}\\u003cextra\\u003e\\u003c\\u002fextra\\u003e\",\"ids\":[\"A4\\u002fFurniture\",\"A2\",\"A4\",\"A3\\u002fAccessories\",\"A2\\u002fElectronics\",\"A5\\u002fAppliances\",\"A1\\u002fStationery\",\"A1\",\"A3\",\"A5\"],\"labels\":[\"Furniture\",\"A2\",\"A4\",\"Accessories\",\"Electronics\",\"Appliances\",\"Stationery\",\"A1\",\"A3\",\"A5\"],\"marker\":{\"colors\":[\"#636efa\",\"#EF553B\",\"#636efa\",\"#00cc96\",\"#EF553B\",\"#ab63fa\",\"#FFA15A\",\"#FFA15A\",\"#00cc96\",\"#ab63fa\"]},\"name\":\"\",\"parents\":[\"A4\",\"\",\"\",\"A3\",\"A2\",\"A5\",\"A1\",\"\",\"\",\"\"],\"values\":[9480,9165,9480,10608,9165,9113,11544,11544,10608,9113],\"type\":\"sunburst\"}],                        {\"template\":{\"data\":{\"histogram2dcontour\":[{\"type\":\"histogram2dcontour\",\"colorbar\":{\"outlinewidth\":0,\"ticks\":\"\"},\"colorscale\":[[0.0,\"#0d0887\"],[0.1111111111111111,\"#46039f\"],[0.2222222222222222,\"#7201a8\"],[0.3333333333333333,\"#9c179e\"],[0.4444444444444444,\"#bd3786\"],[0.5555555555555556,\"#d8576b\"],[0.6666666666666666,\"#ed7953\"],[0.7777777777777778,\"#fb9f3a\"],[0.8888888888888888,\"#fdca26\"],[1.0,\"#f0f921\"]]}],\"choropleth\":[{\"type\":\"choropleth\",\"colorbar\":{\"outlinewidth\":0,\"ticks\":\"\"}}],\"histogram2d\":[{\"type\":\"histogram2d\",\"colorbar\":{\"outlinewidth\":0,\"ticks\":\"\"},\"colorscale\":[[0.0,\"#0d0887\"],[0.1111111111111111,\"#46039f\"],[0.2222222222222222,\"#7201a8\"],[0.3333333333333333,\"#9c179e\"],[0.4444444444444444,\"#bd3786\"],[0.5555555555555556,\"#d8576b\"],[0.6666666666666666,\"#ed7953\"],[0.7777777777777778,\"#fb9f3a\"],[0.8888888888888888,\"#fdca26\"],[1.0,\"#f0f921\"]]}],\"heatmap\":[{\"type\":\"heatmap\",\"colorbar\":{\"outlinewidth\":0,\"ticks\":\"\"},\"colorscale\":[[0.0,\"#0d0887\"],[0.1111111111111111,\"#46039f\"],[0.2222222222222222,\"#7201a8\"],[0.3333333333333333,\"#9c179e\"],[0.4444444444444444,\"#bd3786\"],[0.5555555555555556,\"#d8576b\"],[0.6666666666666666,\"#ed7953\"],[0.7777777777777778,\"#fb9f3a\"],[0.8888888888888888,\"#fdca26\"],[1.0,\"#f0f921\"]]}],\"heatmapgl\":[{\"type\":\"heatmapgl\",\"colorbar\":{\"outlinewidth\":0,\"ticks\":\"\"},\"colorscale\":[[0.0,\"#0d0887\"],[0.1111111111111111,\"#46039f\"],[0.2222222222222222,\"#7201a8\"],[0.3333333333333333,\"#9c179e\"],[0.4444444444444444,\"#bd3786\"],[0.5555555555555556,\"#d8576b\"],[0.6666666666666666,\"#ed7953\"],[0.7777777777777778,\"#fb9f3a\"],[0.8888888888888888,\"#fdca26\"],[1.0,\"#f0f921\"]]}],\"contourcarpet\":[{\"type\":\"contourcarpet\",\"colorbar\":{\"outlinewidth\":0,\"ticks\":\"\"}}],\"contour\":[{\"type\":\"contour\",\"colorbar\":{\"outlinewidth\":0,\"ticks\":\"\"},\"colorscale\":[[0.0,\"#0d0887\"],[0.1111111111111111,\"#46039f\"],[0.2222222222222222,\"#7201a8\"],[0.3333333333333333,\"#9c179e\"],[0.4444444444444444,\"#bd3786\"],[0.5555555555555556,\"#d8576b\"],[0.6666666666666666,\"#ed7953\"],[0.7777777777777778,\"#fb9f3a\"],[0.8888888888888888,\"#fdca26\"],[1.0,\"#f0f921\"]]}],\"surface\":[{\"type\":\"surface\",\"colorbar\":{\"outlinewidth\":0,\"ticks\":\"\"},\"colorscale\":[[0.0,\"#0d0887\"],[0.1111111111111111,\"#46039f\"],[0.2222222222222222,\"#7201a8\"],[0.3333333333333333,\"#9c179e\"],[0.4444444444444444,\"#bd3786\"],[0.5555555555555556,\"#d8576b\"],[0.6666666666666666,\"#ed7953\"],[0.7777777777777778,\"#fb9f3a\"],[0.8888888888888888,\"#fdca26\"],[1.0,\"#f0f921\"]]}],\"mesh3d\":[{\"type\":\"mesh3d\",\"colorbar\":{\"outlinewidth\":0,\"ticks\":\"\"}}],\"scatter\":[{\"fillpattern\":{\"fillmode\":\"overlay\",\"size\":10,\"solidity\":0.2},\"type\":\"scatter\"}],\"parcoords\":[{\"type\":\"parcoords\",\"line\":{\"colorbar\":{\"outlinewidth\":0,\"ticks\":\"\"}}}],\"scatterpolargl\":[{\"type\":\"scatterpolargl\",\"marker\":{\"colorbar\":{\"outlinewidth\":0,\"ticks\":\"\"}}}],\"bar\":[{\"error_x\":{\"color\":\"#2a3f5f\"},\"error_y\":{\"color\":\"#2a3f5f\"},\"marker\":{\"line\":{\"color\":\"#E5ECF6\",\"width\":0.5},\"pattern\":{\"fillmode\":\"overlay\",\"size\":10,\"solidity\":0.2}},\"type\":\"bar\"}],\"scattergeo\":[{\"type\":\"scattergeo\",\"marker\":{\"colorbar\":{\"outlinewidth\":0,\"ticks\":\"\"}}}],\"scatterpolar\":[{\"type\":\"scatterpolar\",\"marker\":{\"colorbar\":{\"outlinewidth\":0,\"ticks\":\"\"}}}],\"histogram\":[{\"marker\":{\"pattern\":{\"fillmode\":\"overlay\",\"size\":10,\"solidity\":0.2}},\"type\":\"histogram\"}],\"scattergl\":[{\"type\":\"scattergl\",\"marker\":{\"colorbar\":{\"outlinewidth\":0,\"ticks\":\"\"}}}],\"scatter3d\":[{\"type\":\"scatter3d\",\"line\":{\"colorbar\":{\"outlinewidth\":0,\"ticks\":\"\"}},\"marker\":{\"colorbar\":{\"outlinewidth\":0,\"ticks\":\"\"}}}],\"scattermapbox\":[{\"type\":\"scattermapbox\",\"marker\":{\"colorbar\":{\"outlinewidth\":0,\"ticks\":\"\"}}}],\"scatterternary\":[{\"type\":\"scatterternary\",\"marker\":{\"colorbar\":{\"outlinewidth\":0,\"ticks\":\"\"}}}],\"scattercarpet\":[{\"type\":\"scattercarpet\",\"marker\":{\"colorbar\":{\"outlinewidth\":0,\"ticks\":\"\"}}}],\"carpet\":[{\"aaxis\":{\"endlinecolor\":\"#2a3f5f\",\"gridcolor\":\"white\",\"linecolor\":\"white\",\"minorgridcolor\":\"white\",\"startlinecolor\":\"#2a3f5f\"},\"baxis\":{\"endlinecolor\":\"#2a3f5f\",\"gridcolor\":\"white\",\"linecolor\":\"white\",\"minorgridcolor\":\"white\",\"startlinecolor\":\"#2a3f5f\"},\"type\":\"carpet\"}],\"table\":[{\"cells\":{\"fill\":{\"color\":\"#EBF0F8\"},\"line\":{\"color\":\"white\"}},\"header\":{\"fill\":{\"color\":\"#C8D4E3\"},\"line\":{\"color\":\"white\"}},\"type\":\"table\"}],\"barpolar\":[{\"marker\":{\"line\":{\"color\":\"#E5ECF6\",\"width\":0.5},\"pattern\":{\"fillmode\":\"overlay\",\"size\":10,\"solidity\":0.2}},\"type\":\"barpolar\"}],\"pie\":[{\"automargin\":true,\"type\":\"pie\"}]},\"layout\":{\"autotypenumbers\":\"strict\",\"colorway\":[\"#636efa\",\"#EF553B\",\"#00cc96\",\"#ab63fa\",\"#FFA15A\",\"#19d3f3\",\"#FF6692\",\"#B6E880\",\"#FF97FF\",\"#FECB52\"],\"font\":{\"color\":\"#2a3f5f\"},\"hovermode\":\"closest\",\"hoverlabel\":{\"align\":\"left\"},\"paper_bgcolor\":\"white\",\"plot_bgcolor\":\"#E5ECF6\",\"polar\":{\"bgcolor\":\"#E5ECF6\",\"angularaxis\":{\"gridcolor\":\"white\",\"linecolor\":\"white\",\"ticks\":\"\"},\"radialaxis\":{\"gridcolor\":\"white\",\"linecolor\":\"white\",\"ticks\":\"\"}},\"ternary\":{\"bgcolor\":\"#E5ECF6\",\"aaxis\":{\"gridcolor\":\"white\",\"linecolor\":\"white\",\"ticks\":\"\"},\"baxis\":{\"gridcolor\":\"white\",\"linecolor\":\"white\",\"ticks\":\"\"},\"caxis\":{\"gridcolor\":\"white\",\"linecolor\":\"white\",\"ticks\":\"\"}},\"coloraxis\":{\"colorbar\":{\"outlinewidth\":0,\"ticks\":\"\"}},\"colorscale\":{\"sequential\":[[0.0,\"#0d0887\"],[0.1111111111111111,\"#46039f\"],[0.2222222222222222,\"#7201a8\"],[0.3333333333333333,\"#9c179e\"],[0.4444444444444444,\"#bd3786\"],[0.5555555555555556,\"#d8576b\"],[0.6666666666666666,\"#ed7953\"],[0.7777777777777778,\"#fb9f3a\"],[0.8888888888888888,\"#fdca26\"],[1.0,\"#f0f921\"]],\"sequentialminus\":[[0.0,\"#0d0887\"],[0.1111111111111111,\"#46039f\"],[0.2222222222222222,\"#7201a8\"],[0.3333333333333333,\"#9c179e\"],[0.4444444444444444,\"#bd3786\"],[0.5555555555555556,\"#d8576b\"],[0.6666666666666666,\"#ed7953\"],[0.7777777777777778,\"#fb9f3a\"],[0.8888888888888888,\"#fdca26\"],[1.0,\"#f0f921\"]],\"diverging\":[[0,\"#8e0152\"],[0.1,\"#c51b7d\"],[0.2,\"#de77ae\"],[0.3,\"#f1b6da\"],[0.4,\"#fde0ef\"],[0.5,\"#f7f7f7\"],[0.6,\"#e6f5d0\"],[0.7,\"#b8e186\"],[0.8,\"#7fbc41\"],[0.9,\"#4d9221\"],[1,\"#276419\"]]},\"xaxis\":{\"gridcolor\":\"white\",\"linecolor\":\"white\",\"ticks\":\"\",\"title\":{\"standoff\":15},\"zerolinecolor\":\"white\",\"automargin\":true,\"zerolinewidth\":2},\"yaxis\":{\"gridcolor\":\"white\",\"linecolor\":\"white\",\"ticks\":\"\",\"title\":{\"standoff\":15},\"zerolinecolor\":\"white\",\"automargin\":true,\"zerolinewidth\":2},\"scene\":{\"xaxis\":{\"backgroundcolor\":\"#E5ECF6\",\"gridcolor\":\"white\",\"linecolor\":\"white\",\"showbackground\":true,\"ticks\":\"\",\"zerolinecolor\":\"white\",\"gridwidth\":2},\"yaxis\":{\"backgroundcolor\":\"#E5ECF6\",\"gridcolor\":\"white\",\"linecolor\":\"white\",\"showbackground\":true,\"ticks\":\"\",\"zerolinecolor\":\"white\",\"gridwidth\":2},\"zaxis\":{\"backgroundcolor\":\"#E5ECF6\",\"gridcolor\":\"white\",\"linecolor\":\"white\",\"showbackground\":true,\"ticks\":\"\",\"zerolinecolor\":\"white\",\"gridwidth\":2}},\"shapedefaults\":{\"line\":{\"color\":\"#2a3f5f\"}},\"annotationdefaults\":{\"arrowcolor\":\"#2a3f5f\",\"arrowhead\":0,\"arrowwidth\":1},\"geo\":{\"bgcolor\":\"white\",\"landcolor\":\"#E5ECF6\",\"subunitcolor\":\"white\",\"showland\":true,\"showlakes\":true,\"lakecolor\":\"white\"},\"title\":{\"x\":0.05},\"mapbox\":{\"style\":\"light\"}}},\"legend\":{\"tracegroupgap\":0},\"margin\":{\"t\":60}},                        {\"responsive\": true}                    ).then(function(){\n",
              "                            \n",
              "var gd = document.getElementById('b45c3828-cc69-4749-97e7-f10c55c501c4');\n",
              "var x = new MutationObserver(function (mutations, observer) {{\n",
              "        var display = window.getComputedStyle(gd).display;\n",
              "        if (!display || display === 'none') {{\n",
              "            console.log([gd, 'removed!']);\n",
              "            Plotly.purge(gd);\n",
              "            observer.disconnect();\n",
              "        }}\n",
              "}});\n",
              "\n",
              "// Listen for the removal of the full notebook cells\n",
              "var notebookContainer = gd.closest('#notebook-container');\n",
              "if (notebookContainer) {{\n",
              "    x.observe(notebookContainer, {childList: true});\n",
              "}}\n",
              "\n",
              "// Listen for the clearing of the current output cell\n",
              "var outputEl = gd.closest('.output');\n",
              "if (outputEl) {{\n",
              "    x.observe(outputEl, {childList: true});\n",
              "}}\n",
              "\n",
              "                        })                };                            </script>        </div>\n",
              "</body>\n",
              "</html>"
            ]
          },
          "metadata": {}
        }
      ]
    },
    {
      "cell_type": "markdown",
      "source": [
        "### Basic dashboard for monitoring products"
      ],
      "metadata": {
        "id": "UPidmgBn-ZYp"
      },
      "id": "UPidmgBn-ZYp"
    },
    {
      "cell_type": "code",
      "source": [
        "import ipywidgets as widgets\n",
        "from IPython.display import display\n",
        "import matplotlib.pyplot as plt"
      ],
      "metadata": {
        "id": "WTNZHq2F-ZHn"
      },
      "id": "WTNZHq2F-ZHn",
      "execution_count": null,
      "outputs": []
    },
    {
      "cell_type": "markdown",
      "source": [
        "#### Displaying product quantity by Aisle and Product Name"
      ],
      "metadata": {
        "id": "Z30hwWl3R1xW"
      },
      "id": "Z30hwWl3R1xW"
    },
    {
      "cell_type": "code",
      "source": [
        "def plot_val(b):\n",
        "    with output:\n",
        "        output.clear_output(wait=True)  # Clear previous plot\n",
        "        selected_product = product.value  # Get selected product\n",
        "        if selected_product:  # Only plot if a product is selected\n",
        "            # Filter data for the selected product\n",
        "            data_to_plot = df[df[\"Product Name\"] == selected_product]\n",
        "            q=data_to_plot[\"Quantity\"].sum()\n",
        "            # Create the bar plot using matplotlib\n",
        "            plt.figure(figsize=(8, 4))\n",
        "            plt.bar(data_to_plot[\"Aisle\"], data_to_plot[\"Quantity\"], color='skyblue')\n",
        "            plt.title(f\"Quantity of {selected_product} by Aisle : {q}\")\n",
        "            plt.xlabel(\"Aisle\")\n",
        "            plt.ylabel(\"Quantity\")\n",
        "            plt.show()"
      ],
      "metadata": {
        "id": "XiZ6aStgKjUj"
      },
      "id": "XiZ6aStgKjUj",
      "execution_count": null,
      "outputs": []
    },
    {
      "cell_type": "code",
      "source": [
        "# widget to select the product\n",
        "select_aisle = widgets.Dropdown(\n",
        "    options=list(df[\"Aisle\"].sort_values().unique()),\n",
        "    description='Aisle:',\n",
        "    disabled=False\n",
        ")\n",
        "button = widgets.Button(\n",
        "    description='display quantity',\n",
        "    disabled=False,\n",
        "    button_style='', # 'success', 'info', 'warning', 'danger' or ''\n",
        "    tooltip='Click me',\n",
        "    icon='check' # (FontAwesome names without the `fa-` prefix)\n",
        ")"
      ],
      "metadata": {
        "id": "LJZwHCbs_H7T"
      },
      "id": "LJZwHCbs_H7T",
      "execution_count": null,
      "outputs": []
    },
    {
      "cell_type": "code",
      "execution_count": null,
      "id": "d1d4073c-bd96-47ab-b7b5-40cc9e9f1504",
      "metadata": {
        "id": "d1d4073c-bd96-47ab-b7b5-40cc9e9f1504"
      },
      "outputs": [],
      "source": [
        "output=widgets.Output()\n",
        "def update_output(change):\n",
        "    \"\"\"\n",
        "      a function to update the output when the values of Aisle and products are changed\n",
        "    \"\"\"\n",
        "    # Effacer l'affichage précédent\n",
        "    output.clear_output()\n",
        "    with output:\n",
        "      pr=list(df[df[\"Aisle\"]==select_aisle.value][\"Product Name\"].unique())\n",
        "      global product\n",
        "      product=widgets.Dropdown(\n",
        "      placeholder='Choose product',\n",
        "      options=pr,\n",
        "      description='product:',\n",
        "      disabled=False\n",
        "      )\n",
        "      display(product)\n",
        "      display(button)\n"
      ]
    },
    {
      "cell_type": "code",
      "execution_count": null,
      "id": "2813ce25-e25c-4704-891e-3a952e7877c5",
      "metadata": {
        "id": "2813ce25-e25c-4704-891e-3a952e7877c5",
        "colab": {
          "base_uri": "https://localhost:8080/",
          "height": 442,
          "referenced_widgets": [
            "4b28a72c86ec4cb99a09f8737ca8f7cb",
            "3051b0da6e174f0c8a2c6aeba7ffa084",
            "3cc9e55f60dd46fa9252dad26bae9394",
            "a93799eafda8419880e82693c3ccd1bc",
            "54cfab4a88ab4e0a82401a4d75e265d9",
            "5443e18f423142e58d995eae6142f684",
            "e68cfe777ab24101aa01a14379e8e8ff",
            "3fdbf841b9994b2f9dd5e97a971ab64f",
            "7de6b91c071d4bbe8ea8062b80ca7855",
            "2ace1380016340d09c20af62bfcfb558",
            "7210a3a2a42c4a83be59f5949fbad3bf"
          ]
        },
        "outputId": "6dd665a5-6ed8-4031-fa96-12cb34e1ffe1"
      },
      "outputs": [
        {
          "output_type": "display_data",
          "data": {
            "text/plain": [
              "Dropdown(description='Aisle:', options=('A1', 'A2', 'A3', 'A4', 'A5'), value='A1')"
            ],
            "application/vnd.jupyter.widget-view+json": {
              "version_major": 2,
              "version_minor": 0,
              "model_id": "4b28a72c86ec4cb99a09f8737ca8f7cb"
            }
          },
          "metadata": {}
        },
        {
          "output_type": "display_data",
          "data": {
            "text/plain": [
              "Output()"
            ],
            "application/vnd.jupyter.widget-view+json": {
              "version_major": 2,
              "version_minor": 0,
              "model_id": "a93799eafda8419880e82693c3ccd1bc"
            }
          },
          "metadata": {}
        }
      ],
      "source": [
        "select_aisle.observe(update_output, names='value')\n",
        "# Mettre à jour l'affichage initial\n",
        "update_output(None)\n",
        "# Affichage du layout\n",
        "display(select_aisle,output)\n",
        "button.on_click(plot_val)"
      ]
    },
    {
      "cell_type": "markdown",
      "source": [
        "#### simulating warehouse"
      ],
      "metadata": {
        "id": "uZFJ3BESwP0F"
      },
      "id": "uZFJ3BESwP0F"
    },
    {
      "cell_type": "code",
      "source": [
        "# Example data for columns and rows (representing aisles and shelves)\n",
        "col = sorted(list(df['Aisle'].unique()))  # Unique aisles from the data\n",
        "row = sorted(list(df['Shelf'].unique()))  # Unique shelves from the data\n",
        "n = len(col) - 1\n",
        "m = len(row) - 1"
      ],
      "metadata": {
        "id": "iBsQQrU6w31-"
      },
      "id": "iBsQQrU6w31-",
      "execution_count": null,
      "outputs": []
    },
    {
      "cell_type": "code",
      "source": [
        "import plotly.graph_objects as go\n",
        "\n",
        "\n",
        "\n",
        "def afficher_entrepot(n, m,res=None, entry=(0, 0), exit=None, shelves=None, obstacles=None):\n",
        "    \"\"\"\n",
        "    afficher_entrepot(n, m, entry, exit, shelves, obstacles) : function to display a warehouse layout on a grid\n",
        "      Arguments:\n",
        "        n : int, grid width based on Aisle values\n",
        "        m : int, grid height based on Shelf values\n",
        "        entry : tuple, coordinates of the entry/loading point\n",
        "        exit : tuple, coordinates of the exit/shipping point (default to bottom-right corner)\n",
        "        shelves : list of tuples, coordinates representing storage shelf locations\n",
        "        obstacles : list of tuples, coordinates representing obstacles\n",
        "    \"\"\"\n",
        "    # Set the default exit point if not specified\n",
        "    if exit is None:\n",
        "        exit = (n, m)\n",
        "\n",
        "    # Initialize the figure\n",
        "    fig = go.Figure()\n",
        "\n",
        "    # Draw the grid lines\n",
        "    for i in range(n + 1):\n",
        "        fig.add_shape(\n",
        "            type=\"line\",\n",
        "            x0=i, y0=0, x1=i, y1=m,\n",
        "            line=dict(color=\"black\", width=1)\n",
        "        )\n",
        "    for j in range(m + 1):\n",
        "        fig.add_shape(\n",
        "            type=\"line\",\n",
        "            x0=0, y0=j, x1=n, y1=j,\n",
        "            line=dict(color=\"black\", width=1)\n",
        "        )\n",
        "    # Initialize starting coordinates\n",
        "    if res!=None:\n",
        "      x, y = [entry[0]], [entry[1]]\n",
        "\n",
        "    # Update coordinates based on movement commands\n",
        "      for i in res:\n",
        "        if i == 'R':  # Move right\n",
        "            x.append(x[-1] + 1)\n",
        "            y.append(y[-1])\n",
        "        elif i == 'U':  # Move up\n",
        "            x.append(x[-1])\n",
        "            y.append(y[-1] + 1)\n",
        "\n",
        "    # Plot the path\n",
        "      fig.add_trace(go.Scatter(\n",
        "          x=x, y=y,\n",
        "          mode=\"lines+markers\",\n",
        "          line=dict(color=\"yellow\", width=2),\n",
        "          marker=dict(color=\"yellow\", size=8),\n",
        "          name=\"Path\"\n",
        "      ))\n",
        "\n",
        "    # Mark entry point\n",
        "    fig.add_trace(go.Scatter(\n",
        "        x=[entry[0]], y=[entry[1]],\n",
        "        mode=\"text+markers\",\n",
        "        text=[\"Entry\"],\n",
        "        marker=dict(color=\"green\", size=10),\n",
        "        textposition=\"bottom center\",\n",
        "        textfont=dict(size=12, color=\"green\")\n",
        "    ))\n",
        "\n",
        "    # Mark exit point\n",
        "    fig.add_trace(go.Scatter(\n",
        "        x=[exit[0]], y=[exit[1]],\n",
        "        mode=\"text+markers\",\n",
        "        text=[\"Exit\"],\n",
        "        marker=dict(color=\"orange\", size=10),\n",
        "        textposition=\"top center\",\n",
        "        textfont=dict(size=12, color=\"orange\")\n",
        "    ))\n",
        "\n",
        "    # Add storage shelves if specified\n",
        "    if shelves is not None:\n",
        "        x_shelves, y_shelves = zip(*shelves)\n",
        "        fig.add_trace(go.Scatter(\n",
        "            x=x_shelves, y=y_shelves,\n",
        "            mode=\"markers\",\n",
        "            marker=dict(color=\"blue\", size=10, symbol=\"square\"),\n",
        "            name=\"Shelves\"\n",
        "        ))\n",
        "\n",
        "    # Add obstacles if specified\n",
        "    if obstacles is not None:\n",
        "        x_obstacles, y_obstacles = zip(*obstacles)\n",
        "        fig.add_trace(go.Scatter(\n",
        "            x=x_obstacles, y=y_obstacles,\n",
        "            mode=\"markers\",\n",
        "            marker=dict(color=\"black\", size=10, symbol=\"x\"),\n",
        "            name=\"Obstacles\"\n",
        "        ))\n",
        "\n",
        "    # Set custom axis labels for Aisle (x-axis) and Shelf (y-axis)\n",
        "    fig.update_xaxes(\n",
        "        tickvals=list(range(len(col))),\n",
        "        ticktext=col,\n",
        "        range=[-0.5, n + 0.5],\n",
        "        showticklabels=True,\n",
        "        title=\"Aisle\"\n",
        "    )\n",
        "    fig.update_yaxes(\n",
        "        tickvals=list(range(len(row))),\n",
        "        ticktext=row,\n",
        "        range=[-0.5, m + 0.5],\n",
        "        showticklabels=True,\n",
        "        title=\"Shelf\",\n",
        "        scaleanchor=\"x\"  # Keep square cells\n",
        "    )\n",
        "\n",
        "    # Set layout properties\n",
        "    fig.update_layout(\n",
        "        title=\"Warehouse Layout\",\n",
        "        showlegend=True,\n",
        "        width=800, height=800,\n",
        "        margin=dict(l=20, r=20, t=40, b=20)\n",
        "    )\n",
        "\n",
        "    # Show the plot\n",
        "    fig.show()\n"
      ],
      "metadata": {
        "id": "Ty8RSfY_wlLb"
      },
      "id": "Ty8RSfY_wlLb",
      "execution_count": null,
      "outputs": []
    },
    {
      "cell_type": "code",
      "source": [],
      "metadata": {
        "id": "mBGfZBBbxKaH"
      },
      "id": "mBGfZBBbxKaH",
      "execution_count": null,
      "outputs": []
    },
    {
      "cell_type": "markdown",
      "source": [
        "#### generating all shelves coordinates"
      ],
      "metadata": {
        "id": "UgZiDr8exK5G"
      },
      "id": "UgZiDr8exK5G"
    },
    {
      "cell_type": "code",
      "source": [
        "s=[]\n",
        "for j in range(len(col)):\n",
        "    for i in range(len(row)+1):\n",
        "        t=(j,i)\n",
        "        s.append(t)"
      ],
      "metadata": {
        "id": "pIZk0pbawxuc"
      },
      "id": "pIZk0pbawxuc",
      "execution_count": null,
      "outputs": []
    },
    {
      "cell_type": "markdown",
      "source": [
        "#### plotting the warehouse map"
      ],
      "metadata": {
        "id": "NNgW3UYHxXYE"
      },
      "id": "NNgW3UYHxXYE"
    },
    {
      "cell_type": "code",
      "source": [
        "afficher_entrepot(n, m,entry=(0, 0) ,shelves=s)"
      ],
      "metadata": {
        "id": "4Rjb9nQ2xXEJ",
        "colab": {
          "base_uri": "https://localhost:8080/",
          "height": 817
        },
        "outputId": "8bf03d42-3ef6-42ef-f18e-cb86e024327c"
      },
      "id": "4Rjb9nQ2xXEJ",
      "execution_count": null,
      "outputs": [
        {
          "output_type": "display_data",
          "data": {
            "text/html": [
              "<html>\n",
              "<head><meta charset=\"utf-8\" /></head>\n",
              "<body>\n",
              "    <div>            <script src=\"https://cdnjs.cloudflare.com/ajax/libs/mathjax/2.7.5/MathJax.js?config=TeX-AMS-MML_SVG\"></script><script type=\"text/javascript\">if (window.MathJax && window.MathJax.Hub && window.MathJax.Hub.Config) {window.MathJax.Hub.Config({SVG: {font: \"STIX-Web\"}});}</script>                <script type=\"text/javascript\">window.PlotlyConfig = {MathJaxConfig: 'local'};</script>\n",
              "        <script charset=\"utf-8\" src=\"https://cdn.plot.ly/plotly-2.35.2.min.js\"></script>                <div id=\"5946e60b-a7e7-4acd-91a1-115b8b6fc59d\" class=\"plotly-graph-div\" style=\"height:800px; width:800px;\"></div>            <script type=\"text/javascript\">                                    window.PLOTLYENV=window.PLOTLYENV || {};                                    if (document.getElementById(\"5946e60b-a7e7-4acd-91a1-115b8b6fc59d\")) {                    Plotly.newPlot(                        \"5946e60b-a7e7-4acd-91a1-115b8b6fc59d\",                        [{\"marker\":{\"color\":\"green\",\"size\":10},\"mode\":\"text+markers\",\"text\":[\"Entry\"],\"textfont\":{\"color\":\"green\",\"size\":12},\"textposition\":\"bottom center\",\"x\":[0],\"y\":[0],\"type\":\"scatter\"},{\"marker\":{\"color\":\"orange\",\"size\":10},\"mode\":\"text+markers\",\"text\":[\"Exit\"],\"textfont\":{\"color\":\"orange\",\"size\":12},\"textposition\":\"top center\",\"x\":[4],\"y\":[9],\"type\":\"scatter\"},{\"marker\":{\"color\":\"blue\",\"size\":10,\"symbol\":\"square\"},\"mode\":\"markers\",\"name\":\"Shelves\",\"x\":[0,0,0,0,0,0,0,0,0,0,0,1,1,1,1,1,1,1,1,1,1,1,2,2,2,2,2,2,2,2,2,2,2,3,3,3,3,3,3,3,3,3,3,3,4,4,4,4,4,4,4,4,4,4,4],\"y\":[0,1,2,3,4,5,6,7,8,9,10,0,1,2,3,4,5,6,7,8,9,10,0,1,2,3,4,5,6,7,8,9,10,0,1,2,3,4,5,6,7,8,9,10,0,1,2,3,4,5,6,7,8,9,10],\"type\":\"scatter\"}],                        {\"template\":{\"data\":{\"histogram2dcontour\":[{\"type\":\"histogram2dcontour\",\"colorbar\":{\"outlinewidth\":0,\"ticks\":\"\"},\"colorscale\":[[0.0,\"#0d0887\"],[0.1111111111111111,\"#46039f\"],[0.2222222222222222,\"#7201a8\"],[0.3333333333333333,\"#9c179e\"],[0.4444444444444444,\"#bd3786\"],[0.5555555555555556,\"#d8576b\"],[0.6666666666666666,\"#ed7953\"],[0.7777777777777778,\"#fb9f3a\"],[0.8888888888888888,\"#fdca26\"],[1.0,\"#f0f921\"]]}],\"choropleth\":[{\"type\":\"choropleth\",\"colorbar\":{\"outlinewidth\":0,\"ticks\":\"\"}}],\"histogram2d\":[{\"type\":\"histogram2d\",\"colorbar\":{\"outlinewidth\":0,\"ticks\":\"\"},\"colorscale\":[[0.0,\"#0d0887\"],[0.1111111111111111,\"#46039f\"],[0.2222222222222222,\"#7201a8\"],[0.3333333333333333,\"#9c179e\"],[0.4444444444444444,\"#bd3786\"],[0.5555555555555556,\"#d8576b\"],[0.6666666666666666,\"#ed7953\"],[0.7777777777777778,\"#fb9f3a\"],[0.8888888888888888,\"#fdca26\"],[1.0,\"#f0f921\"]]}],\"heatmap\":[{\"type\":\"heatmap\",\"colorbar\":{\"outlinewidth\":0,\"ticks\":\"\"},\"colorscale\":[[0.0,\"#0d0887\"],[0.1111111111111111,\"#46039f\"],[0.2222222222222222,\"#7201a8\"],[0.3333333333333333,\"#9c179e\"],[0.4444444444444444,\"#bd3786\"],[0.5555555555555556,\"#d8576b\"],[0.6666666666666666,\"#ed7953\"],[0.7777777777777778,\"#fb9f3a\"],[0.8888888888888888,\"#fdca26\"],[1.0,\"#f0f921\"]]}],\"heatmapgl\":[{\"type\":\"heatmapgl\",\"colorbar\":{\"outlinewidth\":0,\"ticks\":\"\"},\"colorscale\":[[0.0,\"#0d0887\"],[0.1111111111111111,\"#46039f\"],[0.2222222222222222,\"#7201a8\"],[0.3333333333333333,\"#9c179e\"],[0.4444444444444444,\"#bd3786\"],[0.5555555555555556,\"#d8576b\"],[0.6666666666666666,\"#ed7953\"],[0.7777777777777778,\"#fb9f3a\"],[0.8888888888888888,\"#fdca26\"],[1.0,\"#f0f921\"]]}],\"contourcarpet\":[{\"type\":\"contourcarpet\",\"colorbar\":{\"outlinewidth\":0,\"ticks\":\"\"}}],\"contour\":[{\"type\":\"contour\",\"colorbar\":{\"outlinewidth\":0,\"ticks\":\"\"},\"colorscale\":[[0.0,\"#0d0887\"],[0.1111111111111111,\"#46039f\"],[0.2222222222222222,\"#7201a8\"],[0.3333333333333333,\"#9c179e\"],[0.4444444444444444,\"#bd3786\"],[0.5555555555555556,\"#d8576b\"],[0.6666666666666666,\"#ed7953\"],[0.7777777777777778,\"#fb9f3a\"],[0.8888888888888888,\"#fdca26\"],[1.0,\"#f0f921\"]]}],\"surface\":[{\"type\":\"surface\",\"colorbar\":{\"outlinewidth\":0,\"ticks\":\"\"},\"colorscale\":[[0.0,\"#0d0887\"],[0.1111111111111111,\"#46039f\"],[0.2222222222222222,\"#7201a8\"],[0.3333333333333333,\"#9c179e\"],[0.4444444444444444,\"#bd3786\"],[0.5555555555555556,\"#d8576b\"],[0.6666666666666666,\"#ed7953\"],[0.7777777777777778,\"#fb9f3a\"],[0.8888888888888888,\"#fdca26\"],[1.0,\"#f0f921\"]]}],\"mesh3d\":[{\"type\":\"mesh3d\",\"colorbar\":{\"outlinewidth\":0,\"ticks\":\"\"}}],\"scatter\":[{\"fillpattern\":{\"fillmode\":\"overlay\",\"size\":10,\"solidity\":0.2},\"type\":\"scatter\"}],\"parcoords\":[{\"type\":\"parcoords\",\"line\":{\"colorbar\":{\"outlinewidth\":0,\"ticks\":\"\"}}}],\"scatterpolargl\":[{\"type\":\"scatterpolargl\",\"marker\":{\"colorbar\":{\"outlinewidth\":0,\"ticks\":\"\"}}}],\"bar\":[{\"error_x\":{\"color\":\"#2a3f5f\"},\"error_y\":{\"color\":\"#2a3f5f\"},\"marker\":{\"line\":{\"color\":\"#E5ECF6\",\"width\":0.5},\"pattern\":{\"fillmode\":\"overlay\",\"size\":10,\"solidity\":0.2}},\"type\":\"bar\"}],\"scattergeo\":[{\"type\":\"scattergeo\",\"marker\":{\"colorbar\":{\"outlinewidth\":0,\"ticks\":\"\"}}}],\"scatterpolar\":[{\"type\":\"scatterpolar\",\"marker\":{\"colorbar\":{\"outlinewidth\":0,\"ticks\":\"\"}}}],\"histogram\":[{\"marker\":{\"pattern\":{\"fillmode\":\"overlay\",\"size\":10,\"solidity\":0.2}},\"type\":\"histogram\"}],\"scattergl\":[{\"type\":\"scattergl\",\"marker\":{\"colorbar\":{\"outlinewidth\":0,\"ticks\":\"\"}}}],\"scatter3d\":[{\"type\":\"scatter3d\",\"line\":{\"colorbar\":{\"outlinewidth\":0,\"ticks\":\"\"}},\"marker\":{\"colorbar\":{\"outlinewidth\":0,\"ticks\":\"\"}}}],\"scattermapbox\":[{\"type\":\"scattermapbox\",\"marker\":{\"colorbar\":{\"outlinewidth\":0,\"ticks\":\"\"}}}],\"scatterternary\":[{\"type\":\"scatterternary\",\"marker\":{\"colorbar\":{\"outlinewidth\":0,\"ticks\":\"\"}}}],\"scattercarpet\":[{\"type\":\"scattercarpet\",\"marker\":{\"colorbar\":{\"outlinewidth\":0,\"ticks\":\"\"}}}],\"carpet\":[{\"aaxis\":{\"endlinecolor\":\"#2a3f5f\",\"gridcolor\":\"white\",\"linecolor\":\"white\",\"minorgridcolor\":\"white\",\"startlinecolor\":\"#2a3f5f\"},\"baxis\":{\"endlinecolor\":\"#2a3f5f\",\"gridcolor\":\"white\",\"linecolor\":\"white\",\"minorgridcolor\":\"white\",\"startlinecolor\":\"#2a3f5f\"},\"type\":\"carpet\"}],\"table\":[{\"cells\":{\"fill\":{\"color\":\"#EBF0F8\"},\"line\":{\"color\":\"white\"}},\"header\":{\"fill\":{\"color\":\"#C8D4E3\"},\"line\":{\"color\":\"white\"}},\"type\":\"table\"}],\"barpolar\":[{\"marker\":{\"line\":{\"color\":\"#E5ECF6\",\"width\":0.5},\"pattern\":{\"fillmode\":\"overlay\",\"size\":10,\"solidity\":0.2}},\"type\":\"barpolar\"}],\"pie\":[{\"automargin\":true,\"type\":\"pie\"}]},\"layout\":{\"autotypenumbers\":\"strict\",\"colorway\":[\"#636efa\",\"#EF553B\",\"#00cc96\",\"#ab63fa\",\"#FFA15A\",\"#19d3f3\",\"#FF6692\",\"#B6E880\",\"#FF97FF\",\"#FECB52\"],\"font\":{\"color\":\"#2a3f5f\"},\"hovermode\":\"closest\",\"hoverlabel\":{\"align\":\"left\"},\"paper_bgcolor\":\"white\",\"plot_bgcolor\":\"#E5ECF6\",\"polar\":{\"bgcolor\":\"#E5ECF6\",\"angularaxis\":{\"gridcolor\":\"white\",\"linecolor\":\"white\",\"ticks\":\"\"},\"radialaxis\":{\"gridcolor\":\"white\",\"linecolor\":\"white\",\"ticks\":\"\"}},\"ternary\":{\"bgcolor\":\"#E5ECF6\",\"aaxis\":{\"gridcolor\":\"white\",\"linecolor\":\"white\",\"ticks\":\"\"},\"baxis\":{\"gridcolor\":\"white\",\"linecolor\":\"white\",\"ticks\":\"\"},\"caxis\":{\"gridcolor\":\"white\",\"linecolor\":\"white\",\"ticks\":\"\"}},\"coloraxis\":{\"colorbar\":{\"outlinewidth\":0,\"ticks\":\"\"}},\"colorscale\":{\"sequential\":[[0.0,\"#0d0887\"],[0.1111111111111111,\"#46039f\"],[0.2222222222222222,\"#7201a8\"],[0.3333333333333333,\"#9c179e\"],[0.4444444444444444,\"#bd3786\"],[0.5555555555555556,\"#d8576b\"],[0.6666666666666666,\"#ed7953\"],[0.7777777777777778,\"#fb9f3a\"],[0.8888888888888888,\"#fdca26\"],[1.0,\"#f0f921\"]],\"sequentialminus\":[[0.0,\"#0d0887\"],[0.1111111111111111,\"#46039f\"],[0.2222222222222222,\"#7201a8\"],[0.3333333333333333,\"#9c179e\"],[0.4444444444444444,\"#bd3786\"],[0.5555555555555556,\"#d8576b\"],[0.6666666666666666,\"#ed7953\"],[0.7777777777777778,\"#fb9f3a\"],[0.8888888888888888,\"#fdca26\"],[1.0,\"#f0f921\"]],\"diverging\":[[0,\"#8e0152\"],[0.1,\"#c51b7d\"],[0.2,\"#de77ae\"],[0.3,\"#f1b6da\"],[0.4,\"#fde0ef\"],[0.5,\"#f7f7f7\"],[0.6,\"#e6f5d0\"],[0.7,\"#b8e186\"],[0.8,\"#7fbc41\"],[0.9,\"#4d9221\"],[1,\"#276419\"]]},\"xaxis\":{\"gridcolor\":\"white\",\"linecolor\":\"white\",\"ticks\":\"\",\"title\":{\"standoff\":15},\"zerolinecolor\":\"white\",\"automargin\":true,\"zerolinewidth\":2},\"yaxis\":{\"gridcolor\":\"white\",\"linecolor\":\"white\",\"ticks\":\"\",\"title\":{\"standoff\":15},\"zerolinecolor\":\"white\",\"automargin\":true,\"zerolinewidth\":2},\"scene\":{\"xaxis\":{\"backgroundcolor\":\"#E5ECF6\",\"gridcolor\":\"white\",\"linecolor\":\"white\",\"showbackground\":true,\"ticks\":\"\",\"zerolinecolor\":\"white\",\"gridwidth\":2},\"yaxis\":{\"backgroundcolor\":\"#E5ECF6\",\"gridcolor\":\"white\",\"linecolor\":\"white\",\"showbackground\":true,\"ticks\":\"\",\"zerolinecolor\":\"white\",\"gridwidth\":2},\"zaxis\":{\"backgroundcolor\":\"#E5ECF6\",\"gridcolor\":\"white\",\"linecolor\":\"white\",\"showbackground\":true,\"ticks\":\"\",\"zerolinecolor\":\"white\",\"gridwidth\":2}},\"shapedefaults\":{\"line\":{\"color\":\"#2a3f5f\"}},\"annotationdefaults\":{\"arrowcolor\":\"#2a3f5f\",\"arrowhead\":0,\"arrowwidth\":1},\"geo\":{\"bgcolor\":\"white\",\"landcolor\":\"#E5ECF6\",\"subunitcolor\":\"white\",\"showland\":true,\"showlakes\":true,\"lakecolor\":\"white\"},\"title\":{\"x\":0.05},\"mapbox\":{\"style\":\"light\"}}},\"shapes\":[{\"line\":{\"color\":\"black\",\"width\":1},\"type\":\"line\",\"x0\":0,\"x1\":0,\"y0\":0,\"y1\":9},{\"line\":{\"color\":\"black\",\"width\":1},\"type\":\"line\",\"x0\":1,\"x1\":1,\"y0\":0,\"y1\":9},{\"line\":{\"color\":\"black\",\"width\":1},\"type\":\"line\",\"x0\":2,\"x1\":2,\"y0\":0,\"y1\":9},{\"line\":{\"color\":\"black\",\"width\":1},\"type\":\"line\",\"x0\":3,\"x1\":3,\"y0\":0,\"y1\":9},{\"line\":{\"color\":\"black\",\"width\":1},\"type\":\"line\",\"x0\":4,\"x1\":4,\"y0\":0,\"y1\":9},{\"line\":{\"color\":\"black\",\"width\":1},\"type\":\"line\",\"x0\":0,\"x1\":4,\"y0\":0,\"y1\":0},{\"line\":{\"color\":\"black\",\"width\":1},\"type\":\"line\",\"x0\":0,\"x1\":4,\"y0\":1,\"y1\":1},{\"line\":{\"color\":\"black\",\"width\":1},\"type\":\"line\",\"x0\":0,\"x1\":4,\"y0\":2,\"y1\":2},{\"line\":{\"color\":\"black\",\"width\":1},\"type\":\"line\",\"x0\":0,\"x1\":4,\"y0\":3,\"y1\":3},{\"line\":{\"color\":\"black\",\"width\":1},\"type\":\"line\",\"x0\":0,\"x1\":4,\"y0\":4,\"y1\":4},{\"line\":{\"color\":\"black\",\"width\":1},\"type\":\"line\",\"x0\":0,\"x1\":4,\"y0\":5,\"y1\":5},{\"line\":{\"color\":\"black\",\"width\":1},\"type\":\"line\",\"x0\":0,\"x1\":4,\"y0\":6,\"y1\":6},{\"line\":{\"color\":\"black\",\"width\":1},\"type\":\"line\",\"x0\":0,\"x1\":4,\"y0\":7,\"y1\":7},{\"line\":{\"color\":\"black\",\"width\":1},\"type\":\"line\",\"x0\":0,\"x1\":4,\"y0\":8,\"y1\":8},{\"line\":{\"color\":\"black\",\"width\":1},\"type\":\"line\",\"x0\":0,\"x1\":4,\"y0\":9,\"y1\":9}],\"xaxis\":{\"tickvals\":[0,1,2,3,4],\"ticktext\":[\"A1\",\"A2\",\"A3\",\"A4\",\"A5\"],\"range\":[-0.5,4.5],\"showticklabels\":true,\"title\":{\"text\":\"Aisle\"}},\"yaxis\":{\"tickvals\":[0,1,2,3,4,5,6,7,8,9],\"ticktext\":[1,2,3,4,5,6,7,8,9,10],\"range\":[-0.5,9.5],\"showticklabels\":true,\"title\":{\"text\":\"Shelf\"},\"scaleanchor\":\"x\"},\"margin\":{\"l\":20,\"r\":20,\"t\":40,\"b\":20},\"title\":{\"text\":\"Warehouse Layout\"},\"showlegend\":true,\"width\":800,\"height\":800},                        {\"responsive\": true}                    ).then(function(){\n",
              "                            \n",
              "var gd = document.getElementById('5946e60b-a7e7-4acd-91a1-115b8b6fc59d');\n",
              "var x = new MutationObserver(function (mutations, observer) {{\n",
              "        var display = window.getComputedStyle(gd).display;\n",
              "        if (!display || display === 'none') {{\n",
              "            console.log([gd, 'removed!']);\n",
              "            Plotly.purge(gd);\n",
              "            observer.disconnect();\n",
              "        }}\n",
              "}});\n",
              "\n",
              "// Listen for the removal of the full notebook cells\n",
              "var notebookContainer = gd.closest('#notebook-container');\n",
              "if (notebookContainer) {{\n",
              "    x.observe(notebookContainer, {childList: true});\n",
              "}}\n",
              "\n",
              "// Listen for the clearing of the current output cell\n",
              "var outputEl = gd.closest('.output');\n",
              "if (outputEl) {{\n",
              "    x.observe(outputEl, {childList: true});\n",
              "}}\n",
              "\n",
              "                        })                };                            </script>        </div>\n",
              "</body>\n",
              "</html>"
            ]
          },
          "metadata": {}
        }
      ]
    },
    {
      "cell_type": "markdown",
      "source": [
        "#### storing the products in a list"
      ],
      "metadata": {
        "id": "mMk0j7Yq3T0W"
      },
      "id": "mMk0j7Yq3T0W"
    },
    {
      "cell_type": "markdown",
      "source": [
        "#### searching by SKU Stock keeping unit id"
      ],
      "metadata": {
        "id": "E2BT-HD15cB6"
      },
      "id": "E2BT-HD15cB6"
    },
    {
      "cell_type": "code",
      "source": [
        "def add(b):\n",
        "  l.append(skus.value)\n",
        "  with output2:\n",
        "    #output2.clear_output(wait=True)\n",
        "    print(l)\n",
        "def clr(b):\n",
        "  l.clear()\n",
        "  with output2:\n",
        "    output2.clear_output(wait=True)\n",
        "    print(l)"
      ],
      "metadata": {
        "id": "gVqnWr7x79cA"
      },
      "id": "gVqnWr7x79cA",
      "execution_count": null,
      "outputs": []
    },
    {
      "cell_type": "code",
      "source": [
        "unique_sku=list(df['SKU'].unique())\n",
        "output2=widgets.Output()\n",
        "skus=widgets.Combobox(\n",
        "      placeholder='Choose product',\n",
        "      options=unique_sku,\n",
        "      description='product:',\n",
        "      disabled=False\n",
        "      )\n",
        "button2= widgets.Button(\n",
        "    description='add product',\n",
        "    disabled=False,\n",
        "    button_style='', # 'success', 'info', 'warning', 'danger' or ''\n",
        "    tooltip='Click me',\n",
        "    icon='check' # (FontAwesome names without the `fa-` prefix)\n",
        ")\n",
        "button3= widgets.Button(\n",
        "    description='clear list',\n",
        "    disabled=False,\n",
        ")\n",
        "global l\n",
        "l=[]\n",
        "def find_product(b):\n",
        "    selected_sku = skus.value\n",
        "    if selected_sku:\n",
        "        with output2:\n",
        "            output2.clear_output(wait=True)\n",
        "            display(df[df[\"SKU\"]==selected_sku])\n",
        "\n",
        "\n",
        "# Function to clear the list and output\n",
        "def clr(b):\n",
        "    global l\n",
        "    l.clear()\n",
        "    with output2:\n",
        "        output2.clear_output()\n",
        "        print(\"SKU list cleared\")\n",
        "display(skus,output2)\n",
        "display(button2)\n",
        "button2.on_click(find_product)\n",
        "#display(button3)\n",
        "#button2.on_click(clr)"
      ],
      "metadata": {
        "id": "6OaoHfzA3Y7-",
        "colab": {
          "base_uri": "https://localhost:8080/",
          "height": 145,
          "referenced_widgets": [
            "7c8d1e4bc6444e40b611ce8a10eef5fc",
            "96590aa9390c4b508fdbe88c40e9db0a",
            "9097f3f05136494eacec45649dbdb938",
            "3728dfe48f4440759aef7cc0e64d8b25",
            "1c87afa125ab450dbf5c72f6abf49a5d",
            "8e4e7343db2c4fcaa28acbb0a9ad0963",
            "4d521b1804d14544a4c954cff89412d9",
            "33f7af45629d4b39bc53ecde107b3199"
          ]
        },
        "outputId": "38030628-4b5d-4e4b-d854-b874b24d50f6"
      },
      "id": "6OaoHfzA3Y7-",
      "execution_count": null,
      "outputs": [
        {
          "output_type": "display_data",
          "data": {
            "text/plain": [
              "Combobox(value='', description='product:', options=('SKU1000', 'SKU1001', 'SKU1002', 'SKU1003', 'SKU1004', 'SK…"
            ],
            "application/vnd.jupyter.widget-view+json": {
              "version_major": 2,
              "version_minor": 0,
              "model_id": "7c8d1e4bc6444e40b611ce8a10eef5fc"
            }
          },
          "metadata": {}
        },
        {
          "output_type": "display_data",
          "data": {
            "text/plain": [
              "Output()"
            ],
            "application/vnd.jupyter.widget-view+json": {
              "version_major": 2,
              "version_minor": 0,
              "model_id": "3728dfe48f4440759aef7cc0e64d8b25"
            }
          },
          "metadata": {}
        },
        {
          "output_type": "display_data",
          "data": {
            "text/plain": [
              "Button(description='add product', icon='check', style=ButtonStyle(), tooltip='Click me')"
            ],
            "application/vnd.jupyter.widget-view+json": {
              "version_major": 2,
              "version_minor": 0,
              "model_id": "8e4e7343db2c4fcaa28acbb0a9ad0963"
            }
          },
          "metadata": {}
        }
      ]
    },
    {
      "cell_type": "markdown",
      "source": [
        "#### finding the shortest path to all the products"
      ],
      "metadata": {
        "id": "1Sg-m1-TSo4l"
      },
      "id": "1Sg-m1-TSo4l"
    },
    {
      "cell_type": "code",
      "source": [
        "def find_path():\n",
        "  pass"
      ],
      "metadata": {
        "id": "AodwmQ8oSxXm"
      },
      "id": "AodwmQ8oSxXm",
      "execution_count": null,
      "outputs": []
    },
    {
      "cell_type": "code",
      "source": [],
      "metadata": {
        "id": "bO9SzaFfBc1u"
      },
      "id": "bO9SzaFfBc1u",
      "execution_count": null,
      "outputs": []
    }
  ],
  "metadata": {
    "kernelspec": {
      "display_name": "Python 3 (ipykernel)",
      "language": "python",
      "name": "python3"
    },
    "language_info": {
      "codemirror_mode": {
        "name": "ipython",
        "version": 3
      },
      "file_extension": ".py",
      "mimetype": "text/x-python",
      "name": "python",
      "nbconvert_exporter": "python",
      "pygments_lexer": "ipython3",
      "version": "3.11.7"
    },
    "colab": {
      "provenance": []
    },
    "widgets": {
      "application/vnd.jupyter.widget-state+json": {
        "4b28a72c86ec4cb99a09f8737ca8f7cb": {
          "model_module": "@jupyter-widgets/controls",
          "model_name": "DropdownModel",
          "model_module_version": "1.5.0",
          "state": {
            "_dom_classes": [],
            "_model_module": "@jupyter-widgets/controls",
            "_model_module_version": "1.5.0",
            "_model_name": "DropdownModel",
            "_options_labels": [
              "A1",
              "A2",
              "A3",
              "A4",
              "A5"
            ],
            "_view_count": null,
            "_view_module": "@jupyter-widgets/controls",
            "_view_module_version": "1.5.0",
            "_view_name": "DropdownView",
            "description": "Aisle:",
            "description_tooltip": null,
            "disabled": false,
            "index": 0,
            "layout": "IPY_MODEL_3051b0da6e174f0c8a2c6aeba7ffa084",
            "style": "IPY_MODEL_3cc9e55f60dd46fa9252dad26bae9394"
          }
        },
        "3051b0da6e174f0c8a2c6aeba7ffa084": {
          "model_module": "@jupyter-widgets/base",
          "model_name": "LayoutModel",
          "model_module_version": "1.2.0",
          "state": {
            "_model_module": "@jupyter-widgets/base",
            "_model_module_version": "1.2.0",
            "_model_name": "LayoutModel",
            "_view_count": null,
            "_view_module": "@jupyter-widgets/base",
            "_view_module_version": "1.2.0",
            "_view_name": "LayoutView",
            "align_content": null,
            "align_items": null,
            "align_self": null,
            "border": null,
            "bottom": null,
            "display": null,
            "flex": null,
            "flex_flow": null,
            "grid_area": null,
            "grid_auto_columns": null,
            "grid_auto_flow": null,
            "grid_auto_rows": null,
            "grid_column": null,
            "grid_gap": null,
            "grid_row": null,
            "grid_template_areas": null,
            "grid_template_columns": null,
            "grid_template_rows": null,
            "height": null,
            "justify_content": null,
            "justify_items": null,
            "left": null,
            "margin": null,
            "max_height": null,
            "max_width": null,
            "min_height": null,
            "min_width": null,
            "object_fit": null,
            "object_position": null,
            "order": null,
            "overflow": null,
            "overflow_x": null,
            "overflow_y": null,
            "padding": null,
            "right": null,
            "top": null,
            "visibility": null,
            "width": null
          }
        },
        "3cc9e55f60dd46fa9252dad26bae9394": {
          "model_module": "@jupyter-widgets/controls",
          "model_name": "DescriptionStyleModel",
          "model_module_version": "1.5.0",
          "state": {
            "_model_module": "@jupyter-widgets/controls",
            "_model_module_version": "1.5.0",
            "_model_name": "DescriptionStyleModel",
            "_view_count": null,
            "_view_module": "@jupyter-widgets/base",
            "_view_module_version": "1.2.0",
            "_view_name": "StyleView",
            "description_width": ""
          }
        },
        "a93799eafda8419880e82693c3ccd1bc": {
          "model_module": "@jupyter-widgets/output",
          "model_name": "OutputModel",
          "model_module_version": "1.0.0",
          "state": {
            "_dom_classes": [],
            "_model_module": "@jupyter-widgets/output",
            "_model_module_version": "1.0.0",
            "_model_name": "OutputModel",
            "_view_count": null,
            "_view_module": "@jupyter-widgets/output",
            "_view_module_version": "1.0.0",
            "_view_name": "OutputView",
            "layout": "IPY_MODEL_5443e18f423142e58d995eae6142f684",
            "msg_id": "",
            "outputs": [
              {
                "output_type": "display_data",
                "data": {
                  "text/plain": "<Figure size 800x400 with 1 Axes>",
                  "image/png": "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\n"
                },
                "metadata": {}
              }
            ]
          }
        },
        "54cfab4a88ab4e0a82401a4d75e265d9": {
          "model_module": "@jupyter-widgets/controls",
          "model_name": "DropdownModel",
          "model_module_version": "1.5.0",
          "state": {
            "_dom_classes": [],
            "_model_module": "@jupyter-widgets/controls",
            "_model_module_version": "1.5.0",
            "_model_name": "DropdownModel",
            "_options_labels": [
              "Pen Set",
              "Highlighter Pack",
              "Stapler",
              "Sticky Notes",
              "Notebook"
            ],
            "_view_count": null,
            "_view_module": "@jupyter-widgets/controls",
            "_view_module_version": "1.5.0",
            "_view_name": "DropdownView",
            "description": "product:",
            "description_tooltip": null,
            "disabled": false,
            "index": 0,
            "layout": "IPY_MODEL_e68cfe777ab24101aa01a14379e8e8ff",
            "style": "IPY_MODEL_3fdbf841b9994b2f9dd5e97a971ab64f"
          }
        },
        "5443e18f423142e58d995eae6142f684": {
          "model_module": "@jupyter-widgets/base",
          "model_name": "LayoutModel",
          "model_module_version": "1.2.0",
          "state": {
            "_model_module": "@jupyter-widgets/base",
            "_model_module_version": "1.2.0",
            "_model_name": "LayoutModel",
            "_view_count": null,
            "_view_module": "@jupyter-widgets/base",
            "_view_module_version": "1.2.0",
            "_view_name": "LayoutView",
            "align_content": null,
            "align_items": null,
            "align_self": null,
            "border": null,
            "bottom": null,
            "display": null,
            "flex": null,
            "flex_flow": null,
            "grid_area": null,
            "grid_auto_columns": null,
            "grid_auto_flow": null,
            "grid_auto_rows": null,
            "grid_column": null,
            "grid_gap": null,
            "grid_row": null,
            "grid_template_areas": null,
            "grid_template_columns": null,
            "grid_template_rows": null,
            "height": null,
            "justify_content": null,
            "justify_items": null,
            "left": null,
            "margin": null,
            "max_height": null,
            "max_width": null,
            "min_height": null,
            "min_width": null,
            "object_fit": null,
            "object_position": null,
            "order": null,
            "overflow": null,
            "overflow_x": null,
            "overflow_y": null,
            "padding": null,
            "right": null,
            "top": null,
            "visibility": null,
            "width": null
          }
        },
        "e68cfe777ab24101aa01a14379e8e8ff": {
          "model_module": "@jupyter-widgets/base",
          "model_name": "LayoutModel",
          "model_module_version": "1.2.0",
          "state": {
            "_model_module": "@jupyter-widgets/base",
            "_model_module_version": "1.2.0",
            "_model_name": "LayoutModel",
            "_view_count": null,
            "_view_module": "@jupyter-widgets/base",
            "_view_module_version": "1.2.0",
            "_view_name": "LayoutView",
            "align_content": null,
            "align_items": null,
            "align_self": null,
            "border": null,
            "bottom": null,
            "display": null,
            "flex": null,
            "flex_flow": null,
            "grid_area": null,
            "grid_auto_columns": null,
            "grid_auto_flow": null,
            "grid_auto_rows": null,
            "grid_column": null,
            "grid_gap": null,
            "grid_row": null,
            "grid_template_areas": null,
            "grid_template_columns": null,
            "grid_template_rows": null,
            "height": null,
            "justify_content": null,
            "justify_items": null,
            "left": null,
            "margin": null,
            "max_height": null,
            "max_width": null,
            "min_height": null,
            "min_width": null,
            "object_fit": null,
            "object_position": null,
            "order": null,
            "overflow": null,
            "overflow_x": null,
            "overflow_y": null,
            "padding": null,
            "right": null,
            "top": null,
            "visibility": null,
            "width": null
          }
        },
        "3fdbf841b9994b2f9dd5e97a971ab64f": {
          "model_module": "@jupyter-widgets/controls",
          "model_name": "DescriptionStyleModel",
          "model_module_version": "1.5.0",
          "state": {
            "_model_module": "@jupyter-widgets/controls",
            "_model_module_version": "1.5.0",
            "_model_name": "DescriptionStyleModel",
            "_view_count": null,
            "_view_module": "@jupyter-widgets/base",
            "_view_module_version": "1.2.0",
            "_view_name": "StyleView",
            "description_width": ""
          }
        },
        "7de6b91c071d4bbe8ea8062b80ca7855": {
          "model_module": "@jupyter-widgets/controls",
          "model_name": "ButtonModel",
          "model_module_version": "1.5.0",
          "state": {
            "_dom_classes": [],
            "_model_module": "@jupyter-widgets/controls",
            "_model_module_version": "1.5.0",
            "_model_name": "ButtonModel",
            "_view_count": null,
            "_view_module": "@jupyter-widgets/controls",
            "_view_module_version": "1.5.0",
            "_view_name": "ButtonView",
            "button_style": "",
            "description": "display quantity",
            "disabled": false,
            "icon": "check",
            "layout": "IPY_MODEL_2ace1380016340d09c20af62bfcfb558",
            "style": "IPY_MODEL_7210a3a2a42c4a83be59f5949fbad3bf",
            "tooltip": "Click me"
          }
        },
        "2ace1380016340d09c20af62bfcfb558": {
          "model_module": "@jupyter-widgets/base",
          "model_name": "LayoutModel",
          "model_module_version": "1.2.0",
          "state": {
            "_model_module": "@jupyter-widgets/base",
            "_model_module_version": "1.2.0",
            "_model_name": "LayoutModel",
            "_view_count": null,
            "_view_module": "@jupyter-widgets/base",
            "_view_module_version": "1.2.0",
            "_view_name": "LayoutView",
            "align_content": null,
            "align_items": null,
            "align_self": null,
            "border": null,
            "bottom": null,
            "display": null,
            "flex": null,
            "flex_flow": null,
            "grid_area": null,
            "grid_auto_columns": null,
            "grid_auto_flow": null,
            "grid_auto_rows": null,
            "grid_column": null,
            "grid_gap": null,
            "grid_row": null,
            "grid_template_areas": null,
            "grid_template_columns": null,
            "grid_template_rows": null,
            "height": null,
            "justify_content": null,
            "justify_items": null,
            "left": null,
            "margin": null,
            "max_height": null,
            "max_width": null,
            "min_height": null,
            "min_width": null,
            "object_fit": null,
            "object_position": null,
            "order": null,
            "overflow": null,
            "overflow_x": null,
            "overflow_y": null,
            "padding": null,
            "right": null,
            "top": null,
            "visibility": null,
            "width": null
          }
        },
        "7210a3a2a42c4a83be59f5949fbad3bf": {
          "model_module": "@jupyter-widgets/controls",
          "model_name": "ButtonStyleModel",
          "model_module_version": "1.5.0",
          "state": {
            "_model_module": "@jupyter-widgets/controls",
            "_model_module_version": "1.5.0",
            "_model_name": "ButtonStyleModel",
            "_view_count": null,
            "_view_module": "@jupyter-widgets/base",
            "_view_module_version": "1.2.0",
            "_view_name": "StyleView",
            "button_color": null,
            "font_weight": ""
          }
        },
        "7c8d1e4bc6444e40b611ce8a10eef5fc": {
          "model_module": "@jupyter-widgets/controls",
          "model_name": "ComboboxModel",
          "model_module_version": "1.5.0",
          "state": {
            "_dom_classes": [],
            "_model_module": "@jupyter-widgets/controls",
            "_model_module_version": "1.5.0",
            "_model_name": "ComboboxModel",
            "_view_count": null,
            "_view_module": "@jupyter-widgets/controls",
            "_view_module_version": "1.5.0",
            "_view_name": "ComboboxView",
            "continuous_update": true,
            "description": "product:",
            "description_tooltip": null,
            "disabled": false,
            "ensure_option": false,
            "layout": "IPY_MODEL_96590aa9390c4b508fdbe88c40e9db0a",
            "options": [
              "SKU1000",
              "SKU1001",
              "SKU1002",
              "SKU1003",
              "SKU1004",
              "SKU1005",
              "SKU1006",
              "SKU1007",
              "SKU1008",
              "SKU1009",
              "SKU1010",
              "SKU1011",
              "SKU1012",
              "SKU1013",
              "SKU1014",
              "SKU1015",
              "SKU1016",
              "SKU1017",
              "SKU1018",
              "SKU1019",
              "SKU1020",
              "SKU1021",
              "SKU1022",
              "SKU1023",
              "SKU1024",
              "SKU1025",
              "SKU1026",
              "SKU1027",
              "SKU1028",
              "SKU1029",
              "SKU1030",
              "SKU1031",
              "SKU1032",
              "SKU1033",
              "SKU1034",
              "SKU1035",
              "SKU1036",
              "SKU1037",
              "SKU1038",
              "SKU1039",
              "SKU1040",
              "SKU1041",
              "SKU1042",
              "SKU1043",
              "SKU1044",
              "SKU1045",
              "SKU1046",
              "SKU1047",
              "SKU1048",
              "SKU1049",
              "SKU1050",
              "SKU1051",
              "SKU1052",
              "SKU1053",
              "SKU1054",
              "SKU1055",
              "SKU1056",
              "SKU1057",
              "SKU1058",
              "SKU1059",
              "SKU1060",
              "SKU1061",
              "SKU1062",
              "SKU1063",
              "SKU1064",
              "SKU1065",
              "SKU1066",
              "SKU1067",
              "SKU1068",
              "SKU1069",
              "SKU1070",
              "SKU1071",
              "SKU1072",
              "SKU1073",
              "SKU1074",
              "SKU1075",
              "SKU1076",
              "SKU1077",
              "SKU1078",
              "SKU1079",
              "SKU1080",
              "SKU1081",
              "SKU1082",
              "SKU1083",
              "SKU1084",
              "SKU1085",
              "SKU1086",
              "SKU1087",
              "SKU1088",
              "SKU1089",
              "SKU1090",
              "SKU1091",
              "SKU1092",
              "SKU1093",
              "SKU1094",
              "SKU1095",
              "SKU1096",
              "SKU1097",
              "SKU1098",
              "SKU1099",
              "SKU1100",
              "SKU1101",
              "SKU1102",
              "SKU1103",
              "SKU1104",
              "SKU1105",
              "SKU1106",
              "SKU1107",
              "SKU1108",
              "SKU1109",
              "SKU1110",
              "SKU1111",
              "SKU1112",
              "SKU1113",
              "SKU1114",
              "SKU1115",
              "SKU1116",
              "SKU1117",
              "SKU1118",
              "SKU1119",
              "SKU1120",
              "SKU1121",
              "SKU1122",
              "SKU1123",
              "SKU1124",
              "SKU1125",
              "SKU1126",
              "SKU1127",
              "SKU1128",
              "SKU1129",
              "SKU1130",
              "SKU1131",
              "SKU1132",
              "SKU1133",
              "SKU1134",
              "SKU1135",
              "SKU1136",
              "SKU1137",
              "SKU1138",
              "SKU1139",
              "SKU1140",
              "SKU1141",
              "SKU1142",
              "SKU1143",
              "SKU1144",
              "SKU1145",
              "SKU1146",
              "SKU1147",
              "SKU1148",
              "SKU1149",
              "SKU1150",
              "SKU1151",
              "SKU1152",
              "SKU1153",
              "SKU1154",
              "SKU1155",
              "SKU1156",
              "SKU1157",
              "SKU1158",
              "SKU1159",
              "SKU1160",
              "SKU1161",
              "SKU1162",
              "SKU1163",
              "SKU1164",
              "SKU1165",
              "SKU1166",
              "SKU1167",
              "SKU1168",
              "SKU1169",
              "SKU1170",
              "SKU1171",
              "SKU1172",
              "SKU1173",
              "SKU1174",
              "SKU1175",
              "SKU1176",
              "SKU1177",
              "SKU1178",
              "SKU1179",
              "SKU1180",
              "SKU1181",
              "SKU1182",
              "SKU1183",
              "SKU1184",
              "SKU1185",
              "SKU1186",
              "SKU1187",
              "SKU1188",
              "SKU1189",
              "SKU1190",
              "SKU1191",
              "SKU1192",
              "SKU1193",
              "SKU1194",
              "SKU1195",
              "SKU1196",
              "SKU1197",
              "SKU1198",
              "SKU1199",
              "SKU1200",
              "SKU1201",
              "SKU1202",
              "SKU1203",
              "SKU1204",
              "SKU1205",
              "SKU1206",
              "SKU1207",
              "SKU1208",
              "SKU1209",
              "SKU1210",
              "SKU1211",
              "SKU1212",
              "SKU1213",
              "SKU1214",
              "SKU1215",
              "SKU1216",
              "SKU1217",
              "SKU1218",
              "SKU1219",
              "SKU1220",
              "SKU1221",
              "SKU1222",
              "SKU1223",
              "SKU1224",
              "SKU1225",
              "SKU1226",
              "SKU1227",
              "SKU1228",
              "SKU1229",
              "SKU1230",
              "SKU1231",
              "SKU1232",
              "SKU1233",
              "SKU1234",
              "SKU1235",
              "SKU1236",
              "SKU1237",
              "SKU1238",
              "SKU1239",
              "SKU1240",
              "SKU1241",
              "SKU1242",
              "SKU1243",
              "SKU1244",
              "SKU1245",
              "SKU1246",
              "SKU1247",
              "SKU1248",
              "SKU1249",
              "SKU1250",
              "SKU1251",
              "SKU1252",
              "SKU1253",
              "SKU1254",
              "SKU1255",
              "SKU1256",
              "SKU1257",
              "SKU1258",
              "SKU1259",
              "SKU1260",
              "SKU1261",
              "SKU1262",
              "SKU1263",
              "SKU1264",
              "SKU1265",
              "SKU1266",
              "SKU1267",
              "SKU1268",
              "SKU1269",
              "SKU1270",
              "SKU1271",
              "SKU1272",
              "SKU1273",
              "SKU1274",
              "SKU1275",
              "SKU1276",
              "SKU1277",
              "SKU1278",
              "SKU1279",
              "SKU1280",
              "SKU1281",
              "SKU1282",
              "SKU1283",
              "SKU1284",
              "SKU1285",
              "SKU1286",
              "SKU1287",
              "SKU1288",
              "SKU1289",
              "SKU1290",
              "SKU1291",
              "SKU1292",
              "SKU1293",
              "SKU1294",
              "SKU1295",
              "SKU1296",
              "SKU1297",
              "SKU1298",
              "SKU1299",
              "SKU1300",
              "SKU1301",
              "SKU1302",
              "SKU1303",
              "SKU1304",
              "SKU1305",
              "SKU1306",
              "SKU1307",
              "SKU1308",
              "SKU1309",
              "SKU1310",
              "SKU1311",
              "SKU1312",
              "SKU1313",
              "SKU1314",
              "SKU1315",
              "SKU1316",
              "SKU1317",
              "SKU1318",
              "SKU1319",
              "SKU1320",
              "SKU1321",
              "SKU1322",
              "SKU1323",
              "SKU1324",
              "SKU1325",
              "SKU1326",
              "SKU1327",
              "SKU1328",
              "SKU1329",
              "SKU1330",
              "SKU1331",
              "SKU1332",
              "SKU1333",
              "SKU1334",
              "SKU1335",
              "SKU1336",
              "SKU1337",
              "SKU1338",
              "SKU1339",
              "SKU1340",
              "SKU1341",
              "SKU1342",
              "SKU1343",
              "SKU1344",
              "SKU1345",
              "SKU1346",
              "SKU1347",
              "SKU1348",
              "SKU1349",
              "SKU1350",
              "SKU1351",
              "SKU1352",
              "SKU1353",
              "SKU1354",
              "SKU1355",
              "SKU1356",
              "SKU1357",
              "SKU1358",
              "SKU1359",
              "SKU1360",
              "SKU1361",
              "SKU1362",
              "SKU1363",
              "SKU1364",
              "SKU1365",
              "SKU1366",
              "SKU1367",
              "SKU1368",
              "SKU1369",
              "SKU1370",
              "SKU1371",
              "SKU1372",
              "SKU1373",
              "SKU1374",
              "SKU1375",
              "SKU1376",
              "SKU1377",
              "SKU1378",
              "SKU1379",
              "SKU1380",
              "SKU1381",
              "SKU1382",
              "SKU1383",
              "SKU1384",
              "SKU1385",
              "SKU1386",
              "SKU1387",
              "SKU1388",
              "SKU1389",
              "SKU1390",
              "SKU1391",
              "SKU1392",
              "SKU1393",
              "SKU1394",
              "SKU1395",
              "SKU1396",
              "SKU1397",
              "SKU1398",
              "SKU1399",
              "SKU1400",
              "SKU1401",
              "SKU1402",
              "SKU1403",
              "SKU1404",
              "SKU1405",
              "SKU1406",
              "SKU1407",
              "SKU1408",
              "SKU1409",
              "SKU1410",
              "SKU1411",
              "SKU1412",
              "SKU1413",
              "SKU1414",
              "SKU1415",
              "SKU1416",
              "SKU1417",
              "SKU1418",
              "SKU1419",
              "SKU1420",
              "SKU1421",
              "SKU1422",
              "SKU1423",
              "SKU1424",
              "SKU1425",
              "SKU1426",
              "SKU1427",
              "SKU1428",
              "SKU1429",
              "SKU1430",
              "SKU1431",
              "SKU1432",
              "SKU1433",
              "SKU1434",
              "SKU1435",
              "SKU1436",
              "SKU1437",
              "SKU1438",
              "SKU1439",
              "SKU1440",
              "SKU1441",
              "SKU1442",
              "SKU1443",
              "SKU1444",
              "SKU1445",
              "SKU1446",
              "SKU1447",
              "SKU1448",
              "SKU1449",
              "SKU1450",
              "SKU1451",
              "SKU1452",
              "SKU1453",
              "SKU1454",
              "SKU1455",
              "SKU1456",
              "SKU1457",
              "SKU1458",
              "SKU1459",
              "SKU1460",
              "SKU1461",
              "SKU1462",
              "SKU1463",
              "SKU1464",
              "SKU1465",
              "SKU1466",
              "SKU1467",
              "SKU1468",
              "SKU1469",
              "SKU1470",
              "SKU1471",
              "SKU1472",
              "SKU1473",
              "SKU1474",
              "SKU1475",
              "SKU1476",
              "SKU1477",
              "SKU1478",
              "SKU1479",
              "SKU1480",
              "SKU1481",
              "SKU1482",
              "SKU1483",
              "SKU1484",
              "SKU1485",
              "SKU1486",
              "SKU1487",
              "SKU1488",
              "SKU1489",
              "SKU1490",
              "SKU1491",
              "SKU1492",
              "SKU1493",
              "SKU1494",
              "SKU1495",
              "SKU1496",
              "SKU1497",
              "SKU1498",
              "SKU1499"
            ],
            "placeholder": "Choose product",
            "style": "IPY_MODEL_9097f3f05136494eacec45649dbdb938",
            "value": "SKU1015"
          }
        },
        "96590aa9390c4b508fdbe88c40e9db0a": {
          "model_module": "@jupyter-widgets/base",
          "model_name": "LayoutModel",
          "model_module_version": "1.2.0",
          "state": {
            "_model_module": "@jupyter-widgets/base",
            "_model_module_version": "1.2.0",
            "_model_name": "LayoutModel",
            "_view_count": null,
            "_view_module": "@jupyter-widgets/base",
            "_view_module_version": "1.2.0",
            "_view_name": "LayoutView",
            "align_content": null,
            "align_items": null,
            "align_self": null,
            "border": null,
            "bottom": null,
            "display": null,
            "flex": null,
            "flex_flow": null,
            "grid_area": null,
            "grid_auto_columns": null,
            "grid_auto_flow": null,
            "grid_auto_rows": null,
            "grid_column": null,
            "grid_gap": null,
            "grid_row": null,
            "grid_template_areas": null,
            "grid_template_columns": null,
            "grid_template_rows": null,
            "height": null,
            "justify_content": null,
            "justify_items": null,
            "left": null,
            "margin": null,
            "max_height": null,
            "max_width": null,
            "min_height": null,
            "min_width": null,
            "object_fit": null,
            "object_position": null,
            "order": null,
            "overflow": null,
            "overflow_x": null,
            "overflow_y": null,
            "padding": null,
            "right": null,
            "top": null,
            "visibility": null,
            "width": null
          }
        },
        "9097f3f05136494eacec45649dbdb938": {
          "model_module": "@jupyter-widgets/controls",
          "model_name": "DescriptionStyleModel",
          "model_module_version": "1.5.0",
          "state": {
            "_model_module": "@jupyter-widgets/controls",
            "_model_module_version": "1.5.0",
            "_model_name": "DescriptionStyleModel",
            "_view_count": null,
            "_view_module": "@jupyter-widgets/base",
            "_view_module_version": "1.2.0",
            "_view_name": "StyleView",
            "description_width": ""
          }
        },
        "3728dfe48f4440759aef7cc0e64d8b25": {
          "model_module": "@jupyter-widgets/output",
          "model_name": "OutputModel",
          "model_module_version": "1.0.0",
          "state": {
            "_dom_classes": [],
            "_model_module": "@jupyter-widgets/output",
            "_model_module_version": "1.0.0",
            "_model_name": "OutputModel",
            "_view_count": null,
            "_view_module": "@jupyter-widgets/output",
            "_view_module_version": "1.0.0",
            "_view_name": "OutputView",
            "layout": "IPY_MODEL_1c87afa125ab450dbf5c72f6abf49a5d",
            "msg_id": "",
            "outputs": [
              {
                "output_type": "display_data",
                "data": {
                  "text/plain": "        SKU  Product Name     Category  Quantity Aisle  Shelf  Bin  \\\n15  SKU1015  Water Bottle  Accessories        18    A3     10   10   \n\n    Reorder Level  \n15             10  ",
                  "text/html": "\n  <div id=\"df-00e94089-a3d3-424c-8399-e8b62085e658\" class=\"colab-df-container\">\n    <div>\n<style scoped>\n    .dataframe tbody tr th:only-of-type {\n        vertical-align: middle;\n    }\n\n    .dataframe tbody tr th {\n        vertical-align: top;\n    }\n\n    .dataframe thead th {\n        text-align: right;\n    }\n</style>\n<table border=\"1\" class=\"dataframe\">\n  <thead>\n    <tr style=\"text-align: right;\">\n      <th></th>\n      <th>SKU</th>\n      <th>Product Name</th>\n      <th>Category</th>\n      <th>Quantity</th>\n      <th>Aisle</th>\n      <th>Shelf</th>\n      <th>Bin</th>\n      <th>Reorder Level</th>\n    </tr>\n  </thead>\n  <tbody>\n    <tr>\n      <th>15</th>\n      <td>SKU1015</td>\n      <td>Water Bottle</td>\n      <td>Accessories</td>\n      <td>18</td>\n      <td>A3</td>\n      <td>10</td>\n      <td>10</td>\n      <td>10</td>\n    </tr>\n  </tbody>\n</table>\n</div>\n    <div class=\"colab-df-buttons\">\n\n  <div class=\"colab-df-container\">\n    <button class=\"colab-df-convert\" onclick=\"convertToInteractive('df-00e94089-a3d3-424c-8399-e8b62085e658')\"\n            title=\"Convert this dataframe to an interactive table.\"\n            style=\"display:none;\">\n\n  <svg xmlns=\"http://www.w3.org/2000/svg\" height=\"24px\" viewBox=\"0 -960 960 960\">\n    <path d=\"M120-120v-720h720v720H120Zm60-500h600v-160H180v160Zm220 220h160v-160H400v160Zm0 220h160v-160H400v160ZM180-400h160v-160H180v160Zm440 0h160v-160H620v160ZM180-180h160v-160H180v160Zm440 0h160v-160H620v160Z\"/>\n  </svg>\n    </button>\n\n  <style>\n    .colab-df-container {\n      display:flex;\n      gap: 12px;\n    }\n\n    .colab-df-convert {\n      background-color: #E8F0FE;\n      border: none;\n      border-radius: 50%;\n      cursor: pointer;\n      display: none;\n      fill: #1967D2;\n      height: 32px;\n      padding: 0 0 0 0;\n      width: 32px;\n    }\n\n    .colab-df-convert:hover {\n      background-color: #E2EBFA;\n      box-shadow: 0px 1px 2px rgba(60, 64, 67, 0.3), 0px 1px 3px 1px rgba(60, 64, 67, 0.15);\n      fill: #174EA6;\n    }\n\n    .colab-df-buttons div {\n      margin-bottom: 4px;\n    }\n\n    [theme=dark] .colab-df-convert {\n      background-color: #3B4455;\n      fill: #D2E3FC;\n    }\n\n    [theme=dark] .colab-df-convert:hover {\n      background-color: #434B5C;\n      box-shadow: 0px 1px 3px 1px rgba(0, 0, 0, 0.15);\n      filter: drop-shadow(0px 1px 2px rgba(0, 0, 0, 0.3));\n      fill: #FFFFFF;\n    }\n  </style>\n\n    <script>\n      const buttonEl =\n        document.querySelector('#df-00e94089-a3d3-424c-8399-e8b62085e658 button.colab-df-convert');\n      buttonEl.style.display =\n        google.colab.kernel.accessAllowed ? 'block' : 'none';\n\n      async function convertToInteractive(key) {\n        const element = document.querySelector('#df-00e94089-a3d3-424c-8399-e8b62085e658');\n        const dataTable =\n          await google.colab.kernel.invokeFunction('convertToInteractive',\n                                                    [key], {});\n        if (!dataTable) return;\n\n        const docLinkHtml = 'Like what you see? Visit the ' +\n          '<a target=\"_blank\" href=https://colab.research.google.com/notebooks/data_table.ipynb>data table notebook</a>'\n          + ' to learn more about interactive tables.';\n        element.innerHTML = '';\n        dataTable['output_type'] = 'display_data';\n        await google.colab.output.renderOutput(dataTable, element);\n        const docLink = document.createElement('div');\n        docLink.innerHTML = docLinkHtml;\n        element.appendChild(docLink);\n      }\n    </script>\n  </div>\n\n\n    </div>\n  </div>\n",
                  "application/vnd.google.colaboratory.intrinsic+json": {
                    "type": "dataframe",
                    "summary": "{\n  \"name\": \"#button2\",\n  \"rows\": 1,\n  \"fields\": [\n    {\n      \"column\": \"SKU\",\n      \"properties\": {\n        \"dtype\": \"string\",\n        \"num_unique_values\": 1,\n        \"samples\": [\n          \"SKU1015\"\n        ],\n        \"semantic_type\": \"\",\n        \"description\": \"\"\n      }\n    },\n    {\n      \"column\": \"Product Name\",\n      \"properties\": {\n        \"dtype\": \"string\",\n        \"num_unique_values\": 1,\n        \"samples\": [\n          \"Water Bottle\"\n        ],\n        \"semantic_type\": \"\",\n        \"description\": \"\"\n      }\n    },\n    {\n      \"column\": \"Category\",\n      \"properties\": {\n        \"dtype\": \"string\",\n        \"num_unique_values\": 1,\n        \"samples\": [\n          \"Accessories\"\n        ],\n        \"semantic_type\": \"\",\n        \"description\": \"\"\n      }\n    },\n    {\n      \"column\": \"Quantity\",\n      \"properties\": {\n        \"dtype\": \"number\",\n        \"std\": null,\n        \"min\": 18,\n        \"max\": 18,\n        \"num_unique_values\": 1,\n        \"samples\": [\n          18\n        ],\n        \"semantic_type\": \"\",\n        \"description\": \"\"\n      }\n    },\n    {\n      \"column\": \"Aisle\",\n      \"properties\": {\n        \"dtype\": \"string\",\n        \"num_unique_values\": 1,\n        \"samples\": [\n          \"A3\"\n        ],\n        \"semantic_type\": \"\",\n        \"description\": \"\"\n      }\n    },\n    {\n      \"column\": \"Shelf\",\n      \"properties\": {\n        \"dtype\": \"number\",\n        \"std\": null,\n        \"min\": 10,\n        \"max\": 10,\n        \"num_unique_values\": 1,\n        \"samples\": [\n          10\n        ],\n        \"semantic_type\": \"\",\n        \"description\": \"\"\n      }\n    },\n    {\n      \"column\": \"Bin\",\n      \"properties\": {\n        \"dtype\": \"number\",\n        \"std\": null,\n        \"min\": 10,\n        \"max\": 10,\n        \"num_unique_values\": 1,\n        \"samples\": [\n          10\n        ],\n        \"semantic_type\": \"\",\n        \"description\": \"\"\n      }\n    },\n    {\n      \"column\": \"Reorder Level\",\n      \"properties\": {\n        \"dtype\": \"number\",\n        \"std\": null,\n        \"min\": 10,\n        \"max\": 10,\n        \"num_unique_values\": 1,\n        \"samples\": [\n          10\n        ],\n        \"semantic_type\": \"\",\n        \"description\": \"\"\n      }\n    }\n  ]\n}"
                  }
                },
                "metadata": {}
              }
            ]
          }
        },
        "1c87afa125ab450dbf5c72f6abf49a5d": {
          "model_module": "@jupyter-widgets/base",
          "model_name": "LayoutModel",
          "model_module_version": "1.2.0",
          "state": {
            "_model_module": "@jupyter-widgets/base",
            "_model_module_version": "1.2.0",
            "_model_name": "LayoutModel",
            "_view_count": null,
            "_view_module": "@jupyter-widgets/base",
            "_view_module_version": "1.2.0",
            "_view_name": "LayoutView",
            "align_content": null,
            "align_items": null,
            "align_self": null,
            "border": null,
            "bottom": null,
            "display": null,
            "flex": null,
            "flex_flow": null,
            "grid_area": null,
            "grid_auto_columns": null,
            "grid_auto_flow": null,
            "grid_auto_rows": null,
            "grid_column": null,
            "grid_gap": null,
            "grid_row": null,
            "grid_template_areas": null,
            "grid_template_columns": null,
            "grid_template_rows": null,
            "height": null,
            "justify_content": null,
            "justify_items": null,
            "left": null,
            "margin": null,
            "max_height": null,
            "max_width": null,
            "min_height": null,
            "min_width": null,
            "object_fit": null,
            "object_position": null,
            "order": null,
            "overflow": null,
            "overflow_x": null,
            "overflow_y": null,
            "padding": null,
            "right": null,
            "top": null,
            "visibility": null,
            "width": null
          }
        },
        "8e4e7343db2c4fcaa28acbb0a9ad0963": {
          "model_module": "@jupyter-widgets/controls",
          "model_name": "ButtonModel",
          "model_module_version": "1.5.0",
          "state": {
            "_dom_classes": [],
            "_model_module": "@jupyter-widgets/controls",
            "_model_module_version": "1.5.0",
            "_model_name": "ButtonModel",
            "_view_count": null,
            "_view_module": "@jupyter-widgets/controls",
            "_view_module_version": "1.5.0",
            "_view_name": "ButtonView",
            "button_style": "",
            "description": "add product",
            "disabled": false,
            "icon": "check",
            "layout": "IPY_MODEL_4d521b1804d14544a4c954cff89412d9",
            "style": "IPY_MODEL_33f7af45629d4b39bc53ecde107b3199",
            "tooltip": "Click me"
          }
        },
        "4d521b1804d14544a4c954cff89412d9": {
          "model_module": "@jupyter-widgets/base",
          "model_name": "LayoutModel",
          "model_module_version": "1.2.0",
          "state": {
            "_model_module": "@jupyter-widgets/base",
            "_model_module_version": "1.2.0",
            "_model_name": "LayoutModel",
            "_view_count": null,
            "_view_module": "@jupyter-widgets/base",
            "_view_module_version": "1.2.0",
            "_view_name": "LayoutView",
            "align_content": null,
            "align_items": null,
            "align_self": null,
            "border": null,
            "bottom": null,
            "display": null,
            "flex": null,
            "flex_flow": null,
            "grid_area": null,
            "grid_auto_columns": null,
            "grid_auto_flow": null,
            "grid_auto_rows": null,
            "grid_column": null,
            "grid_gap": null,
            "grid_row": null,
            "grid_template_areas": null,
            "grid_template_columns": null,
            "grid_template_rows": null,
            "height": null,
            "justify_content": null,
            "justify_items": null,
            "left": null,
            "margin": null,
            "max_height": null,
            "max_width": null,
            "min_height": null,
            "min_width": null,
            "object_fit": null,
            "object_position": null,
            "order": null,
            "overflow": null,
            "overflow_x": null,
            "overflow_y": null,
            "padding": null,
            "right": null,
            "top": null,
            "visibility": null,
            "width": null
          }
        },
        "33f7af45629d4b39bc53ecde107b3199": {
          "model_module": "@jupyter-widgets/controls",
          "model_name": "ButtonStyleModel",
          "model_module_version": "1.5.0",
          "state": {
            "_model_module": "@jupyter-widgets/controls",
            "_model_module_version": "1.5.0",
            "_model_name": "ButtonStyleModel",
            "_view_count": null,
            "_view_module": "@jupyter-widgets/base",
            "_view_module_version": "1.2.0",
            "_view_name": "StyleView",
            "button_color": null,
            "font_weight": ""
          }
        }
      }
    }
  },
  "nbformat": 4,
  "nbformat_minor": 5
}